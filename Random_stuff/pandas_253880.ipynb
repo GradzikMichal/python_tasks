{
  "cells": [
    {
      "cell_type": "markdown",
      "metadata": {
        "id": "NXRbuQy0f4yc"
      },
      "source": [
        "<a name=\"top\" id=\"top\"></a>\n",
        "\n",
        "<div align=\"center\">\n",
        "    <h1>Pandas Introduction</h1>\n",
        "    <a href=\"https://github.com/makskliczkowski\">Maksymilian Kliczkowski</a>\n",
        "    <br>\n",
        "    <i>Wroclaw University of Science and Technology</i>\n",
        "    <br>\n",
        "    <br>\n",
        "    <i>The course is intended for Master's students of BDA at Wroclaw University of Science and Technology<i>\n",
        "    <br>\n",
        "        <img src=\"https://colab.research.google.com/assets/colab-badge.svg\" alt=\"Open In Colab\"/>\n",
        "    </a>\n",
        "</div>"
      ]
    },
    {
      "cell_type": "markdown",
      "metadata": {
        "id": "KlvrK-kif4yd"
      },
      "source": [
        "<center><img src=https://c.tenor.com/tIcg38r9_LMAAAAC/hi-hello.gif></center>"
      ]
    },
    {
      "cell_type": "code",
      "execution_count": 3,
      "metadata": {
        "id": "DZHY8R91f4ye"
      },
      "outputs": [],
      "source": [
        "# !pip install numpy\n",
        "# !pip install pandas"
      ]
    },
    {
      "cell_type": "markdown",
      "metadata": {
        "id": "lDqmhM9pf4ye"
      },
      "source": [
        "This notebook is a quick introduction to the numpy and pandas libraries. It is intended to be a quick reference for the most common operations. During this lab, we will create basic Dataframes and manipulate the data in order to find the statistical information. Those operations are probably common bread to all of y'all. Nevertheless, let's go!"
      ]
    },
    {
      "cell_type": "markdown",
      "metadata": {
        "id": "OH8XX3LAf4ye"
      },
      "source": [
        "The first thing we need to do is import the libraries. We will use the standard aliases for these libraries, here goes `pd` :)\n",
        "\n",
        "```python"
      ]
    },
    {
      "cell_type": "code",
      "execution_count": 2,
      "metadata": {
        "colab": {
          "base_uri": "https://localhost:8080/"
        },
        "id": "wjTtrs48f4yf",
        "outputId": "4e7e6694-008d-4b95-a75f-6872f93f540a"
      },
      "outputs": [
        {
          "output_type": "stream",
          "name": "stdout",
          "text": [
            "Mounted at /content/drive\n"
          ]
        }
      ],
      "source": [
        "import pandas as pd\n",
        "import numpy as np\n",
        "from google.colab import drive\n",
        "drive.mount('/content/drive')"
      ]
    },
    {
      "cell_type": "markdown",
      "metadata": {
        "id": "5xAzArbGf4yf"
      },
      "source": [
        "## <center>Basic loading</center>"
      ]
    },
    {
      "cell_type": "markdown",
      "metadata": {
        "id": "x6OVJ3rff4yf"
      },
      "source": [
        "### Task 1 [Big Data - only if you want to experiment with large database]\n",
        "Here we will learn how to do basic reading of Databases. Try it yourself, use syntax `pd.read_csv(...)`. Find out the separator in the database.\n",
        "Load the dataframe about the food facts from url: <https://www.kaggle.com/openfoodfacts/world-food-facts/data> or located in <https://drive.google.com/drive/folders/1IKj8uBoUccq1qStKkruH5SCamyBCqRCZ?usp=drive_link>."
      ]
    },
    {
      "cell_type": "code",
      "execution_count": 8,
      "metadata": {
        "colab": {
          "base_uri": "https://localhost:8080/"
        },
        "id": "JG4vNbgAf4yf",
        "outputId": "ab9c9069-7609-4640-ce20-433f11f7906e"
      },
      "outputs": [
        {
          "output_type": "stream",
          "name": "stderr",
          "text": [
            "<ipython-input-8-df804795a89a>:1: DtypeWarning: Columns (0,3,5,19,20,24,25,26,27,28,36,37,38,39,48) have mixed types. Specify dtype option on import or set low_memory=False.\n",
            "  food = pd.read_csv('/content/drive/MyDrive/Complex labs/Lab1 - Introduction/food/en.openfoodfacts.org.products.tsv', sep='\\t')\n"
          ]
        }
      ],
      "source": [
        "food = pd.read_csv('/content/drive/MyDrive/Complex labs/Lab1 - Introduction/food/en.openfoodfacts.org.products.tsv', sep='\\t')"
      ]
    },
    {
      "cell_type": "markdown",
      "metadata": {
        "id": "cPwMV0Xyf4yf"
      },
      "source": [
        "Loading the dataframe has to normally include the information about the separator and the location of the DataFrame. It has more options tho' and whenever we know how many rows to skip in the original file, or which columns to use as an index, we can use those parameters in the read_csv function. For more parameters in the loading go on and open the [link](https://pandas.pydata.org/docs/reference/api/pandas.read_csv.html)."
      ]
    },
    {
      "cell_type": "markdown",
      "metadata": {
        "id": "ij5t3k47f4yg"
      },
      "source": [
        "#### a) Check the first and last ${last_idx_num + 1} elements\n",
        "As `last_idx_num` input your last index number."
      ]
    },
    {
      "cell_type": "code",
      "execution_count": 10,
      "metadata": {
        "id": "QiLSMb_cf4yg"
      },
      "outputs": [],
      "source": [
        "last_idx_num = 0"
      ]
    },
    {
      "cell_type": "code",
      "execution_count": 11,
      "metadata": {
        "colab": {
          "base_uri": "https://localhost:8080/",
          "height": 200
        },
        "id": "LD8U9tb2f4yg",
        "outputId": "97a997aa-2935-4f74-b19a-5c0c646d278b"
      },
      "outputs": [
        {
          "output_type": "execute_result",
          "data": {
            "text/plain": [
              "   code                                                url  \\\n",
              "0  3087  http://world-en.openfoodfacts.org/product/0000...   \n",
              "\n",
              "                      creator   created_t      created_datetime  \\\n",
              "0  openfoodfacts-contributors  1474103866  2016-09-17T09:17:46Z   \n",
              "\n",
              "  last_modified_t last_modified_datetime        product_name generic_name  \\\n",
              "0      1474103893   2016-09-17T09:18:13Z  Farine de blé noir          NaN   \n",
              "\n",
              "  quantity  ... fruits-vegetables-nuts_100g  \\\n",
              "0      1kg  ...                         NaN   \n",
              "\n",
              "  fruits-vegetables-nuts-estimate_100g collagen-meat-protein-ratio_100g  \\\n",
              "0                                  NaN                              NaN   \n",
              "\n",
              "  cocoa_100g chlorophyl_100g carbon-footprint_100g nutrition-score-fr_100g  \\\n",
              "0        NaN             NaN                   NaN                     NaN   \n",
              "\n",
              "  nutrition-score-uk_100g glycemic-index_100g water-hardness_100g  \n",
              "0                     NaN                 NaN                 NaN  \n",
              "\n",
              "[1 rows x 163 columns]"
            ],
            "text/html": [
              "\n",
              "  <div id=\"df-788a90cd-f891-45c6-8ed1-a097bb21f35e\" class=\"colab-df-container\">\n",
              "    <div>\n",
              "<style scoped>\n",
              "    .dataframe tbody tr th:only-of-type {\n",
              "        vertical-align: middle;\n",
              "    }\n",
              "\n",
              "    .dataframe tbody tr th {\n",
              "        vertical-align: top;\n",
              "    }\n",
              "\n",
              "    .dataframe thead th {\n",
              "        text-align: right;\n",
              "    }\n",
              "</style>\n",
              "<table border=\"1\" class=\"dataframe\">\n",
              "  <thead>\n",
              "    <tr style=\"text-align: right;\">\n",
              "      <th></th>\n",
              "      <th>code</th>\n",
              "      <th>url</th>\n",
              "      <th>creator</th>\n",
              "      <th>created_t</th>\n",
              "      <th>created_datetime</th>\n",
              "      <th>last_modified_t</th>\n",
              "      <th>last_modified_datetime</th>\n",
              "      <th>product_name</th>\n",
              "      <th>generic_name</th>\n",
              "      <th>quantity</th>\n",
              "      <th>...</th>\n",
              "      <th>fruits-vegetables-nuts_100g</th>\n",
              "      <th>fruits-vegetables-nuts-estimate_100g</th>\n",
              "      <th>collagen-meat-protein-ratio_100g</th>\n",
              "      <th>cocoa_100g</th>\n",
              "      <th>chlorophyl_100g</th>\n",
              "      <th>carbon-footprint_100g</th>\n",
              "      <th>nutrition-score-fr_100g</th>\n",
              "      <th>nutrition-score-uk_100g</th>\n",
              "      <th>glycemic-index_100g</th>\n",
              "      <th>water-hardness_100g</th>\n",
              "    </tr>\n",
              "  </thead>\n",
              "  <tbody>\n",
              "    <tr>\n",
              "      <th>0</th>\n",
              "      <td>3087</td>\n",
              "      <td>http://world-en.openfoodfacts.org/product/0000...</td>\n",
              "      <td>openfoodfacts-contributors</td>\n",
              "      <td>1474103866</td>\n",
              "      <td>2016-09-17T09:17:46Z</td>\n",
              "      <td>1474103893</td>\n",
              "      <td>2016-09-17T09:18:13Z</td>\n",
              "      <td>Farine de blé noir</td>\n",
              "      <td>NaN</td>\n",
              "      <td>1kg</td>\n",
              "      <td>...</td>\n",
              "      <td>NaN</td>\n",
              "      <td>NaN</td>\n",
              "      <td>NaN</td>\n",
              "      <td>NaN</td>\n",
              "      <td>NaN</td>\n",
              "      <td>NaN</td>\n",
              "      <td>NaN</td>\n",
              "      <td>NaN</td>\n",
              "      <td>NaN</td>\n",
              "      <td>NaN</td>\n",
              "    </tr>\n",
              "  </tbody>\n",
              "</table>\n",
              "<p>1 rows × 163 columns</p>\n",
              "</div>\n",
              "    <div class=\"colab-df-buttons\">\n",
              "\n",
              "  <div class=\"colab-df-container\">\n",
              "    <button class=\"colab-df-convert\" onclick=\"convertToInteractive('df-788a90cd-f891-45c6-8ed1-a097bb21f35e')\"\n",
              "            title=\"Convert this dataframe to an interactive table.\"\n",
              "            style=\"display:none;\">\n",
              "\n",
              "  <svg xmlns=\"http://www.w3.org/2000/svg\" height=\"24px\" viewBox=\"0 -960 960 960\">\n",
              "    <path d=\"M120-120v-720h720v720H120Zm60-500h600v-160H180v160Zm220 220h160v-160H400v160Zm0 220h160v-160H400v160ZM180-400h160v-160H180v160Zm440 0h160v-160H620v160ZM180-180h160v-160H180v160Zm440 0h160v-160H620v160Z\"/>\n",
              "  </svg>\n",
              "    </button>\n",
              "\n",
              "  <style>\n",
              "    .colab-df-container {\n",
              "      display:flex;\n",
              "      gap: 12px;\n",
              "    }\n",
              "\n",
              "    .colab-df-convert {\n",
              "      background-color: #E8F0FE;\n",
              "      border: none;\n",
              "      border-radius: 50%;\n",
              "      cursor: pointer;\n",
              "      display: none;\n",
              "      fill: #1967D2;\n",
              "      height: 32px;\n",
              "      padding: 0 0 0 0;\n",
              "      width: 32px;\n",
              "    }\n",
              "\n",
              "    .colab-df-convert:hover {\n",
              "      background-color: #E2EBFA;\n",
              "      box-shadow: 0px 1px 2px rgba(60, 64, 67, 0.3), 0px 1px 3px 1px rgba(60, 64, 67, 0.15);\n",
              "      fill: #174EA6;\n",
              "    }\n",
              "\n",
              "    .colab-df-buttons div {\n",
              "      margin-bottom: 4px;\n",
              "    }\n",
              "\n",
              "    [theme=dark] .colab-df-convert {\n",
              "      background-color: #3B4455;\n",
              "      fill: #D2E3FC;\n",
              "    }\n",
              "\n",
              "    [theme=dark] .colab-df-convert:hover {\n",
              "      background-color: #434B5C;\n",
              "      box-shadow: 0px 1px 3px 1px rgba(0, 0, 0, 0.15);\n",
              "      filter: drop-shadow(0px 1px 2px rgba(0, 0, 0, 0.3));\n",
              "      fill: #FFFFFF;\n",
              "    }\n",
              "  </style>\n",
              "\n",
              "    <script>\n",
              "      const buttonEl =\n",
              "        document.querySelector('#df-788a90cd-f891-45c6-8ed1-a097bb21f35e button.colab-df-convert');\n",
              "      buttonEl.style.display =\n",
              "        google.colab.kernel.accessAllowed ? 'block' : 'none';\n",
              "\n",
              "      async function convertToInteractive(key) {\n",
              "        const element = document.querySelector('#df-788a90cd-f891-45c6-8ed1-a097bb21f35e');\n",
              "        const dataTable =\n",
              "          await google.colab.kernel.invokeFunction('convertToInteractive',\n",
              "                                                    [key], {});\n",
              "        if (!dataTable) return;\n",
              "\n",
              "        const docLinkHtml = 'Like what you see? Visit the ' +\n",
              "          '<a target=\"_blank\" href=https://colab.research.google.com/notebooks/data_table.ipynb>data table notebook</a>'\n",
              "          + ' to learn more about interactive tables.';\n",
              "        element.innerHTML = '';\n",
              "        dataTable['output_type'] = 'display_data';\n",
              "        await google.colab.output.renderOutput(dataTable, element);\n",
              "        const docLink = document.createElement('div');\n",
              "        docLink.innerHTML = docLinkHtml;\n",
              "        element.appendChild(docLink);\n",
              "      }\n",
              "    </script>\n",
              "  </div>\n",
              "\n",
              "    </div>\n",
              "  </div>\n"
            ]
          },
          "metadata": {},
          "execution_count": 11
        }
      ],
      "source": [
        "food.head(last_idx_num + 1)"
      ]
    },
    {
      "cell_type": "code",
      "execution_count": 12,
      "metadata": {
        "colab": {
          "base_uri": "https://localhost:8080/",
          "height": 217
        },
        "id": "6YWOmEZqf4yg",
        "outputId": "08cdbf0c-e765-4e9e-fa10-6c9cdef942a3"
      },
      "outputs": [
        {
          "output_type": "execute_result",
          "data": {
            "text/plain": [
              "                code                                                url  \\\n",
              "356026  999990026839  http://world-en.openfoodfacts.org/product/9999...   \n",
              "\n",
              "                creator   created_t      created_datetime last_modified_t  \\\n",
              "356026  usda-ndb-import  1489072709  2017-03-09T15:18:29Z      1491244499   \n",
              "\n",
              "       last_modified_datetime                     product_name generic_name  \\\n",
              "356026   2017-04-03T18:34:59Z  Sugar Free Drink Mix, Peach Tea          NaN   \n",
              "\n",
              "       quantity  ... fruits-vegetables-nuts_100g  \\\n",
              "356026      NaN  ...                         NaN   \n",
              "\n",
              "       fruits-vegetables-nuts-estimate_100g collagen-meat-protein-ratio_100g  \\\n",
              "356026                                  NaN                              NaN   \n",
              "\n",
              "       cocoa_100g chlorophyl_100g carbon-footprint_100g  \\\n",
              "356026        NaN             NaN                   NaN   \n",
              "\n",
              "       nutrition-score-fr_100g nutrition-score-uk_100g glycemic-index_100g  \\\n",
              "356026                     NaN                     NaN                 NaN   \n",
              "\n",
              "       water-hardness_100g  \n",
              "356026                 NaN  \n",
              "\n",
              "[1 rows x 163 columns]"
            ],
            "text/html": [
              "\n",
              "  <div id=\"df-da81aa5f-3f6c-4303-a58b-70623b94448f\" class=\"colab-df-container\">\n",
              "    <div>\n",
              "<style scoped>\n",
              "    .dataframe tbody tr th:only-of-type {\n",
              "        vertical-align: middle;\n",
              "    }\n",
              "\n",
              "    .dataframe tbody tr th {\n",
              "        vertical-align: top;\n",
              "    }\n",
              "\n",
              "    .dataframe thead th {\n",
              "        text-align: right;\n",
              "    }\n",
              "</style>\n",
              "<table border=\"1\" class=\"dataframe\">\n",
              "  <thead>\n",
              "    <tr style=\"text-align: right;\">\n",
              "      <th></th>\n",
              "      <th>code</th>\n",
              "      <th>url</th>\n",
              "      <th>creator</th>\n",
              "      <th>created_t</th>\n",
              "      <th>created_datetime</th>\n",
              "      <th>last_modified_t</th>\n",
              "      <th>last_modified_datetime</th>\n",
              "      <th>product_name</th>\n",
              "      <th>generic_name</th>\n",
              "      <th>quantity</th>\n",
              "      <th>...</th>\n",
              "      <th>fruits-vegetables-nuts_100g</th>\n",
              "      <th>fruits-vegetables-nuts-estimate_100g</th>\n",
              "      <th>collagen-meat-protein-ratio_100g</th>\n",
              "      <th>cocoa_100g</th>\n",
              "      <th>chlorophyl_100g</th>\n",
              "      <th>carbon-footprint_100g</th>\n",
              "      <th>nutrition-score-fr_100g</th>\n",
              "      <th>nutrition-score-uk_100g</th>\n",
              "      <th>glycemic-index_100g</th>\n",
              "      <th>water-hardness_100g</th>\n",
              "    </tr>\n",
              "  </thead>\n",
              "  <tbody>\n",
              "    <tr>\n",
              "      <th>356026</th>\n",
              "      <td>999990026839</td>\n",
              "      <td>http://world-en.openfoodfacts.org/product/9999...</td>\n",
              "      <td>usda-ndb-import</td>\n",
              "      <td>1489072709</td>\n",
              "      <td>2017-03-09T15:18:29Z</td>\n",
              "      <td>1491244499</td>\n",
              "      <td>2017-04-03T18:34:59Z</td>\n",
              "      <td>Sugar Free Drink Mix, Peach Tea</td>\n",
              "      <td>NaN</td>\n",
              "      <td>NaN</td>\n",
              "      <td>...</td>\n",
              "      <td>NaN</td>\n",
              "      <td>NaN</td>\n",
              "      <td>NaN</td>\n",
              "      <td>NaN</td>\n",
              "      <td>NaN</td>\n",
              "      <td>NaN</td>\n",
              "      <td>NaN</td>\n",
              "      <td>NaN</td>\n",
              "      <td>NaN</td>\n",
              "      <td>NaN</td>\n",
              "    </tr>\n",
              "  </tbody>\n",
              "</table>\n",
              "<p>1 rows × 163 columns</p>\n",
              "</div>\n",
              "    <div class=\"colab-df-buttons\">\n",
              "\n",
              "  <div class=\"colab-df-container\">\n",
              "    <button class=\"colab-df-convert\" onclick=\"convertToInteractive('df-da81aa5f-3f6c-4303-a58b-70623b94448f')\"\n",
              "            title=\"Convert this dataframe to an interactive table.\"\n",
              "            style=\"display:none;\">\n",
              "\n",
              "  <svg xmlns=\"http://www.w3.org/2000/svg\" height=\"24px\" viewBox=\"0 -960 960 960\">\n",
              "    <path d=\"M120-120v-720h720v720H120Zm60-500h600v-160H180v160Zm220 220h160v-160H400v160Zm0 220h160v-160H400v160ZM180-400h160v-160H180v160Zm440 0h160v-160H620v160ZM180-180h160v-160H180v160Zm440 0h160v-160H620v160Z\"/>\n",
              "  </svg>\n",
              "    </button>\n",
              "\n",
              "  <style>\n",
              "    .colab-df-container {\n",
              "      display:flex;\n",
              "      gap: 12px;\n",
              "    }\n",
              "\n",
              "    .colab-df-convert {\n",
              "      background-color: #E8F0FE;\n",
              "      border: none;\n",
              "      border-radius: 50%;\n",
              "      cursor: pointer;\n",
              "      display: none;\n",
              "      fill: #1967D2;\n",
              "      height: 32px;\n",
              "      padding: 0 0 0 0;\n",
              "      width: 32px;\n",
              "    }\n",
              "\n",
              "    .colab-df-convert:hover {\n",
              "      background-color: #E2EBFA;\n",
              "      box-shadow: 0px 1px 2px rgba(60, 64, 67, 0.3), 0px 1px 3px 1px rgba(60, 64, 67, 0.15);\n",
              "      fill: #174EA6;\n",
              "    }\n",
              "\n",
              "    .colab-df-buttons div {\n",
              "      margin-bottom: 4px;\n",
              "    }\n",
              "\n",
              "    [theme=dark] .colab-df-convert {\n",
              "      background-color: #3B4455;\n",
              "      fill: #D2E3FC;\n",
              "    }\n",
              "\n",
              "    [theme=dark] .colab-df-convert:hover {\n",
              "      background-color: #434B5C;\n",
              "      box-shadow: 0px 1px 3px 1px rgba(0, 0, 0, 0.15);\n",
              "      filter: drop-shadow(0px 1px 2px rgba(0, 0, 0, 0.3));\n",
              "      fill: #FFFFFF;\n",
              "    }\n",
              "  </style>\n",
              "\n",
              "    <script>\n",
              "      const buttonEl =\n",
              "        document.querySelector('#df-da81aa5f-3f6c-4303-a58b-70623b94448f button.colab-df-convert');\n",
              "      buttonEl.style.display =\n",
              "        google.colab.kernel.accessAllowed ? 'block' : 'none';\n",
              "\n",
              "      async function convertToInteractive(key) {\n",
              "        const element = document.querySelector('#df-da81aa5f-3f6c-4303-a58b-70623b94448f');\n",
              "        const dataTable =\n",
              "          await google.colab.kernel.invokeFunction('convertToInteractive',\n",
              "                                                    [key], {});\n",
              "        if (!dataTable) return;\n",
              "\n",
              "        const docLinkHtml = 'Like what you see? Visit the ' +\n",
              "          '<a target=\"_blank\" href=https://colab.research.google.com/notebooks/data_table.ipynb>data table notebook</a>'\n",
              "          + ' to learn more about interactive tables.';\n",
              "        element.innerHTML = '';\n",
              "        dataTable['output_type'] = 'display_data';\n",
              "        await google.colab.output.renderOutput(dataTable, element);\n",
              "        const docLink = document.createElement('div');\n",
              "        docLink.innerHTML = docLinkHtml;\n",
              "        element.appendChild(docLink);\n",
              "      }\n",
              "    </script>\n",
              "  </div>\n",
              "\n",
              "    </div>\n",
              "  </div>\n"
            ]
          },
          "metadata": {},
          "execution_count": 12
        }
      ],
      "source": [
        "food.tail(last_idx_num + 1)"
      ]
    },
    {
      "cell_type": "markdown",
      "metadata": {
        "id": "UD3AI3hWf4yg"
      },
      "source": [
        "Head(tail) is the method of the DataFrame class, which with possible specification of the #number, gives us a first(last) #number of elements. We can use it to visualise only some information about the specific data."
      ]
    },
    {
      "cell_type": "markdown",
      "metadata": {
        "id": "is_p4W3Yf4yg"
      },
      "source": [
        "#### b) Figure out the number of rows and columns\n",
        "Find the shape of the DataFrame"
      ]
    },
    {
      "cell_type": "code",
      "execution_count": 13,
      "metadata": {
        "colab": {
          "base_uri": "https://localhost:8080/"
        },
        "id": "Js_Xdfvzf4yg",
        "outputId": "7f573be2-dc5d-433b-da37-5fbd1bc4bf5e"
      },
      "outputs": [
        {
          "output_type": "execute_result",
          "data": {
            "text/plain": [
              "(356027, 163)"
            ]
          },
          "metadata": {},
          "execution_count": 13
        }
      ],
      "source": [
        "food.shape"
      ]
    },
    {
      "cell_type": "markdown",
      "metadata": {
        "id": "KkKif1SBf4yg"
      },
      "source": [
        "With the shape we can obtain some information about the number of columns and the number of rows in the DataFrame. It is the most simple information we can get."
      ]
    },
    {
      "cell_type": "markdown",
      "metadata": {
        "id": "tACzkeaqf4yg"
      },
      "source": [
        "#### c) Print information about it\n",
        "`.info` is our friend!"
      ]
    },
    {
      "cell_type": "code",
      "execution_count": 14,
      "metadata": {
        "colab": {
          "base_uri": "https://localhost:8080/"
        },
        "id": "ZGB061f3f4yh",
        "outputId": "7808a779-adda-4aba-9b40-e68bf670a33c"
      },
      "outputs": [
        {
          "output_type": "stream",
          "name": "stdout",
          "text": [
            "<class 'pandas.core.frame.DataFrame'>\n",
            "RangeIndex: 356027 entries, 0 to 356026\n",
            "Columns: 163 entries, code to water-hardness_100g\n",
            "dtypes: float64(107), object(56)\n",
            "memory usage: 442.8+ MB\n"
          ]
        }
      ],
      "source": [
        "food.info()"
      ]
    },
    {
      "cell_type": "markdown",
      "metadata": {
        "id": "D1TKYf_wf4yh"
      },
      "source": [
        ".info() method prints the main information about the class from pandas library, whether it is Series or a DataFrame. Series is an object which does not include multiple columns. Whenever we .loc[] single row from pandas DataFrame, it is converted to a Series by convention."
      ]
    },
    {
      "cell_type": "markdown",
      "metadata": {
        "id": "sAZB7A3cf4yh"
      },
      "source": [
        "#### d) Find the type of middle column\n",
        "Use the method from b)."
      ]
    },
    {
      "cell_type": "code",
      "execution_count": 15,
      "metadata": {
        "colab": {
          "base_uri": "https://localhost:8080/"
        },
        "id": "ZNVAheGUf4yh",
        "outputId": "3ece9724-7c1b-4412-c3a9-49fbd3466a51"
      },
      "outputs": [
        {
          "output_type": "execute_result",
          "data": {
            "text/plain": [
              "('monounsaturated-fat_100g', dtype('float64'))"
            ]
          },
          "metadata": {},
          "execution_count": 15
        }
      ],
      "source": [
        "food.columns[food.shape[-1]//2], food.iloc[:, food.shape[-1]//2].dtypes"
      ]
    },
    {
      "cell_type": "markdown",
      "metadata": {
        "id": "ETR8z2Btf4yh"
      },
      "source": [
        "See? We can get to columns of a DataFrame by using .columns, which is an object that can be treated like a list. Then, we can modify it, get to some element, etc...\n",
        "\n",
        "The dataframe has a potential of quick element access by using locking. It may differ whenever we want to use the number of series or it's name.\n",
        "\n",
        "- The df.loc method is a class parameter that is accessed via square brackets that has two degrees of freedom. ```.loc``` is based on a given name of the element .loc[rows,columns]. Imagine a situation from the DataFrame that has three elements coloumn ```color``` [orange, red, green] and is indexed by the ```dragon names``` [Reksio, Drogon, Otter]. We can access single row as ```df.loc['Reksio']```.\n",
        "- The ``df.iloc``. We can obtain the same element by accessing a number of the index -> the same result as previously is given from ```df.iloc[0]```."
      ]
    },
    {
      "cell_type": "markdown",
      "metadata": {
        "id": "J0aQXYKNf4yh"
      },
      "source": [
        "#### e) How is the data indexed?\n",
        "Check the index of the DataFrame."
      ]
    },
    {
      "cell_type": "code",
      "execution_count": 16,
      "metadata": {
        "colab": {
          "base_uri": "https://localhost:8080/"
        },
        "id": "NeRLqFIXf4yh",
        "outputId": "02ac4dd5-0621-4ddf-e111-bb76c4c0499d"
      },
      "outputs": [
        {
          "output_type": "execute_result",
          "data": {
            "text/plain": [
              "RangeIndex(start=0, stop=356027, step=1)"
            ]
          },
          "metadata": {},
          "execution_count": 16
        }
      ],
      "source": [
        "food.index"
      ]
    },
    {
      "cell_type": "markdown",
      "metadata": {
        "id": "Hb-avLRDf4yh"
      },
      "source": [
        "### Task 2"
      ]
    },
    {
      "cell_type": "markdown",
      "metadata": {
        "id": "ogo55txcf4yh"
      },
      "source": [
        "This time, we run the data from [GitHub](https://raw.githubusercontent.com/justmarkham/DAT8/master/data/u.user). It holds information about the staff working at some company. Let's look at it and find out what we know. How is the data separated, what columns does the table have - we'll find out at no time!\n"
      ]
    },
    {
      "cell_type": "markdown",
      "metadata": {
        "id": "2JpJ-43Nf4yh"
      },
      "source": [
        "#### a) Load the dataframe about the users & b) Determine the separator and index"
      ]
    },
    {
      "cell_type": "code",
      "execution_count": 4,
      "metadata": {
        "colab": {
          "base_uri": "https://localhost:8080/",
          "height": 455
        },
        "id": "YLZp3UYof4yh",
        "outputId": "78397aa2-73fe-4ad0-f602-d1bb6d611e46"
      },
      "outputs": [
        {
          "output_type": "execute_result",
          "data": {
            "text/plain": [
              "         age gender     occupation zip_code\n",
              "user_id                                    \n",
              "1         24      M     technician    85711\n",
              "2         53      F          other    94043\n",
              "3         23      M         writer    32067\n",
              "4         24      M     technician    43537\n",
              "5         33      F          other    15213\n",
              "...      ...    ...            ...      ...\n",
              "939       26      F        student    33319\n",
              "940       32      M  administrator    02215\n",
              "941       20      M        student    97229\n",
              "942       48      F      librarian    78209\n",
              "943       22      M        student    77841\n",
              "\n",
              "[943 rows x 4 columns]"
            ],
            "text/html": [
              "\n",
              "  <div id=\"df-6c9dc77c-8957-4cd9-8de8-31eaa9c5f9d0\" class=\"colab-df-container\">\n",
              "    <div>\n",
              "<style scoped>\n",
              "    .dataframe tbody tr th:only-of-type {\n",
              "        vertical-align: middle;\n",
              "    }\n",
              "\n",
              "    .dataframe tbody tr th {\n",
              "        vertical-align: top;\n",
              "    }\n",
              "\n",
              "    .dataframe thead th {\n",
              "        text-align: right;\n",
              "    }\n",
              "</style>\n",
              "<table border=\"1\" class=\"dataframe\">\n",
              "  <thead>\n",
              "    <tr style=\"text-align: right;\">\n",
              "      <th></th>\n",
              "      <th>age</th>\n",
              "      <th>gender</th>\n",
              "      <th>occupation</th>\n",
              "      <th>zip_code</th>\n",
              "    </tr>\n",
              "    <tr>\n",
              "      <th>user_id</th>\n",
              "      <th></th>\n",
              "      <th></th>\n",
              "      <th></th>\n",
              "      <th></th>\n",
              "    </tr>\n",
              "  </thead>\n",
              "  <tbody>\n",
              "    <tr>\n",
              "      <th>1</th>\n",
              "      <td>24</td>\n",
              "      <td>M</td>\n",
              "      <td>technician</td>\n",
              "      <td>85711</td>\n",
              "    </tr>\n",
              "    <tr>\n",
              "      <th>2</th>\n",
              "      <td>53</td>\n",
              "      <td>F</td>\n",
              "      <td>other</td>\n",
              "      <td>94043</td>\n",
              "    </tr>\n",
              "    <tr>\n",
              "      <th>3</th>\n",
              "      <td>23</td>\n",
              "      <td>M</td>\n",
              "      <td>writer</td>\n",
              "      <td>32067</td>\n",
              "    </tr>\n",
              "    <tr>\n",
              "      <th>4</th>\n",
              "      <td>24</td>\n",
              "      <td>M</td>\n",
              "      <td>technician</td>\n",
              "      <td>43537</td>\n",
              "    </tr>\n",
              "    <tr>\n",
              "      <th>5</th>\n",
              "      <td>33</td>\n",
              "      <td>F</td>\n",
              "      <td>other</td>\n",
              "      <td>15213</td>\n",
              "    </tr>\n",
              "    <tr>\n",
              "      <th>...</th>\n",
              "      <td>...</td>\n",
              "      <td>...</td>\n",
              "      <td>...</td>\n",
              "      <td>...</td>\n",
              "    </tr>\n",
              "    <tr>\n",
              "      <th>939</th>\n",
              "      <td>26</td>\n",
              "      <td>F</td>\n",
              "      <td>student</td>\n",
              "      <td>33319</td>\n",
              "    </tr>\n",
              "    <tr>\n",
              "      <th>940</th>\n",
              "      <td>32</td>\n",
              "      <td>M</td>\n",
              "      <td>administrator</td>\n",
              "      <td>02215</td>\n",
              "    </tr>\n",
              "    <tr>\n",
              "      <th>941</th>\n",
              "      <td>20</td>\n",
              "      <td>M</td>\n",
              "      <td>student</td>\n",
              "      <td>97229</td>\n",
              "    </tr>\n",
              "    <tr>\n",
              "      <th>942</th>\n",
              "      <td>48</td>\n",
              "      <td>F</td>\n",
              "      <td>librarian</td>\n",
              "      <td>78209</td>\n",
              "    </tr>\n",
              "    <tr>\n",
              "      <th>943</th>\n",
              "      <td>22</td>\n",
              "      <td>M</td>\n",
              "      <td>student</td>\n",
              "      <td>77841</td>\n",
              "    </tr>\n",
              "  </tbody>\n",
              "</table>\n",
              "<p>943 rows × 4 columns</p>\n",
              "</div>\n",
              "    <div class=\"colab-df-buttons\">\n",
              "\n",
              "  <div class=\"colab-df-container\">\n",
              "    <button class=\"colab-df-convert\" onclick=\"convertToInteractive('df-6c9dc77c-8957-4cd9-8de8-31eaa9c5f9d0')\"\n",
              "            title=\"Convert this dataframe to an interactive table.\"\n",
              "            style=\"display:none;\">\n",
              "\n",
              "  <svg xmlns=\"http://www.w3.org/2000/svg\" height=\"24px\" viewBox=\"0 -960 960 960\">\n",
              "    <path d=\"M120-120v-720h720v720H120Zm60-500h600v-160H180v160Zm220 220h160v-160H400v160Zm0 220h160v-160H400v160ZM180-400h160v-160H180v160Zm440 0h160v-160H620v160ZM180-180h160v-160H180v160Zm440 0h160v-160H620v160Z\"/>\n",
              "  </svg>\n",
              "    </button>\n",
              "\n",
              "  <style>\n",
              "    .colab-df-container {\n",
              "      display:flex;\n",
              "      gap: 12px;\n",
              "    }\n",
              "\n",
              "    .colab-df-convert {\n",
              "      background-color: #E8F0FE;\n",
              "      border: none;\n",
              "      border-radius: 50%;\n",
              "      cursor: pointer;\n",
              "      display: none;\n",
              "      fill: #1967D2;\n",
              "      height: 32px;\n",
              "      padding: 0 0 0 0;\n",
              "      width: 32px;\n",
              "    }\n",
              "\n",
              "    .colab-df-convert:hover {\n",
              "      background-color: #E2EBFA;\n",
              "      box-shadow: 0px 1px 2px rgba(60, 64, 67, 0.3), 0px 1px 3px 1px rgba(60, 64, 67, 0.15);\n",
              "      fill: #174EA6;\n",
              "    }\n",
              "\n",
              "    .colab-df-buttons div {\n",
              "      margin-bottom: 4px;\n",
              "    }\n",
              "\n",
              "    [theme=dark] .colab-df-convert {\n",
              "      background-color: #3B4455;\n",
              "      fill: #D2E3FC;\n",
              "    }\n",
              "\n",
              "    [theme=dark] .colab-df-convert:hover {\n",
              "      background-color: #434B5C;\n",
              "      box-shadow: 0px 1px 3px 1px rgba(0, 0, 0, 0.15);\n",
              "      filter: drop-shadow(0px 1px 2px rgba(0, 0, 0, 0.3));\n",
              "      fill: #FFFFFF;\n",
              "    }\n",
              "  </style>\n",
              "\n",
              "    <script>\n",
              "      const buttonEl =\n",
              "        document.querySelector('#df-6c9dc77c-8957-4cd9-8de8-31eaa9c5f9d0 button.colab-df-convert');\n",
              "      buttonEl.style.display =\n",
              "        google.colab.kernel.accessAllowed ? 'block' : 'none';\n",
              "\n",
              "      async function convertToInteractive(key) {\n",
              "        const element = document.querySelector('#df-6c9dc77c-8957-4cd9-8de8-31eaa9c5f9d0');\n",
              "        const dataTable =\n",
              "          await google.colab.kernel.invokeFunction('convertToInteractive',\n",
              "                                                    [key], {});\n",
              "        if (!dataTable) return;\n",
              "\n",
              "        const docLinkHtml = 'Like what you see? Visit the ' +\n",
              "          '<a target=\"_blank\" href=https://colab.research.google.com/notebooks/data_table.ipynb>data table notebook</a>'\n",
              "          + ' to learn more about interactive tables.';\n",
              "        element.innerHTML = '';\n",
              "        dataTable['output_type'] = 'display_data';\n",
              "        await google.colab.output.renderOutput(dataTable, element);\n",
              "        const docLink = document.createElement('div');\n",
              "        docLink.innerHTML = docLinkHtml;\n",
              "        element.appendChild(docLink);\n",
              "      }\n",
              "    </script>\n",
              "  </div>\n",
              "\n",
              "\n",
              "<div id=\"df-cce74303-7e2a-4f95-9bff-bdf92fb4bb72\">\n",
              "  <button class=\"colab-df-quickchart\" onclick=\"quickchart('df-cce74303-7e2a-4f95-9bff-bdf92fb4bb72')\"\n",
              "            title=\"Suggest charts.\"\n",
              "            style=\"display:none;\">\n",
              "\n",
              "<svg xmlns=\"http://www.w3.org/2000/svg\" height=\"24px\"viewBox=\"0 0 24 24\"\n",
              "     width=\"24px\">\n",
              "    <g>\n",
              "        <path d=\"M19 3H5c-1.1 0-2 .9-2 2v14c0 1.1.9 2 2 2h14c1.1 0 2-.9 2-2V5c0-1.1-.9-2-2-2zM9 17H7v-7h2v7zm4 0h-2V7h2v10zm4 0h-2v-4h2v4z\"/>\n",
              "    </g>\n",
              "</svg>\n",
              "  </button>\n",
              "\n",
              "<style>\n",
              "  .colab-df-quickchart {\n",
              "      --bg-color: #E8F0FE;\n",
              "      --fill-color: #1967D2;\n",
              "      --hover-bg-color: #E2EBFA;\n",
              "      --hover-fill-color: #174EA6;\n",
              "      --disabled-fill-color: #AAA;\n",
              "      --disabled-bg-color: #DDD;\n",
              "  }\n",
              "\n",
              "  [theme=dark] .colab-df-quickchart {\n",
              "      --bg-color: #3B4455;\n",
              "      --fill-color: #D2E3FC;\n",
              "      --hover-bg-color: #434B5C;\n",
              "      --hover-fill-color: #FFFFFF;\n",
              "      --disabled-bg-color: #3B4455;\n",
              "      --disabled-fill-color: #666;\n",
              "  }\n",
              "\n",
              "  .colab-df-quickchart {\n",
              "    background-color: var(--bg-color);\n",
              "    border: none;\n",
              "    border-radius: 50%;\n",
              "    cursor: pointer;\n",
              "    display: none;\n",
              "    fill: var(--fill-color);\n",
              "    height: 32px;\n",
              "    padding: 0;\n",
              "    width: 32px;\n",
              "  }\n",
              "\n",
              "  .colab-df-quickchart:hover {\n",
              "    background-color: var(--hover-bg-color);\n",
              "    box-shadow: 0 1px 2px rgba(60, 64, 67, 0.3), 0 1px 3px 1px rgba(60, 64, 67, 0.15);\n",
              "    fill: var(--button-hover-fill-color);\n",
              "  }\n",
              "\n",
              "  .colab-df-quickchart-complete:disabled,\n",
              "  .colab-df-quickchart-complete:disabled:hover {\n",
              "    background-color: var(--disabled-bg-color);\n",
              "    fill: var(--disabled-fill-color);\n",
              "    box-shadow: none;\n",
              "  }\n",
              "\n",
              "  .colab-df-spinner {\n",
              "    border: 2px solid var(--fill-color);\n",
              "    border-color: transparent;\n",
              "    border-bottom-color: var(--fill-color);\n",
              "    animation:\n",
              "      spin 1s steps(1) infinite;\n",
              "  }\n",
              "\n",
              "  @keyframes spin {\n",
              "    0% {\n",
              "      border-color: transparent;\n",
              "      border-bottom-color: var(--fill-color);\n",
              "      border-left-color: var(--fill-color);\n",
              "    }\n",
              "    20% {\n",
              "      border-color: transparent;\n",
              "      border-left-color: var(--fill-color);\n",
              "      border-top-color: var(--fill-color);\n",
              "    }\n",
              "    30% {\n",
              "      border-color: transparent;\n",
              "      border-left-color: var(--fill-color);\n",
              "      border-top-color: var(--fill-color);\n",
              "      border-right-color: var(--fill-color);\n",
              "    }\n",
              "    40% {\n",
              "      border-color: transparent;\n",
              "      border-right-color: var(--fill-color);\n",
              "      border-top-color: var(--fill-color);\n",
              "    }\n",
              "    60% {\n",
              "      border-color: transparent;\n",
              "      border-right-color: var(--fill-color);\n",
              "    }\n",
              "    80% {\n",
              "      border-color: transparent;\n",
              "      border-right-color: var(--fill-color);\n",
              "      border-bottom-color: var(--fill-color);\n",
              "    }\n",
              "    90% {\n",
              "      border-color: transparent;\n",
              "      border-bottom-color: var(--fill-color);\n",
              "    }\n",
              "  }\n",
              "</style>\n",
              "\n",
              "  <script>\n",
              "    async function quickchart(key) {\n",
              "      const quickchartButtonEl =\n",
              "        document.querySelector('#' + key + ' button');\n",
              "      quickchartButtonEl.disabled = true;  // To prevent multiple clicks.\n",
              "      quickchartButtonEl.classList.add('colab-df-spinner');\n",
              "      try {\n",
              "        const charts = await google.colab.kernel.invokeFunction(\n",
              "            'suggestCharts', [key], {});\n",
              "      } catch (error) {\n",
              "        console.error('Error during call to suggestCharts:', error);\n",
              "      }\n",
              "      quickchartButtonEl.classList.remove('colab-df-spinner');\n",
              "      quickchartButtonEl.classList.add('colab-df-quickchart-complete');\n",
              "    }\n",
              "    (() => {\n",
              "      let quickchartButtonEl =\n",
              "        document.querySelector('#df-cce74303-7e2a-4f95-9bff-bdf92fb4bb72 button');\n",
              "      quickchartButtonEl.style.display =\n",
              "        google.colab.kernel.accessAllowed ? 'block' : 'none';\n",
              "    })();\n",
              "  </script>\n",
              "</div>\n",
              "    </div>\n",
              "  </div>\n"
            ]
          },
          "metadata": {},
          "execution_count": 4
        }
      ],
      "source": [
        "users = pd.read_csv('https://raw.githubusercontent.com/justmarkham/DAT8/master/data/u.user',\n",
        "                    sep         =   '|',\n",
        "                    index_col   =   'user_id')\n",
        "users"
      ]
    },
    {
      "cell_type": "markdown",
      "metadata": {
        "id": "m_2yk-npf4yh"
      },
      "source": [
        "See? We needed to specify the index_col and the separator which is different from the usual one."
      ]
    },
    {
      "cell_type": "markdown",
      "metadata": {
        "id": "5g5Pfbgwf4yi"
      },
      "source": [
        "#### c) Show the beginning of the file"
      ]
    },
    {
      "cell_type": "code",
      "execution_count": 19,
      "metadata": {
        "colab": {
          "base_uri": "https://localhost:8080/",
          "height": 238
        },
        "id": "0uAu-fKFf4yi",
        "outputId": "ae183c03-9e7a-406c-e217-2b41bc4e512c"
      },
      "outputs": [
        {
          "output_type": "execute_result",
          "data": {
            "text/plain": [
              "         age gender  occupation zip_code\n",
              "user_id                                 \n",
              "1         24      M  technician    85711\n",
              "2         53      F       other    94043\n",
              "3         23      M      writer    32067\n",
              "4         24      M  technician    43537\n",
              "5         33      F       other    15213"
            ],
            "text/html": [
              "\n",
              "  <div id=\"df-0b2b1e09-18df-4580-a7da-5f07328a5b7b\" class=\"colab-df-container\">\n",
              "    <div>\n",
              "<style scoped>\n",
              "    .dataframe tbody tr th:only-of-type {\n",
              "        vertical-align: middle;\n",
              "    }\n",
              "\n",
              "    .dataframe tbody tr th {\n",
              "        vertical-align: top;\n",
              "    }\n",
              "\n",
              "    .dataframe thead th {\n",
              "        text-align: right;\n",
              "    }\n",
              "</style>\n",
              "<table border=\"1\" class=\"dataframe\">\n",
              "  <thead>\n",
              "    <tr style=\"text-align: right;\">\n",
              "      <th></th>\n",
              "      <th>age</th>\n",
              "      <th>gender</th>\n",
              "      <th>occupation</th>\n",
              "      <th>zip_code</th>\n",
              "    </tr>\n",
              "    <tr>\n",
              "      <th>user_id</th>\n",
              "      <th></th>\n",
              "      <th></th>\n",
              "      <th></th>\n",
              "      <th></th>\n",
              "    </tr>\n",
              "  </thead>\n",
              "  <tbody>\n",
              "    <tr>\n",
              "      <th>1</th>\n",
              "      <td>24</td>\n",
              "      <td>M</td>\n",
              "      <td>technician</td>\n",
              "      <td>85711</td>\n",
              "    </tr>\n",
              "    <tr>\n",
              "      <th>2</th>\n",
              "      <td>53</td>\n",
              "      <td>F</td>\n",
              "      <td>other</td>\n",
              "      <td>94043</td>\n",
              "    </tr>\n",
              "    <tr>\n",
              "      <th>3</th>\n",
              "      <td>23</td>\n",
              "      <td>M</td>\n",
              "      <td>writer</td>\n",
              "      <td>32067</td>\n",
              "    </tr>\n",
              "    <tr>\n",
              "      <th>4</th>\n",
              "      <td>24</td>\n",
              "      <td>M</td>\n",
              "      <td>technician</td>\n",
              "      <td>43537</td>\n",
              "    </tr>\n",
              "    <tr>\n",
              "      <th>5</th>\n",
              "      <td>33</td>\n",
              "      <td>F</td>\n",
              "      <td>other</td>\n",
              "      <td>15213</td>\n",
              "    </tr>\n",
              "  </tbody>\n",
              "</table>\n",
              "</div>\n",
              "    <div class=\"colab-df-buttons\">\n",
              "\n",
              "  <div class=\"colab-df-container\">\n",
              "    <button class=\"colab-df-convert\" onclick=\"convertToInteractive('df-0b2b1e09-18df-4580-a7da-5f07328a5b7b')\"\n",
              "            title=\"Convert this dataframe to an interactive table.\"\n",
              "            style=\"display:none;\">\n",
              "\n",
              "  <svg xmlns=\"http://www.w3.org/2000/svg\" height=\"24px\" viewBox=\"0 -960 960 960\">\n",
              "    <path d=\"M120-120v-720h720v720H120Zm60-500h600v-160H180v160Zm220 220h160v-160H400v160Zm0 220h160v-160H400v160ZM180-400h160v-160H180v160Zm440 0h160v-160H620v160ZM180-180h160v-160H180v160Zm440 0h160v-160H620v160Z\"/>\n",
              "  </svg>\n",
              "    </button>\n",
              "\n",
              "  <style>\n",
              "    .colab-df-container {\n",
              "      display:flex;\n",
              "      gap: 12px;\n",
              "    }\n",
              "\n",
              "    .colab-df-convert {\n",
              "      background-color: #E8F0FE;\n",
              "      border: none;\n",
              "      border-radius: 50%;\n",
              "      cursor: pointer;\n",
              "      display: none;\n",
              "      fill: #1967D2;\n",
              "      height: 32px;\n",
              "      padding: 0 0 0 0;\n",
              "      width: 32px;\n",
              "    }\n",
              "\n",
              "    .colab-df-convert:hover {\n",
              "      background-color: #E2EBFA;\n",
              "      box-shadow: 0px 1px 2px rgba(60, 64, 67, 0.3), 0px 1px 3px 1px rgba(60, 64, 67, 0.15);\n",
              "      fill: #174EA6;\n",
              "    }\n",
              "\n",
              "    .colab-df-buttons div {\n",
              "      margin-bottom: 4px;\n",
              "    }\n",
              "\n",
              "    [theme=dark] .colab-df-convert {\n",
              "      background-color: #3B4455;\n",
              "      fill: #D2E3FC;\n",
              "    }\n",
              "\n",
              "    [theme=dark] .colab-df-convert:hover {\n",
              "      background-color: #434B5C;\n",
              "      box-shadow: 0px 1px 3px 1px rgba(0, 0, 0, 0.15);\n",
              "      filter: drop-shadow(0px 1px 2px rgba(0, 0, 0, 0.3));\n",
              "      fill: #FFFFFF;\n",
              "    }\n",
              "  </style>\n",
              "\n",
              "    <script>\n",
              "      const buttonEl =\n",
              "        document.querySelector('#df-0b2b1e09-18df-4580-a7da-5f07328a5b7b button.colab-df-convert');\n",
              "      buttonEl.style.display =\n",
              "        google.colab.kernel.accessAllowed ? 'block' : 'none';\n",
              "\n",
              "      async function convertToInteractive(key) {\n",
              "        const element = document.querySelector('#df-0b2b1e09-18df-4580-a7da-5f07328a5b7b');\n",
              "        const dataTable =\n",
              "          await google.colab.kernel.invokeFunction('convertToInteractive',\n",
              "                                                    [key], {});\n",
              "        if (!dataTable) return;\n",
              "\n",
              "        const docLinkHtml = 'Like what you see? Visit the ' +\n",
              "          '<a target=\"_blank\" href=https://colab.research.google.com/notebooks/data_table.ipynb>data table notebook</a>'\n",
              "          + ' to learn more about interactive tables.';\n",
              "        element.innerHTML = '';\n",
              "        dataTable['output_type'] = 'display_data';\n",
              "        await google.colab.output.renderOutput(dataTable, element);\n",
              "        const docLink = document.createElement('div');\n",
              "        docLink.innerHTML = docLinkHtml;\n",
              "        element.appendChild(docLink);\n",
              "      }\n",
              "    </script>\n",
              "  </div>\n",
              "\n",
              "\n",
              "<div id=\"df-27142050-af38-4e3e-bbf9-bf46ed4d0f09\">\n",
              "  <button class=\"colab-df-quickchart\" onclick=\"quickchart('df-27142050-af38-4e3e-bbf9-bf46ed4d0f09')\"\n",
              "            title=\"Suggest charts.\"\n",
              "            style=\"display:none;\">\n",
              "\n",
              "<svg xmlns=\"http://www.w3.org/2000/svg\" height=\"24px\"viewBox=\"0 0 24 24\"\n",
              "     width=\"24px\">\n",
              "    <g>\n",
              "        <path d=\"M19 3H5c-1.1 0-2 .9-2 2v14c0 1.1.9 2 2 2h14c1.1 0 2-.9 2-2V5c0-1.1-.9-2-2-2zM9 17H7v-7h2v7zm4 0h-2V7h2v10zm4 0h-2v-4h2v4z\"/>\n",
              "    </g>\n",
              "</svg>\n",
              "  </button>\n",
              "\n",
              "<style>\n",
              "  .colab-df-quickchart {\n",
              "      --bg-color: #E8F0FE;\n",
              "      --fill-color: #1967D2;\n",
              "      --hover-bg-color: #E2EBFA;\n",
              "      --hover-fill-color: #174EA6;\n",
              "      --disabled-fill-color: #AAA;\n",
              "      --disabled-bg-color: #DDD;\n",
              "  }\n",
              "\n",
              "  [theme=dark] .colab-df-quickchart {\n",
              "      --bg-color: #3B4455;\n",
              "      --fill-color: #D2E3FC;\n",
              "      --hover-bg-color: #434B5C;\n",
              "      --hover-fill-color: #FFFFFF;\n",
              "      --disabled-bg-color: #3B4455;\n",
              "      --disabled-fill-color: #666;\n",
              "  }\n",
              "\n",
              "  .colab-df-quickchart {\n",
              "    background-color: var(--bg-color);\n",
              "    border: none;\n",
              "    border-radius: 50%;\n",
              "    cursor: pointer;\n",
              "    display: none;\n",
              "    fill: var(--fill-color);\n",
              "    height: 32px;\n",
              "    padding: 0;\n",
              "    width: 32px;\n",
              "  }\n",
              "\n",
              "  .colab-df-quickchart:hover {\n",
              "    background-color: var(--hover-bg-color);\n",
              "    box-shadow: 0 1px 2px rgba(60, 64, 67, 0.3), 0 1px 3px 1px rgba(60, 64, 67, 0.15);\n",
              "    fill: var(--button-hover-fill-color);\n",
              "  }\n",
              "\n",
              "  .colab-df-quickchart-complete:disabled,\n",
              "  .colab-df-quickchart-complete:disabled:hover {\n",
              "    background-color: var(--disabled-bg-color);\n",
              "    fill: var(--disabled-fill-color);\n",
              "    box-shadow: none;\n",
              "  }\n",
              "\n",
              "  .colab-df-spinner {\n",
              "    border: 2px solid var(--fill-color);\n",
              "    border-color: transparent;\n",
              "    border-bottom-color: var(--fill-color);\n",
              "    animation:\n",
              "      spin 1s steps(1) infinite;\n",
              "  }\n",
              "\n",
              "  @keyframes spin {\n",
              "    0% {\n",
              "      border-color: transparent;\n",
              "      border-bottom-color: var(--fill-color);\n",
              "      border-left-color: var(--fill-color);\n",
              "    }\n",
              "    20% {\n",
              "      border-color: transparent;\n",
              "      border-left-color: var(--fill-color);\n",
              "      border-top-color: var(--fill-color);\n",
              "    }\n",
              "    30% {\n",
              "      border-color: transparent;\n",
              "      border-left-color: var(--fill-color);\n",
              "      border-top-color: var(--fill-color);\n",
              "      border-right-color: var(--fill-color);\n",
              "    }\n",
              "    40% {\n",
              "      border-color: transparent;\n",
              "      border-right-color: var(--fill-color);\n",
              "      border-top-color: var(--fill-color);\n",
              "    }\n",
              "    60% {\n",
              "      border-color: transparent;\n",
              "      border-right-color: var(--fill-color);\n",
              "    }\n",
              "    80% {\n",
              "      border-color: transparent;\n",
              "      border-right-color: var(--fill-color);\n",
              "      border-bottom-color: var(--fill-color);\n",
              "    }\n",
              "    90% {\n",
              "      border-color: transparent;\n",
              "      border-bottom-color: var(--fill-color);\n",
              "    }\n",
              "  }\n",
              "</style>\n",
              "\n",
              "  <script>\n",
              "    async function quickchart(key) {\n",
              "      const quickchartButtonEl =\n",
              "        document.querySelector('#' + key + ' button');\n",
              "      quickchartButtonEl.disabled = true;  // To prevent multiple clicks.\n",
              "      quickchartButtonEl.classList.add('colab-df-spinner');\n",
              "      try {\n",
              "        const charts = await google.colab.kernel.invokeFunction(\n",
              "            'suggestCharts', [key], {});\n",
              "      } catch (error) {\n",
              "        console.error('Error during call to suggestCharts:', error);\n",
              "      }\n",
              "      quickchartButtonEl.classList.remove('colab-df-spinner');\n",
              "      quickchartButtonEl.classList.add('colab-df-quickchart-complete');\n",
              "    }\n",
              "    (() => {\n",
              "      let quickchartButtonEl =\n",
              "        document.querySelector('#df-27142050-af38-4e3e-bbf9-bf46ed4d0f09 button');\n",
              "      quickchartButtonEl.style.display =\n",
              "        google.colab.kernel.accessAllowed ? 'block' : 'none';\n",
              "    })();\n",
              "  </script>\n",
              "</div>\n",
              "    </div>\n",
              "  </div>\n"
            ]
          },
          "metadata": {},
          "execution_count": 19
        }
      ],
      "source": [
        "users.head()"
      ]
    },
    {
      "cell_type": "markdown",
      "metadata": {
        "id": "XlqCOQSvf4yi"
      },
      "source": [
        "#### d) What is the number of rows in the DataFrame"
      ]
    },
    {
      "cell_type": "code",
      "execution_count": 21,
      "metadata": {
        "colab": {
          "base_uri": "https://localhost:8080/"
        },
        "id": "GcU20Tfef4yi",
        "outputId": "408be64d-5f77-4d92-9c58-45b9dfe323c5"
      },
      "outputs": [
        {
          "output_type": "execute_result",
          "data": {
            "text/plain": [
              "(943, 4)"
            ]
          },
          "metadata": {},
          "execution_count": 21
        }
      ],
      "source": [
        "users.shape"
      ]
    },
    {
      "cell_type": "markdown",
      "metadata": {
        "id": "2t14cGUYf4yi"
      },
      "source": [
        "#### e) Change the column names to consist of capital letters"
      ]
    },
    {
      "cell_type": "code",
      "execution_count": 31,
      "metadata": {
        "colab": {
          "base_uri": "https://localhost:8080/"
        },
        "id": "8CrHtujUf4yi",
        "outputId": "abed58a3-5c92-47cb-fe09-f5152c70c833"
      },
      "outputs": [
        {
          "output_type": "stream",
          "name": "stdout",
          "text": [
            "Index(['age', 'gender', 'occupation', 'zip_code'], dtype='object')\n",
            "Index(['AGE', 'GENDER', 'OCCUPATION', 'ZIP_CODE'], dtype='object')\n"
          ]
        }
      ],
      "source": [
        "print(users.columns)\n",
        "users.columns = map(str.upper, users.columns)\n",
        "print(users.columns)"
      ]
    },
    {
      "cell_type": "markdown",
      "metadata": {
        "id": "6VV32-q7f4yi"
      },
      "source": [
        "\".columns\" is again treated as a list and a list comprehension is used with a function capitalize. Then, it is just set as it was a variable."
      ]
    },
    {
      "cell_type": "markdown",
      "metadata": {
        "id": "N2y1IC1Bf4yi"
      },
      "source": [
        "#### f) Show the types of the data"
      ]
    },
    {
      "cell_type": "code",
      "execution_count": 33,
      "metadata": {
        "colab": {
          "base_uri": "https://localhost:8080/"
        },
        "id": "d4DFLnTff4yj",
        "outputId": "85438da5-81ba-4aef-8e7e-ea6601198689"
      },
      "outputs": [
        {
          "output_type": "execute_result",
          "data": {
            "text/plain": [
              "AGE            int64\n",
              "GENDER        object\n",
              "OCCUPATION    object\n",
              "ZIP_CODE      object\n",
              "dtype: object"
            ]
          },
          "metadata": {},
          "execution_count": 33
        }
      ],
      "source": [
        "users.dtypes"
      ]
    },
    {
      "cell_type": "markdown",
      "metadata": {
        "id": "mWGO3MLLf4yj"
      },
      "source": [
        "#### g) Print the occupation and gender of the employees"
      ]
    },
    {
      "cell_type": "code",
      "execution_count": 35,
      "metadata": {
        "colab": {
          "base_uri": "https://localhost:8080/",
          "height": 455
        },
        "id": "hOX9gsfaf4yj",
        "outputId": "b2a2ee92-e272-408f-a400-fc9ef9cde539"
      },
      "outputs": [
        {
          "output_type": "execute_result",
          "data": {
            "text/plain": [
              "        GENDER     OCCUPATION\n",
              "user_id                      \n",
              "1            M     technician\n",
              "2            F          other\n",
              "3            M         writer\n",
              "4            M     technician\n",
              "5            F          other\n",
              "...        ...            ...\n",
              "939          F        student\n",
              "940          M  administrator\n",
              "941          M        student\n",
              "942          F      librarian\n",
              "943          M        student\n",
              "\n",
              "[943 rows x 2 columns]"
            ],
            "text/html": [
              "\n",
              "  <div id=\"df-fe20595b-e807-4f58-9652-9f1a8075e0c6\" class=\"colab-df-container\">\n",
              "    <div>\n",
              "<style scoped>\n",
              "    .dataframe tbody tr th:only-of-type {\n",
              "        vertical-align: middle;\n",
              "    }\n",
              "\n",
              "    .dataframe tbody tr th {\n",
              "        vertical-align: top;\n",
              "    }\n",
              "\n",
              "    .dataframe thead th {\n",
              "        text-align: right;\n",
              "    }\n",
              "</style>\n",
              "<table border=\"1\" class=\"dataframe\">\n",
              "  <thead>\n",
              "    <tr style=\"text-align: right;\">\n",
              "      <th></th>\n",
              "      <th>GENDER</th>\n",
              "      <th>OCCUPATION</th>\n",
              "    </tr>\n",
              "    <tr>\n",
              "      <th>user_id</th>\n",
              "      <th></th>\n",
              "      <th></th>\n",
              "    </tr>\n",
              "  </thead>\n",
              "  <tbody>\n",
              "    <tr>\n",
              "      <th>1</th>\n",
              "      <td>M</td>\n",
              "      <td>technician</td>\n",
              "    </tr>\n",
              "    <tr>\n",
              "      <th>2</th>\n",
              "      <td>F</td>\n",
              "      <td>other</td>\n",
              "    </tr>\n",
              "    <tr>\n",
              "      <th>3</th>\n",
              "      <td>M</td>\n",
              "      <td>writer</td>\n",
              "    </tr>\n",
              "    <tr>\n",
              "      <th>4</th>\n",
              "      <td>M</td>\n",
              "      <td>technician</td>\n",
              "    </tr>\n",
              "    <tr>\n",
              "      <th>5</th>\n",
              "      <td>F</td>\n",
              "      <td>other</td>\n",
              "    </tr>\n",
              "    <tr>\n",
              "      <th>...</th>\n",
              "      <td>...</td>\n",
              "      <td>...</td>\n",
              "    </tr>\n",
              "    <tr>\n",
              "      <th>939</th>\n",
              "      <td>F</td>\n",
              "      <td>student</td>\n",
              "    </tr>\n",
              "    <tr>\n",
              "      <th>940</th>\n",
              "      <td>M</td>\n",
              "      <td>administrator</td>\n",
              "    </tr>\n",
              "    <tr>\n",
              "      <th>941</th>\n",
              "      <td>M</td>\n",
              "      <td>student</td>\n",
              "    </tr>\n",
              "    <tr>\n",
              "      <th>942</th>\n",
              "      <td>F</td>\n",
              "      <td>librarian</td>\n",
              "    </tr>\n",
              "    <tr>\n",
              "      <th>943</th>\n",
              "      <td>M</td>\n",
              "      <td>student</td>\n",
              "    </tr>\n",
              "  </tbody>\n",
              "</table>\n",
              "<p>943 rows × 2 columns</p>\n",
              "</div>\n",
              "    <div class=\"colab-df-buttons\">\n",
              "\n",
              "  <div class=\"colab-df-container\">\n",
              "    <button class=\"colab-df-convert\" onclick=\"convertToInteractive('df-fe20595b-e807-4f58-9652-9f1a8075e0c6')\"\n",
              "            title=\"Convert this dataframe to an interactive table.\"\n",
              "            style=\"display:none;\">\n",
              "\n",
              "  <svg xmlns=\"http://www.w3.org/2000/svg\" height=\"24px\" viewBox=\"0 -960 960 960\">\n",
              "    <path d=\"M120-120v-720h720v720H120Zm60-500h600v-160H180v160Zm220 220h160v-160H400v160Zm0 220h160v-160H400v160ZM180-400h160v-160H180v160Zm440 0h160v-160H620v160ZM180-180h160v-160H180v160Zm440 0h160v-160H620v160Z\"/>\n",
              "  </svg>\n",
              "    </button>\n",
              "\n",
              "  <style>\n",
              "    .colab-df-container {\n",
              "      display:flex;\n",
              "      gap: 12px;\n",
              "    }\n",
              "\n",
              "    .colab-df-convert {\n",
              "      background-color: #E8F0FE;\n",
              "      border: none;\n",
              "      border-radius: 50%;\n",
              "      cursor: pointer;\n",
              "      display: none;\n",
              "      fill: #1967D2;\n",
              "      height: 32px;\n",
              "      padding: 0 0 0 0;\n",
              "      width: 32px;\n",
              "    }\n",
              "\n",
              "    .colab-df-convert:hover {\n",
              "      background-color: #E2EBFA;\n",
              "      box-shadow: 0px 1px 2px rgba(60, 64, 67, 0.3), 0px 1px 3px 1px rgba(60, 64, 67, 0.15);\n",
              "      fill: #174EA6;\n",
              "    }\n",
              "\n",
              "    .colab-df-buttons div {\n",
              "      margin-bottom: 4px;\n",
              "    }\n",
              "\n",
              "    [theme=dark] .colab-df-convert {\n",
              "      background-color: #3B4455;\n",
              "      fill: #D2E3FC;\n",
              "    }\n",
              "\n",
              "    [theme=dark] .colab-df-convert:hover {\n",
              "      background-color: #434B5C;\n",
              "      box-shadow: 0px 1px 3px 1px rgba(0, 0, 0, 0.15);\n",
              "      filter: drop-shadow(0px 1px 2px rgba(0, 0, 0, 0.3));\n",
              "      fill: #FFFFFF;\n",
              "    }\n",
              "  </style>\n",
              "\n",
              "    <script>\n",
              "      const buttonEl =\n",
              "        document.querySelector('#df-fe20595b-e807-4f58-9652-9f1a8075e0c6 button.colab-df-convert');\n",
              "      buttonEl.style.display =\n",
              "        google.colab.kernel.accessAllowed ? 'block' : 'none';\n",
              "\n",
              "      async function convertToInteractive(key) {\n",
              "        const element = document.querySelector('#df-fe20595b-e807-4f58-9652-9f1a8075e0c6');\n",
              "        const dataTable =\n",
              "          await google.colab.kernel.invokeFunction('convertToInteractive',\n",
              "                                                    [key], {});\n",
              "        if (!dataTable) return;\n",
              "\n",
              "        const docLinkHtml = 'Like what you see? Visit the ' +\n",
              "          '<a target=\"_blank\" href=https://colab.research.google.com/notebooks/data_table.ipynb>data table notebook</a>'\n",
              "          + ' to learn more about interactive tables.';\n",
              "        element.innerHTML = '';\n",
              "        dataTable['output_type'] = 'display_data';\n",
              "        await google.colab.output.renderOutput(dataTable, element);\n",
              "        const docLink = document.createElement('div');\n",
              "        docLink.innerHTML = docLinkHtml;\n",
              "        element.appendChild(docLink);\n",
              "      }\n",
              "    </script>\n",
              "  </div>\n",
              "\n",
              "\n",
              "<div id=\"df-5ba844d5-f676-48eb-87b3-0a2e972a67a5\">\n",
              "  <button class=\"colab-df-quickchart\" onclick=\"quickchart('df-5ba844d5-f676-48eb-87b3-0a2e972a67a5')\"\n",
              "            title=\"Suggest charts.\"\n",
              "            style=\"display:none;\">\n",
              "\n",
              "<svg xmlns=\"http://www.w3.org/2000/svg\" height=\"24px\"viewBox=\"0 0 24 24\"\n",
              "     width=\"24px\">\n",
              "    <g>\n",
              "        <path d=\"M19 3H5c-1.1 0-2 .9-2 2v14c0 1.1.9 2 2 2h14c1.1 0 2-.9 2-2V5c0-1.1-.9-2-2-2zM9 17H7v-7h2v7zm4 0h-2V7h2v10zm4 0h-2v-4h2v4z\"/>\n",
              "    </g>\n",
              "</svg>\n",
              "  </button>\n",
              "\n",
              "<style>\n",
              "  .colab-df-quickchart {\n",
              "      --bg-color: #E8F0FE;\n",
              "      --fill-color: #1967D2;\n",
              "      --hover-bg-color: #E2EBFA;\n",
              "      --hover-fill-color: #174EA6;\n",
              "      --disabled-fill-color: #AAA;\n",
              "      --disabled-bg-color: #DDD;\n",
              "  }\n",
              "\n",
              "  [theme=dark] .colab-df-quickchart {\n",
              "      --bg-color: #3B4455;\n",
              "      --fill-color: #D2E3FC;\n",
              "      --hover-bg-color: #434B5C;\n",
              "      --hover-fill-color: #FFFFFF;\n",
              "      --disabled-bg-color: #3B4455;\n",
              "      --disabled-fill-color: #666;\n",
              "  }\n",
              "\n",
              "  .colab-df-quickchart {\n",
              "    background-color: var(--bg-color);\n",
              "    border: none;\n",
              "    border-radius: 50%;\n",
              "    cursor: pointer;\n",
              "    display: none;\n",
              "    fill: var(--fill-color);\n",
              "    height: 32px;\n",
              "    padding: 0;\n",
              "    width: 32px;\n",
              "  }\n",
              "\n",
              "  .colab-df-quickchart:hover {\n",
              "    background-color: var(--hover-bg-color);\n",
              "    box-shadow: 0 1px 2px rgba(60, 64, 67, 0.3), 0 1px 3px 1px rgba(60, 64, 67, 0.15);\n",
              "    fill: var(--button-hover-fill-color);\n",
              "  }\n",
              "\n",
              "  .colab-df-quickchart-complete:disabled,\n",
              "  .colab-df-quickchart-complete:disabled:hover {\n",
              "    background-color: var(--disabled-bg-color);\n",
              "    fill: var(--disabled-fill-color);\n",
              "    box-shadow: none;\n",
              "  }\n",
              "\n",
              "  .colab-df-spinner {\n",
              "    border: 2px solid var(--fill-color);\n",
              "    border-color: transparent;\n",
              "    border-bottom-color: var(--fill-color);\n",
              "    animation:\n",
              "      spin 1s steps(1) infinite;\n",
              "  }\n",
              "\n",
              "  @keyframes spin {\n",
              "    0% {\n",
              "      border-color: transparent;\n",
              "      border-bottom-color: var(--fill-color);\n",
              "      border-left-color: var(--fill-color);\n",
              "    }\n",
              "    20% {\n",
              "      border-color: transparent;\n",
              "      border-left-color: var(--fill-color);\n",
              "      border-top-color: var(--fill-color);\n",
              "    }\n",
              "    30% {\n",
              "      border-color: transparent;\n",
              "      border-left-color: var(--fill-color);\n",
              "      border-top-color: var(--fill-color);\n",
              "      border-right-color: var(--fill-color);\n",
              "    }\n",
              "    40% {\n",
              "      border-color: transparent;\n",
              "      border-right-color: var(--fill-color);\n",
              "      border-top-color: var(--fill-color);\n",
              "    }\n",
              "    60% {\n",
              "      border-color: transparent;\n",
              "      border-right-color: var(--fill-color);\n",
              "    }\n",
              "    80% {\n",
              "      border-color: transparent;\n",
              "      border-right-color: var(--fill-color);\n",
              "      border-bottom-color: var(--fill-color);\n",
              "    }\n",
              "    90% {\n",
              "      border-color: transparent;\n",
              "      border-bottom-color: var(--fill-color);\n",
              "    }\n",
              "  }\n",
              "</style>\n",
              "\n",
              "  <script>\n",
              "    async function quickchart(key) {\n",
              "      const quickchartButtonEl =\n",
              "        document.querySelector('#' + key + ' button');\n",
              "      quickchartButtonEl.disabled = true;  // To prevent multiple clicks.\n",
              "      quickchartButtonEl.classList.add('colab-df-spinner');\n",
              "      try {\n",
              "        const charts = await google.colab.kernel.invokeFunction(\n",
              "            'suggestCharts', [key], {});\n",
              "      } catch (error) {\n",
              "        console.error('Error during call to suggestCharts:', error);\n",
              "      }\n",
              "      quickchartButtonEl.classList.remove('colab-df-spinner');\n",
              "      quickchartButtonEl.classList.add('colab-df-quickchart-complete');\n",
              "    }\n",
              "    (() => {\n",
              "      let quickchartButtonEl =\n",
              "        document.querySelector('#df-5ba844d5-f676-48eb-87b3-0a2e972a67a5 button');\n",
              "      quickchartButtonEl.style.display =\n",
              "        google.colab.kernel.accessAllowed ? 'block' : 'none';\n",
              "    })();\n",
              "  </script>\n",
              "</div>\n",
              "    </div>\n",
              "  </div>\n"
            ]
          },
          "metadata": {},
          "execution_count": 35
        }
      ],
      "source": [
        "users[['GENDER', 'OCCUPATION']]"
      ]
    },
    {
      "cell_type": "markdown",
      "metadata": {
        "id": "r8xs_NBwf4yj"
      },
      "source": [
        "```loc``` in action! We see that 2 degrees of freedom are taken. The first one is given by `:`, which means we take each row in the DataFrame. Then we just specify the columns after the comma."
      ]
    },
    {
      "cell_type": "markdown",
      "metadata": {
        "id": "430yk0O4f4yj"
      },
      "source": [
        "#### h) How many unique occupations are there?"
      ]
    },
    {
      "cell_type": "code",
      "execution_count": 39,
      "metadata": {
        "colab": {
          "base_uri": "https://localhost:8080/"
        },
        "id": "8aSFweuof4yj",
        "outputId": "5e2a05f1-f0c9-42d7-d48e-ec50325c0497"
      },
      "outputs": [
        {
          "output_type": "execute_result",
          "data": {
            "text/plain": [
              "21"
            ]
          },
          "metadata": {},
          "execution_count": 39
        }
      ],
      "source": [
        "len(users.OCCUPATION.unique())"
      ]
    },
    {
      "cell_type": "markdown",
      "metadata": {
        "id": "3nhwYvBPf4yj"
      },
      "source": [
        "Number of unique elements. We could problably do it also by using set, but this is longer and unnecessary :)"
      ]
    },
    {
      "cell_type": "markdown",
      "metadata": {
        "id": "x5VjkcsCf4yj"
      },
      "source": [
        "#### i) Summerize the information about the users"
      ]
    },
    {
      "cell_type": "code",
      "execution_count": 40,
      "metadata": {
        "colab": {
          "base_uri": "https://localhost:8080/",
          "height": 394
        },
        "id": "3oI_O--Af4yj",
        "outputId": "02af09c9-fc0f-4c8c-fc4a-903801b263d3"
      },
      "outputs": [
        {
          "output_type": "execute_result",
          "data": {
            "text/plain": [
              "               AGE GENDER OCCUPATION ZIP_CODE\n",
              "count   943.000000    943        943      943\n",
              "unique         NaN      2         21      795\n",
              "top            NaN      M    student    55414\n",
              "freq           NaN    670        196        9\n",
              "mean     34.051962    NaN        NaN      NaN\n",
              "std      12.192740    NaN        NaN      NaN\n",
              "min       7.000000    NaN        NaN      NaN\n",
              "25%      25.000000    NaN        NaN      NaN\n",
              "50%      31.000000    NaN        NaN      NaN\n",
              "75%      43.000000    NaN        NaN      NaN\n",
              "max      73.000000    NaN        NaN      NaN"
            ],
            "text/html": [
              "\n",
              "  <div id=\"df-e315c980-1352-4ecb-944c-e422d5d1b087\" class=\"colab-df-container\">\n",
              "    <div>\n",
              "<style scoped>\n",
              "    .dataframe tbody tr th:only-of-type {\n",
              "        vertical-align: middle;\n",
              "    }\n",
              "\n",
              "    .dataframe tbody tr th {\n",
              "        vertical-align: top;\n",
              "    }\n",
              "\n",
              "    .dataframe thead th {\n",
              "        text-align: right;\n",
              "    }\n",
              "</style>\n",
              "<table border=\"1\" class=\"dataframe\">\n",
              "  <thead>\n",
              "    <tr style=\"text-align: right;\">\n",
              "      <th></th>\n",
              "      <th>AGE</th>\n",
              "      <th>GENDER</th>\n",
              "      <th>OCCUPATION</th>\n",
              "      <th>ZIP_CODE</th>\n",
              "    </tr>\n",
              "  </thead>\n",
              "  <tbody>\n",
              "    <tr>\n",
              "      <th>count</th>\n",
              "      <td>943.000000</td>\n",
              "      <td>943</td>\n",
              "      <td>943</td>\n",
              "      <td>943</td>\n",
              "    </tr>\n",
              "    <tr>\n",
              "      <th>unique</th>\n",
              "      <td>NaN</td>\n",
              "      <td>2</td>\n",
              "      <td>21</td>\n",
              "      <td>795</td>\n",
              "    </tr>\n",
              "    <tr>\n",
              "      <th>top</th>\n",
              "      <td>NaN</td>\n",
              "      <td>M</td>\n",
              "      <td>student</td>\n",
              "      <td>55414</td>\n",
              "    </tr>\n",
              "    <tr>\n",
              "      <th>freq</th>\n",
              "      <td>NaN</td>\n",
              "      <td>670</td>\n",
              "      <td>196</td>\n",
              "      <td>9</td>\n",
              "    </tr>\n",
              "    <tr>\n",
              "      <th>mean</th>\n",
              "      <td>34.051962</td>\n",
              "      <td>NaN</td>\n",
              "      <td>NaN</td>\n",
              "      <td>NaN</td>\n",
              "    </tr>\n",
              "    <tr>\n",
              "      <th>std</th>\n",
              "      <td>12.192740</td>\n",
              "      <td>NaN</td>\n",
              "      <td>NaN</td>\n",
              "      <td>NaN</td>\n",
              "    </tr>\n",
              "    <tr>\n",
              "      <th>min</th>\n",
              "      <td>7.000000</td>\n",
              "      <td>NaN</td>\n",
              "      <td>NaN</td>\n",
              "      <td>NaN</td>\n",
              "    </tr>\n",
              "    <tr>\n",
              "      <th>25%</th>\n",
              "      <td>25.000000</td>\n",
              "      <td>NaN</td>\n",
              "      <td>NaN</td>\n",
              "      <td>NaN</td>\n",
              "    </tr>\n",
              "    <tr>\n",
              "      <th>50%</th>\n",
              "      <td>31.000000</td>\n",
              "      <td>NaN</td>\n",
              "      <td>NaN</td>\n",
              "      <td>NaN</td>\n",
              "    </tr>\n",
              "    <tr>\n",
              "      <th>75%</th>\n",
              "      <td>43.000000</td>\n",
              "      <td>NaN</td>\n",
              "      <td>NaN</td>\n",
              "      <td>NaN</td>\n",
              "    </tr>\n",
              "    <tr>\n",
              "      <th>max</th>\n",
              "      <td>73.000000</td>\n",
              "      <td>NaN</td>\n",
              "      <td>NaN</td>\n",
              "      <td>NaN</td>\n",
              "    </tr>\n",
              "  </tbody>\n",
              "</table>\n",
              "</div>\n",
              "    <div class=\"colab-df-buttons\">\n",
              "\n",
              "  <div class=\"colab-df-container\">\n",
              "    <button class=\"colab-df-convert\" onclick=\"convertToInteractive('df-e315c980-1352-4ecb-944c-e422d5d1b087')\"\n",
              "            title=\"Convert this dataframe to an interactive table.\"\n",
              "            style=\"display:none;\">\n",
              "\n",
              "  <svg xmlns=\"http://www.w3.org/2000/svg\" height=\"24px\" viewBox=\"0 -960 960 960\">\n",
              "    <path d=\"M120-120v-720h720v720H120Zm60-500h600v-160H180v160Zm220 220h160v-160H400v160Zm0 220h160v-160H400v160ZM180-400h160v-160H180v160Zm440 0h160v-160H620v160ZM180-180h160v-160H180v160Zm440 0h160v-160H620v160Z\"/>\n",
              "  </svg>\n",
              "    </button>\n",
              "\n",
              "  <style>\n",
              "    .colab-df-container {\n",
              "      display:flex;\n",
              "      gap: 12px;\n",
              "    }\n",
              "\n",
              "    .colab-df-convert {\n",
              "      background-color: #E8F0FE;\n",
              "      border: none;\n",
              "      border-radius: 50%;\n",
              "      cursor: pointer;\n",
              "      display: none;\n",
              "      fill: #1967D2;\n",
              "      height: 32px;\n",
              "      padding: 0 0 0 0;\n",
              "      width: 32px;\n",
              "    }\n",
              "\n",
              "    .colab-df-convert:hover {\n",
              "      background-color: #E2EBFA;\n",
              "      box-shadow: 0px 1px 2px rgba(60, 64, 67, 0.3), 0px 1px 3px 1px rgba(60, 64, 67, 0.15);\n",
              "      fill: #174EA6;\n",
              "    }\n",
              "\n",
              "    .colab-df-buttons div {\n",
              "      margin-bottom: 4px;\n",
              "    }\n",
              "\n",
              "    [theme=dark] .colab-df-convert {\n",
              "      background-color: #3B4455;\n",
              "      fill: #D2E3FC;\n",
              "    }\n",
              "\n",
              "    [theme=dark] .colab-df-convert:hover {\n",
              "      background-color: #434B5C;\n",
              "      box-shadow: 0px 1px 3px 1px rgba(0, 0, 0, 0.15);\n",
              "      filter: drop-shadow(0px 1px 2px rgba(0, 0, 0, 0.3));\n",
              "      fill: #FFFFFF;\n",
              "    }\n",
              "  </style>\n",
              "\n",
              "    <script>\n",
              "      const buttonEl =\n",
              "        document.querySelector('#df-e315c980-1352-4ecb-944c-e422d5d1b087 button.colab-df-convert');\n",
              "      buttonEl.style.display =\n",
              "        google.colab.kernel.accessAllowed ? 'block' : 'none';\n",
              "\n",
              "      async function convertToInteractive(key) {\n",
              "        const element = document.querySelector('#df-e315c980-1352-4ecb-944c-e422d5d1b087');\n",
              "        const dataTable =\n",
              "          await google.colab.kernel.invokeFunction('convertToInteractive',\n",
              "                                                    [key], {});\n",
              "        if (!dataTable) return;\n",
              "\n",
              "        const docLinkHtml = 'Like what you see? Visit the ' +\n",
              "          '<a target=\"_blank\" href=https://colab.research.google.com/notebooks/data_table.ipynb>data table notebook</a>'\n",
              "          + ' to learn more about interactive tables.';\n",
              "        element.innerHTML = '';\n",
              "        dataTable['output_type'] = 'display_data';\n",
              "        await google.colab.output.renderOutput(dataTable, element);\n",
              "        const docLink = document.createElement('div');\n",
              "        docLink.innerHTML = docLinkHtml;\n",
              "        element.appendChild(docLink);\n",
              "      }\n",
              "    </script>\n",
              "  </div>\n",
              "\n",
              "\n",
              "<div id=\"df-cb9237f9-d081-4b96-ba31-1345e20c1064\">\n",
              "  <button class=\"colab-df-quickchart\" onclick=\"quickchart('df-cb9237f9-d081-4b96-ba31-1345e20c1064')\"\n",
              "            title=\"Suggest charts.\"\n",
              "            style=\"display:none;\">\n",
              "\n",
              "<svg xmlns=\"http://www.w3.org/2000/svg\" height=\"24px\"viewBox=\"0 0 24 24\"\n",
              "     width=\"24px\">\n",
              "    <g>\n",
              "        <path d=\"M19 3H5c-1.1 0-2 .9-2 2v14c0 1.1.9 2 2 2h14c1.1 0 2-.9 2-2V5c0-1.1-.9-2-2-2zM9 17H7v-7h2v7zm4 0h-2V7h2v10zm4 0h-2v-4h2v4z\"/>\n",
              "    </g>\n",
              "</svg>\n",
              "  </button>\n",
              "\n",
              "<style>\n",
              "  .colab-df-quickchart {\n",
              "      --bg-color: #E8F0FE;\n",
              "      --fill-color: #1967D2;\n",
              "      --hover-bg-color: #E2EBFA;\n",
              "      --hover-fill-color: #174EA6;\n",
              "      --disabled-fill-color: #AAA;\n",
              "      --disabled-bg-color: #DDD;\n",
              "  }\n",
              "\n",
              "  [theme=dark] .colab-df-quickchart {\n",
              "      --bg-color: #3B4455;\n",
              "      --fill-color: #D2E3FC;\n",
              "      --hover-bg-color: #434B5C;\n",
              "      --hover-fill-color: #FFFFFF;\n",
              "      --disabled-bg-color: #3B4455;\n",
              "      --disabled-fill-color: #666;\n",
              "  }\n",
              "\n",
              "  .colab-df-quickchart {\n",
              "    background-color: var(--bg-color);\n",
              "    border: none;\n",
              "    border-radius: 50%;\n",
              "    cursor: pointer;\n",
              "    display: none;\n",
              "    fill: var(--fill-color);\n",
              "    height: 32px;\n",
              "    padding: 0;\n",
              "    width: 32px;\n",
              "  }\n",
              "\n",
              "  .colab-df-quickchart:hover {\n",
              "    background-color: var(--hover-bg-color);\n",
              "    box-shadow: 0 1px 2px rgba(60, 64, 67, 0.3), 0 1px 3px 1px rgba(60, 64, 67, 0.15);\n",
              "    fill: var(--button-hover-fill-color);\n",
              "  }\n",
              "\n",
              "  .colab-df-quickchart-complete:disabled,\n",
              "  .colab-df-quickchart-complete:disabled:hover {\n",
              "    background-color: var(--disabled-bg-color);\n",
              "    fill: var(--disabled-fill-color);\n",
              "    box-shadow: none;\n",
              "  }\n",
              "\n",
              "  .colab-df-spinner {\n",
              "    border: 2px solid var(--fill-color);\n",
              "    border-color: transparent;\n",
              "    border-bottom-color: var(--fill-color);\n",
              "    animation:\n",
              "      spin 1s steps(1) infinite;\n",
              "  }\n",
              "\n",
              "  @keyframes spin {\n",
              "    0% {\n",
              "      border-color: transparent;\n",
              "      border-bottom-color: var(--fill-color);\n",
              "      border-left-color: var(--fill-color);\n",
              "    }\n",
              "    20% {\n",
              "      border-color: transparent;\n",
              "      border-left-color: var(--fill-color);\n",
              "      border-top-color: var(--fill-color);\n",
              "    }\n",
              "    30% {\n",
              "      border-color: transparent;\n",
              "      border-left-color: var(--fill-color);\n",
              "      border-top-color: var(--fill-color);\n",
              "      border-right-color: var(--fill-color);\n",
              "    }\n",
              "    40% {\n",
              "      border-color: transparent;\n",
              "      border-right-color: var(--fill-color);\n",
              "      border-top-color: var(--fill-color);\n",
              "    }\n",
              "    60% {\n",
              "      border-color: transparent;\n",
              "      border-right-color: var(--fill-color);\n",
              "    }\n",
              "    80% {\n",
              "      border-color: transparent;\n",
              "      border-right-color: var(--fill-color);\n",
              "      border-bottom-color: var(--fill-color);\n",
              "    }\n",
              "    90% {\n",
              "      border-color: transparent;\n",
              "      border-bottom-color: var(--fill-color);\n",
              "    }\n",
              "  }\n",
              "</style>\n",
              "\n",
              "  <script>\n",
              "    async function quickchart(key) {\n",
              "      const quickchartButtonEl =\n",
              "        document.querySelector('#' + key + ' button');\n",
              "      quickchartButtonEl.disabled = true;  // To prevent multiple clicks.\n",
              "      quickchartButtonEl.classList.add('colab-df-spinner');\n",
              "      try {\n",
              "        const charts = await google.colab.kernel.invokeFunction(\n",
              "            'suggestCharts', [key], {});\n",
              "      } catch (error) {\n",
              "        console.error('Error during call to suggestCharts:', error);\n",
              "      }\n",
              "      quickchartButtonEl.classList.remove('colab-df-spinner');\n",
              "      quickchartButtonEl.classList.add('colab-df-quickchart-complete');\n",
              "    }\n",
              "    (() => {\n",
              "      let quickchartButtonEl =\n",
              "        document.querySelector('#df-cb9237f9-d081-4b96-ba31-1345e20c1064 button');\n",
              "      quickchartButtonEl.style.display =\n",
              "        google.colab.kernel.accessAllowed ? 'block' : 'none';\n",
              "    })();\n",
              "  </script>\n",
              "</div>\n",
              "    </div>\n",
              "  </div>\n"
            ]
          },
          "metadata": {},
          "execution_count": 40
        }
      ],
      "source": [
        "users.describe(include = 'all')\n",
        "# without include - only gives numeric values"
      ]
    },
    {
      "cell_type": "markdown",
      "metadata": {
        "id": "OAP6BAtSf4yj"
      },
      "source": [
        "Describe gives us the simplest statistical information about the df"
      ]
    },
    {
      "cell_type": "markdown",
      "metadata": {
        "id": "AXoMbGQ1f4yj"
      },
      "source": [
        "#### z) What is the mean age?"
      ]
    },
    {
      "cell_type": "code",
      "execution_count": 41,
      "metadata": {
        "colab": {
          "base_uri": "https://localhost:8080/"
        },
        "id": "Oh--8xbif4yj",
        "outputId": "7fa1c231-5f52-4ef0-d7c2-0414f5d363eb"
      },
      "outputs": [
        {
          "output_type": "execute_result",
          "data": {
            "text/plain": [
              "34.05196182396607"
            ]
          },
          "metadata": {},
          "execution_count": 41
        }
      ],
      "source": [
        "users.AGE.mean()"
      ]
    },
    {
      "cell_type": "markdown",
      "metadata": {
        "id": "hP3uCTpgf4yj"
      },
      "source": [
        "pandas has implemented the simplest aggregators as methods. See? Here goes mean(), but more of them can be used like .var, .std etc. You can also think about your functions."
      ]
    },
    {
      "cell_type": "markdown",
      "metadata": {
        "id": "fKCdlyTTf4yk"
      },
      "source": [
        "#### $\\eta$)  What is the occupation with least occurences?"
      ]
    },
    {
      "cell_type": "code",
      "execution_count": 43,
      "metadata": {
        "colab": {
          "base_uri": "https://localhost:8080/"
        },
        "id": "NhFBGT84f4yk",
        "outputId": "82c4f8cf-04ea-4e09-ca2d-a61c8d4aff5e"
      },
      "outputs": [
        {
          "output_type": "execute_result",
          "data": {
            "text/plain": [
              "70    3\n",
              "62    2\n",
              "68    2\n",
              "64    2\n",
              "69    2\n",
              "7     1\n",
              "66    1\n",
              "11    1\n",
              "10    1\n",
              "73    1\n",
              "Name: AGE, dtype: int64"
            ]
          },
          "metadata": {},
          "execution_count": 43
        }
      ],
      "source": [
        "users.AGE.value_counts().tail(10)"
      ]
    },
    {
      "cell_type": "markdown",
      "metadata": {
        "id": "WSImsDu9f4yk"
      },
      "source": [
        "Value_counts gives a number of occurances of specific elements in the DF."
      ]
    },
    {
      "cell_type": "markdown",
      "metadata": {
        "id": "x9aJKZ1Of4yk"
      },
      "source": [
        "## <center>Filtering and sorting data</center>"
      ]
    },
    {
      "cell_type": "markdown",
      "metadata": {
        "id": "03XDqwMbf4yk"
      },
      "source": [
        "### Task 1"
      ]
    },
    {
      "cell_type": "markdown",
      "metadata": {
        "id": "28Wrmq4Yf4yk"
      },
      "source": [
        "#### <center>Otter</center>\n",
        "<center>This is an otter, it works with you!</center>\n",
        "<center><img src = https://www.otterspecialistgroup.org/osg-newsite/wp-content/uploads/2017/04/ThinkstockPhotos-827261360.jpg width=160 height=160></center>\n",
        "Read the same database as in the previous task."
      ]
    },
    {
      "cell_type": "code",
      "execution_count": null,
      "metadata": {
        "id": "8DOY5ptrf4yk",
        "outputId": "3f18a05c-518d-45c6-af05-ddd7fddca62c"
      },
      "outputs": [
        {
          "data": {
            "text/html": [
              "<div>\n",
              "<style scoped>\n",
              "    .dataframe tbody tr th:only-of-type {\n",
              "        vertical-align: middle;\n",
              "    }\n",
              "\n",
              "    .dataframe tbody tr th {\n",
              "        vertical-align: top;\n",
              "    }\n",
              "\n",
              "    .dataframe thead th {\n",
              "        text-align: right;\n",
              "    }\n",
              "</style>\n",
              "<table border=\"1\" class=\"dataframe\">\n",
              "  <thead>\n",
              "    <tr style=\"text-align: right;\">\n",
              "      <th></th>\n",
              "      <th>age</th>\n",
              "      <th>gender</th>\n",
              "      <th>occupation</th>\n",
              "      <th>zip_code</th>\n",
              "    </tr>\n",
              "    <tr>\n",
              "      <th>user_id</th>\n",
              "      <th></th>\n",
              "      <th></th>\n",
              "      <th></th>\n",
              "      <th></th>\n",
              "    </tr>\n",
              "  </thead>\n",
              "  <tbody>\n",
              "    <tr>\n",
              "      <th>1</th>\n",
              "      <td>24</td>\n",
              "      <td>M</td>\n",
              "      <td>technician</td>\n",
              "      <td>85711</td>\n",
              "    </tr>\n",
              "    <tr>\n",
              "      <th>2</th>\n",
              "      <td>53</td>\n",
              "      <td>F</td>\n",
              "      <td>other</td>\n",
              "      <td>94043</td>\n",
              "    </tr>\n",
              "    <tr>\n",
              "      <th>3</th>\n",
              "      <td>23</td>\n",
              "      <td>M</td>\n",
              "      <td>writer</td>\n",
              "      <td>32067</td>\n",
              "    </tr>\n",
              "    <tr>\n",
              "      <th>4</th>\n",
              "      <td>24</td>\n",
              "      <td>M</td>\n",
              "      <td>technician</td>\n",
              "      <td>43537</td>\n",
              "    </tr>\n",
              "    <tr>\n",
              "      <th>5</th>\n",
              "      <td>33</td>\n",
              "      <td>F</td>\n",
              "      <td>other</td>\n",
              "      <td>15213</td>\n",
              "    </tr>\n",
              "    <tr>\n",
              "      <th>...</th>\n",
              "      <td>...</td>\n",
              "      <td>...</td>\n",
              "      <td>...</td>\n",
              "      <td>...</td>\n",
              "    </tr>\n",
              "    <tr>\n",
              "      <th>939</th>\n",
              "      <td>26</td>\n",
              "      <td>F</td>\n",
              "      <td>student</td>\n",
              "      <td>33319</td>\n",
              "    </tr>\n",
              "    <tr>\n",
              "      <th>940</th>\n",
              "      <td>32</td>\n",
              "      <td>M</td>\n",
              "      <td>administrator</td>\n",
              "      <td>02215</td>\n",
              "    </tr>\n",
              "    <tr>\n",
              "      <th>941</th>\n",
              "      <td>20</td>\n",
              "      <td>M</td>\n",
              "      <td>student</td>\n",
              "      <td>97229</td>\n",
              "    </tr>\n",
              "    <tr>\n",
              "      <th>942</th>\n",
              "      <td>48</td>\n",
              "      <td>F</td>\n",
              "      <td>librarian</td>\n",
              "      <td>78209</td>\n",
              "    </tr>\n",
              "    <tr>\n",
              "      <th>943</th>\n",
              "      <td>22</td>\n",
              "      <td>M</td>\n",
              "      <td>student</td>\n",
              "      <td>77841</td>\n",
              "    </tr>\n",
              "  </tbody>\n",
              "</table>\n",
              "<p>943 rows × 4 columns</p>\n",
              "</div>"
            ],
            "text/plain": [
              "         age gender     occupation zip_code\n",
              "user_id                                    \n",
              "1         24      M     technician    85711\n",
              "2         53      F          other    94043\n",
              "3         23      M         writer    32067\n",
              "4         24      M     technician    43537\n",
              "5         33      F          other    15213\n",
              "...      ...    ...            ...      ...\n",
              "939       26      F        student    33319\n",
              "940       32      M  administrator    02215\n",
              "941       20      M        student    97229\n",
              "942       48      F      librarian    78209\n",
              "943       22      M        student    77841\n",
              "\n",
              "[943 rows x 4 columns]"
            ]
          },
          "execution_count": 23,
          "metadata": {},
          "output_type": "execute_result"
        }
      ],
      "source": [
        "users = pd.read_csv('https://raw.githubusercontent.com/justmarkham/DAT8/master/data/u.user',\n",
        "                    sep         =   '|',\n",
        "                    index_col   =   'user_id')\n",
        "users"
      ]
    },
    {
      "cell_type": "markdown",
      "metadata": {
        "id": "ZGPryrA2f4yk"
      },
      "source": [
        "We see that the separator in the reading method is quite different again using a pipe |"
      ]
    },
    {
      "cell_type": "markdown",
      "metadata": {
        "id": "xf_cFh4nf4yk"
      },
      "source": [
        "#### a) Sort users by occupation"
      ]
    },
    {
      "cell_type": "code",
      "execution_count": null,
      "metadata": {
        "id": "n2X99fWXf4yk",
        "outputId": "6969a6cc-9fbe-456f-8485-eece00b4f6e2"
      },
      "outputs": [
        {
          "data": {
            "text/html": [
              "<div>\n",
              "<style scoped>\n",
              "    .dataframe tbody tr th:only-of-type {\n",
              "        vertical-align: middle;\n",
              "    }\n",
              "\n",
              "    .dataframe tbody tr th {\n",
              "        vertical-align: top;\n",
              "    }\n",
              "\n",
              "    .dataframe thead th {\n",
              "        text-align: right;\n",
              "    }\n",
              "</style>\n",
              "<table border=\"1\" class=\"dataframe\">\n",
              "  <thead>\n",
              "    <tr style=\"text-align: right;\">\n",
              "      <th></th>\n",
              "      <th>age</th>\n",
              "      <th>gender</th>\n",
              "      <th>occupation</th>\n",
              "      <th>zip_code</th>\n",
              "    </tr>\n",
              "    <tr>\n",
              "      <th>user_id</th>\n",
              "      <th></th>\n",
              "      <th></th>\n",
              "      <th></th>\n",
              "      <th></th>\n",
              "    </tr>\n",
              "  </thead>\n",
              "  <tbody>\n",
              "    <tr>\n",
              "      <th>72</th>\n",
              "      <td>48</td>\n",
              "      <td>F</td>\n",
              "      <td>administrator</td>\n",
              "      <td>73034</td>\n",
              "    </tr>\n",
              "    <tr>\n",
              "      <th>768</th>\n",
              "      <td>29</td>\n",
              "      <td>M</td>\n",
              "      <td>administrator</td>\n",
              "      <td>12866</td>\n",
              "    </tr>\n",
              "    <tr>\n",
              "      <th>326</th>\n",
              "      <td>41</td>\n",
              "      <td>M</td>\n",
              "      <td>administrator</td>\n",
              "      <td>15235</td>\n",
              "    </tr>\n",
              "    <tr>\n",
              "      <th>857</th>\n",
              "      <td>35</td>\n",
              "      <td>F</td>\n",
              "      <td>administrator</td>\n",
              "      <td>V1G4L</td>\n",
              "    </tr>\n",
              "    <tr>\n",
              "      <th>89</th>\n",
              "      <td>43</td>\n",
              "      <td>F</td>\n",
              "      <td>administrator</td>\n",
              "      <td>68106</td>\n",
              "    </tr>\n",
              "    <tr>\n",
              "      <th>...</th>\n",
              "      <td>...</td>\n",
              "      <td>...</td>\n",
              "      <td>...</td>\n",
              "      <td>...</td>\n",
              "    </tr>\n",
              "    <tr>\n",
              "      <th>264</th>\n",
              "      <td>36</td>\n",
              "      <td>F</td>\n",
              "      <td>writer</td>\n",
              "      <td>90064</td>\n",
              "    </tr>\n",
              "    <tr>\n",
              "      <th>491</th>\n",
              "      <td>43</td>\n",
              "      <td>F</td>\n",
              "      <td>writer</td>\n",
              "      <td>53711</td>\n",
              "    </tr>\n",
              "    <tr>\n",
              "      <th>498</th>\n",
              "      <td>26</td>\n",
              "      <td>M</td>\n",
              "      <td>writer</td>\n",
              "      <td>55408</td>\n",
              "    </tr>\n",
              "    <tr>\n",
              "      <th>390</th>\n",
              "      <td>42</td>\n",
              "      <td>F</td>\n",
              "      <td>writer</td>\n",
              "      <td>85016</td>\n",
              "    </tr>\n",
              "    <tr>\n",
              "      <th>833</th>\n",
              "      <td>34</td>\n",
              "      <td>M</td>\n",
              "      <td>writer</td>\n",
              "      <td>90019</td>\n",
              "    </tr>\n",
              "  </tbody>\n",
              "</table>\n",
              "<p>943 rows × 4 columns</p>\n",
              "</div>"
            ],
            "text/plain": [
              "         age gender     occupation zip_code\n",
              "user_id                                    \n",
              "72        48      F  administrator    73034\n",
              "768       29      M  administrator    12866\n",
              "326       41      M  administrator    15235\n",
              "857       35      F  administrator    V1G4L\n",
              "89        43      F  administrator    68106\n",
              "...      ...    ...            ...      ...\n",
              "264       36      F         writer    90064\n",
              "491       43      F         writer    53711\n",
              "498       26      M         writer    55408\n",
              "390       42      F         writer    85016\n",
              "833       34      M         writer    90019\n",
              "\n",
              "[943 rows x 4 columns]"
            ]
          },
          "execution_count": 24,
          "metadata": {},
          "output_type": "execute_result"
        }
      ],
      "source": [
        "users.sort_values('occupation')"
      ]
    },
    {
      "cell_type": "markdown",
      "metadata": {
        "id": "thgS1Pmbf4yk"
      },
      "source": [
        "The method sort_values has the ability to sort the columns indeed. Yet it is cool as we can specify the column(s) to be sorted by."
      ]
    },
    {
      "cell_type": "markdown",
      "metadata": {
        "id": "TD_NUSKkf4yl"
      },
      "source": [
        "#### b) What is the most common zip_code\n",
        "Use the groupby operation and sort the values. You can also use your own method."
      ]
    },
    {
      "cell_type": "code",
      "execution_count": null,
      "metadata": {
        "id": "Dt--_Lwgf4yl",
        "outputId": "68ec0a99-8d6b-4206-f77f-168eaa31f9eb"
      },
      "outputs": [
        {
          "data": {
            "text/plain": [
              "zip_code\n",
              "55414    9\n",
              "55105    6\n",
              "20009    5\n",
              "55337    5\n",
              "10003    5\n",
              "        ..\n",
              "33205    1\n",
              "33308    1\n",
              "33319    1\n",
              "33484    1\n",
              "Y1A6B    1\n",
              "Name: zip_code, Length: 795, dtype: int64"
            ]
          },
          "execution_count": 25,
          "metadata": {},
          "output_type": "execute_result"
        }
      ],
      "source": []
    },
    {
      "cell_type": "markdown",
      "metadata": {
        "id": "UJcelFg_f4yl"
      },
      "source": [
        "Groupby is a method that uses a given mapper to split the object and then appply some function to it combining it to a results. It includes main parameters:\n",
        " - by : mapping, function, label, or list of labels\n",
        "\n",
        "    Used to determine the groups for the groupby. If by is a function, it’s called on each value of the object’s index. If a dict or Series is passed, the Series or dict VALUES will be used to determine the groups (the Series’ values are first aligned; see .align() method). If a list or ndarray of length equal to the selected axis is passed (see the groupby user guide), the values are used as-is to determine the groups. A label or list of labels may be passed to group by the columns in self. Notice that a tuple is interpreted as a (single) key.\n",
        "- axis : {0 or ‘index’, 1 or ‘columns’}, default 0\n",
        "\n",
        "    Split along rows (0) or columns (1). For Series this parameter is unused and defaults to 0.\n",
        "- level : int, level name, or sequence of such, default None\n",
        "\n",
        "    If the axis is a MultiIndex (hierarchical), group by a particular level or levels. Do not specify both by and level.\n",
        "- as_index : bool, default True\n",
        "\n",
        "    For aggregated output, return object with group labels as the index. Only relevant for DataFrame input. as_index=False is effectively “SQL-style” grouped output.\n",
        "- sort : bool, default True\n",
        "\n",
        "    Sort group keys. Get better performance by turning this off. Note this does not influence the order of observations within each group. Groupby preserves the order of rows within each group.\n"
      ]
    },
    {
      "cell_type": "markdown",
      "metadata": {
        "id": "dMRwnekef4yl"
      },
      "source": [
        "#### c) What happens if we choose people only over 30?\n",
        "You can again use groupby() method."
      ]
    },
    {
      "cell_type": "code",
      "execution_count": null,
      "metadata": {
        "id": "y3j2LRs0f4yl",
        "outputId": "03c72b2b-1189-40a3-d4c2-89bb9f305b14"
      },
      "outputs": [
        {
          "data": {
            "text/plain": [
              "zip_code\n",
              "55105    4\n",
              "60201    3\n",
              "62901    3\n",
              "22902    3\n",
              "97301    3\n",
              "        ..\n",
              "30606    1\n",
              "30329    1\n",
              "30220    1\n",
              "30093    1\n",
              "Y1A6B    1\n",
              "Name: zip_code, Length: 448, dtype: int64"
            ]
          },
          "execution_count": 26,
          "metadata": {},
          "output_type": "execute_result"
        }
      ],
      "source": [
        "age = 30\n",
        "users[users.age > age].groupby('zip_code')['zip_code'].count().sort_values(ascending=False)"
      ]
    },
    {
      "cell_type": "markdown",
      "metadata": {
        "id": "KQhZfeSWf4yl"
      },
      "source": [
        "Groupby can be used on queried DataFrame as well. Then we use one of the aggregators which is `count` in this case."
      ]
    },
    {
      "cell_type": "markdown",
      "metadata": {
        "id": "xwsxQD3Hf4yl"
      },
      "source": [
        "#### d) And in case of Women?"
      ]
    },
    {
      "cell_type": "code",
      "execution_count": null,
      "metadata": {
        "id": "beARu2B0f4ym",
        "outputId": "3d4810e2-cbf2-402d-f067-96d961293ff2"
      },
      "outputs": [
        {
          "data": {
            "text/plain": [
              "zip_code\n",
              "55414    3\n",
              "22903    3\n",
              "55105    3\n",
              "20009    3\n",
              "80526    2\n",
              "        ..\n",
              "37212    1\n",
              "38866    1\n",
              "39042    1\n",
              "40256    1\n",
              "V5A2B    1\n",
              "Name: zip_code, Length: 251, dtype: int64"
            ]
          },
          "execution_count": 27,
          "metadata": {},
          "output_type": "execute_result"
        }
      ],
      "source": []
    },
    {
      "cell_type": "markdown",
      "metadata": {
        "id": "7w3TUrVuf4ym"
      },
      "source": [
        "### Task 2"
      ]
    },
    {
      "cell_type": "markdown",
      "metadata": {
        "id": "aAxB_ky_f4ym"
      },
      "source": [
        "#### We'll use the previous dataframe and the one from [Chipotle Exercises Video](https://github.com/justmarkham) Tutorial, in which you can watch someone else go through the exercises."
      ]
    },
    {
      "cell_type": "code",
      "execution_count": null,
      "metadata": {
        "id": "HYTR3o5of4ym",
        "outputId": "6b10fb21-860a-4104-a3a7-37738cfbbe23"
      },
      "outputs": [
        {
          "ename": "SyntaxError",
          "evalue": "invalid syntax (3552398226.py, line 2)",
          "output_type": "error",
          "traceback": [
            "\u001b[1;36m  Input \u001b[1;32mIn [108]\u001b[1;36m\u001b[0m\n\u001b[1;33m    idx     =\u001b[0m\n\u001b[1;37m              ^\u001b[0m\n\u001b[1;31mSyntaxError\u001b[0m\u001b[1;31m:\u001b[0m invalid syntax\n"
          ]
        }
      ],
      "source": [
        "url     = 'https://raw.githubusercontent.com/justmarkham/DAT8/master/data/chipotle.tsv'\n",
        "idx     =\n",
        "chipo   = pd.read_csv(url, sep = '\\t')\n",
        "chipo"
      ]
    },
    {
      "cell_type": "markdown",
      "metadata": {
        "id": "SZOk7ZWWf4ym"
      },
      "source": [
        "#### a) Change the item_price column to be numeric and in USD by default\n",
        "You can use the .apply() method."
      ]
    },
    {
      "cell_type": "code",
      "execution_count": null,
      "metadata": {
        "id": "XOoB3Qrlf4ym",
        "outputId": "f1295b52-2db3-4c1d-f50c-a26ee22a0154"
      },
      "outputs": [
        {
          "data": {
            "text/html": [
              "<div>\n",
              "<style scoped>\n",
              "    .dataframe tbody tr th:only-of-type {\n",
              "        vertical-align: middle;\n",
              "    }\n",
              "\n",
              "    .dataframe tbody tr th {\n",
              "        vertical-align: top;\n",
              "    }\n",
              "\n",
              "    .dataframe thead th {\n",
              "        text-align: right;\n",
              "    }\n",
              "</style>\n",
              "<table border=\"1\" class=\"dataframe\">\n",
              "  <thead>\n",
              "    <tr style=\"text-align: right;\">\n",
              "      <th></th>\n",
              "      <th>order_id</th>\n",
              "      <th>quantity</th>\n",
              "      <th>item_name</th>\n",
              "      <th>choice_description</th>\n",
              "      <th>item_price</th>\n",
              "    </tr>\n",
              "  </thead>\n",
              "  <tbody>\n",
              "    <tr>\n",
              "      <th>0</th>\n",
              "      <td>1</td>\n",
              "      <td>1</td>\n",
              "      <td>Chips and Fresh Tomato Salsa</td>\n",
              "      <td>NaN</td>\n",
              "      <td>2.39</td>\n",
              "    </tr>\n",
              "    <tr>\n",
              "      <th>1</th>\n",
              "      <td>1</td>\n",
              "      <td>1</td>\n",
              "      <td>Izze</td>\n",
              "      <td>[Clementine]</td>\n",
              "      <td>3.39</td>\n",
              "    </tr>\n",
              "    <tr>\n",
              "      <th>2</th>\n",
              "      <td>1</td>\n",
              "      <td>1</td>\n",
              "      <td>Nantucket Nectar</td>\n",
              "      <td>[Apple]</td>\n",
              "      <td>3.39</td>\n",
              "    </tr>\n",
              "    <tr>\n",
              "      <th>3</th>\n",
              "      <td>1</td>\n",
              "      <td>1</td>\n",
              "      <td>Chips and Tomatillo-Green Chili Salsa</td>\n",
              "      <td>NaN</td>\n",
              "      <td>2.39</td>\n",
              "    </tr>\n",
              "    <tr>\n",
              "      <th>4</th>\n",
              "      <td>2</td>\n",
              "      <td>2</td>\n",
              "      <td>Chicken Bowl</td>\n",
              "      <td>[Tomatillo-Red Chili Salsa (Hot), [Black Beans...</td>\n",
              "      <td>16.98</td>\n",
              "    </tr>\n",
              "    <tr>\n",
              "      <th>...</th>\n",
              "      <td>...</td>\n",
              "      <td>...</td>\n",
              "      <td>...</td>\n",
              "      <td>...</td>\n",
              "      <td>...</td>\n",
              "    </tr>\n",
              "    <tr>\n",
              "      <th>4617</th>\n",
              "      <td>1833</td>\n",
              "      <td>1</td>\n",
              "      <td>Steak Burrito</td>\n",
              "      <td>[Fresh Tomato Salsa, [Rice, Black Beans, Sour ...</td>\n",
              "      <td>11.75</td>\n",
              "    </tr>\n",
              "    <tr>\n",
              "      <th>4618</th>\n",
              "      <td>1833</td>\n",
              "      <td>1</td>\n",
              "      <td>Steak Burrito</td>\n",
              "      <td>[Fresh Tomato Salsa, [Rice, Sour Cream, Cheese...</td>\n",
              "      <td>11.75</td>\n",
              "    </tr>\n",
              "    <tr>\n",
              "      <th>4619</th>\n",
              "      <td>1834</td>\n",
              "      <td>1</td>\n",
              "      <td>Chicken Salad Bowl</td>\n",
              "      <td>[Fresh Tomato Salsa, [Fajita Vegetables, Pinto...</td>\n",
              "      <td>11.25</td>\n",
              "    </tr>\n",
              "    <tr>\n",
              "      <th>4620</th>\n",
              "      <td>1834</td>\n",
              "      <td>1</td>\n",
              "      <td>Chicken Salad Bowl</td>\n",
              "      <td>[Fresh Tomato Salsa, [Fajita Vegetables, Lettu...</td>\n",
              "      <td>8.75</td>\n",
              "    </tr>\n",
              "    <tr>\n",
              "      <th>4621</th>\n",
              "      <td>1834</td>\n",
              "      <td>1</td>\n",
              "      <td>Chicken Salad Bowl</td>\n",
              "      <td>[Fresh Tomato Salsa, [Fajita Vegetables, Pinto...</td>\n",
              "      <td>8.75</td>\n",
              "    </tr>\n",
              "  </tbody>\n",
              "</table>\n",
              "<p>4622 rows × 5 columns</p>\n",
              "</div>"
            ],
            "text/plain": [
              "      order_id  quantity                              item_name  \\\n",
              "0            1         1           Chips and Fresh Tomato Salsa   \n",
              "1            1         1                                   Izze   \n",
              "2            1         1                       Nantucket Nectar   \n",
              "3            1         1  Chips and Tomatillo-Green Chili Salsa   \n",
              "4            2         2                           Chicken Bowl   \n",
              "...        ...       ...                                    ...   \n",
              "4617      1833         1                          Steak Burrito   \n",
              "4618      1833         1                          Steak Burrito   \n",
              "4619      1834         1                     Chicken Salad Bowl   \n",
              "4620      1834         1                     Chicken Salad Bowl   \n",
              "4621      1834         1                     Chicken Salad Bowl   \n",
              "\n",
              "                                     choice_description  item_price  \n",
              "0                                                   NaN        2.39  \n",
              "1                                          [Clementine]        3.39  \n",
              "2                                               [Apple]        3.39  \n",
              "3                                                   NaN        2.39  \n",
              "4     [Tomatillo-Red Chili Salsa (Hot), [Black Beans...       16.98  \n",
              "...                                                 ...         ...  \n",
              "4617  [Fresh Tomato Salsa, [Rice, Black Beans, Sour ...       11.75  \n",
              "4618  [Fresh Tomato Salsa, [Rice, Sour Cream, Cheese...       11.75  \n",
              "4619  [Fresh Tomato Salsa, [Fajita Vegetables, Pinto...       11.25  \n",
              "4620  [Fresh Tomato Salsa, [Fajita Vegetables, Lettu...        8.75  \n",
              "4621  [Fresh Tomato Salsa, [Fajita Vegetables, Pinto...        8.75  \n",
              "\n",
              "[4622 rows x 5 columns]"
            ]
          },
          "execution_count": 54,
          "metadata": {},
          "output_type": "execute_result"
        }
      ],
      "source": [
        "chipo.item_price = chipo.item_price.apply(lambda x: float(x[1:]))\n",
        "chipo"
      ]
    },
    {
      "cell_type": "markdown",
      "metadata": {
        "id": "yLtHJl7If4ym"
      },
      "source": [
        "Another method that allows to include the self-written mapping to a given axis in the DataFrame. Apply treats each element as seperate."
      ]
    },
    {
      "cell_type": "markdown",
      "metadata": {
        "id": "BwBga0J0f4yn"
      },
      "source": [
        "#### b) Drop the duplicates treating quantity, item_name, choice_description as index for the dropout."
      ]
    },
    {
      "cell_type": "code",
      "execution_count": null,
      "metadata": {
        "id": "Uzrv-n4Bf4yn",
        "outputId": "3bf995fc-92c6-4272-cd36-2c3b0c29f009"
      },
      "outputs": [
        {
          "ename": "SyntaxError",
          "evalue": "invalid syntax (3472460107.py, line 1)",
          "output_type": "error",
          "traceback": [
            "\u001b[1;36m  Input \u001b[1;32mIn [109]\u001b[1;36m\u001b[0m\n\u001b[1;33m    filter_me =\u001b[0m\n\u001b[1;37m                ^\u001b[0m\n\u001b[1;31mSyntaxError\u001b[0m\u001b[1;31m:\u001b[0m invalid syntax\n"
          ]
        }
      ],
      "source": [
        "filter_me =\n",
        "filter_me"
      ]
    },
    {
      "cell_type": "markdown",
      "metadata": {
        "id": "xVSSfSKWf4yn"
      },
      "source": [
        "#### c) Calculate the item price of a single product and save that value to 'single_price' column."
      ]
    },
    {
      "cell_type": "code",
      "execution_count": null,
      "metadata": {
        "id": "16PzSNY-f4yn",
        "outputId": "ff2b044e-3c8a-488a-e1f9-0b36b8408ca7"
      },
      "outputs": [
        {
          "ename": "SyntaxError",
          "evalue": "invalid syntax (302481691.py, line 1)",
          "output_type": "error",
          "traceback": [
            "\u001b[1;36m  Input \u001b[1;32mIn [110]\u001b[1;36m\u001b[0m\n\u001b[1;33m    filter_me['single_price'] =\u001b[0m\n\u001b[1;37m                                ^\u001b[0m\n\u001b[1;31mSyntaxError\u001b[0m\u001b[1;31m:\u001b[0m invalid syntax\n"
          ]
        }
      ],
      "source": [
        "filter_me['single_price'] =\n",
        "filter_me"
      ]
    },
    {
      "cell_type": "markdown",
      "metadata": {
        "id": "Tro4ANKyf4yn"
      },
      "source": [
        "Another column in the DataFrame is created with simple quering of non-existing column."
      ]
    },
    {
      "cell_type": "markdown",
      "metadata": {
        "id": "GhPfM01_f4yn"
      },
      "source": [
        "#### d) Find products that cost more than ```int(your_idx[0:2])/2```$\n",
        "Use the \".query()\" method and find unique elements."
      ]
    },
    {
      "cell_type": "code",
      "execution_count": null,
      "metadata": {
        "id": "-n1rdu8if4yn",
        "outputId": "1bbb844e-1c66-454a-94ed-6169d91c675f"
      },
      "outputs": [
        {
          "name": "stdout",
          "output_type": "stream",
          "text": [
            "val=11.5\n"
          ]
        },
        {
          "data": {
            "text/plain": [
              "29"
            ]
          },
          "execution_count": 111,
          "metadata": {},
          "output_type": "execute_result"
        }
      ],
      "source": [
        "val = (idx // (10**4))/2 # here, calculate that value\n",
        "print(f'val={val}')\n",
        "chipo.query(f'item_price > {val:.2f}').item_name.nunique()"
      ]
    },
    {
      "cell_type": "markdown",
      "metadata": {
        "id": "oBtnYw2Yf4yn"
      },
      "source": [
        "A query can be also used in SQL-like string format ([query](https://pandas.pydata.org/docs/reference/api/pandas.DataFrame.query.html))"
      ]
    },
    {
      "cell_type": "markdown",
      "metadata": {
        "id": "4yGkV_UZf4yn"
      },
      "source": [
        "#### e) What is the price of each unique item?\n",
        "Use the method .drop_duplicates()"
      ]
    },
    {
      "cell_type": "code",
      "execution_count": null,
      "metadata": {
        "id": "IJfwR3Cmf4yo",
        "outputId": "deb04999-1e3c-42d1-ebe6-6614a1d4ea7d"
      },
      "outputs": [
        {
          "data": {
            "text/html": [
              "<div>\n",
              "<style scoped>\n",
              "    .dataframe tbody tr th:only-of-type {\n",
              "        vertical-align: middle;\n",
              "    }\n",
              "\n",
              "    .dataframe tbody tr th {\n",
              "        vertical-align: top;\n",
              "    }\n",
              "\n",
              "    .dataframe thead th {\n",
              "        text-align: right;\n",
              "    }\n",
              "</style>\n",
              "<table border=\"1\" class=\"dataframe\">\n",
              "  <thead>\n",
              "    <tr style=\"text-align: right;\">\n",
              "      <th></th>\n",
              "      <th>order_id</th>\n",
              "      <th>quantity</th>\n",
              "      <th>item_name</th>\n",
              "      <th>choice_description</th>\n",
              "      <th>item_price</th>\n",
              "      <th>single_price</th>\n",
              "    </tr>\n",
              "  </thead>\n",
              "  <tbody>\n",
              "    <tr>\n",
              "      <th>341</th>\n",
              "      <td>148</td>\n",
              "      <td>1</td>\n",
              "      <td>6 Pack Soft Drink</td>\n",
              "      <td>[Diet Coke]</td>\n",
              "      <td>6.49</td>\n",
              "      <td>6.49</td>\n",
              "    </tr>\n",
              "    <tr>\n",
              "      <th>357</th>\n",
              "      <td>154</td>\n",
              "      <td>1</td>\n",
              "      <td>6 Pack Soft Drink</td>\n",
              "      <td>[Coke]</td>\n",
              "      <td>6.49</td>\n",
              "      <td>6.49</td>\n",
              "    </tr>\n",
              "    <tr>\n",
              "      <th>298</th>\n",
              "      <td>129</td>\n",
              "      <td>1</td>\n",
              "      <td>6 Pack Soft Drink</td>\n",
              "      <td>[Sprite]</td>\n",
              "      <td>6.49</td>\n",
              "      <td>6.49</td>\n",
              "    </tr>\n",
              "    <tr>\n",
              "      <th>3141</th>\n",
              "      <td>1253</td>\n",
              "      <td>1</td>\n",
              "      <td>6 Pack Soft Drink</td>\n",
              "      <td>[Lemonade]</td>\n",
              "      <td>6.49</td>\n",
              "      <td>6.49</td>\n",
              "    </tr>\n",
              "    <tr>\n",
              "      <th>721</th>\n",
              "      <td>298</td>\n",
              "      <td>1</td>\n",
              "      <td>6 Pack Soft Drink</td>\n",
              "      <td>[Nestea]</td>\n",
              "      <td>6.49</td>\n",
              "      <td>6.49</td>\n",
              "    </tr>\n",
              "    <tr>\n",
              "      <th>...</th>\n",
              "      <td>...</td>\n",
              "      <td>...</td>\n",
              "      <td>...</td>\n",
              "      <td>...</td>\n",
              "      <td>...</td>\n",
              "      <td>...</td>\n",
              "    </tr>\n",
              "    <tr>\n",
              "      <th>781</th>\n",
              "      <td>322</td>\n",
              "      <td>1</td>\n",
              "      <td>Veggie Soft Tacos</td>\n",
              "      <td>[Fresh Tomato Salsa, [Black Beans, Cheese, Sou...</td>\n",
              "      <td>8.75</td>\n",
              "      <td>8.75</td>\n",
              "    </tr>\n",
              "    <tr>\n",
              "      <th>2384</th>\n",
              "      <td>948</td>\n",
              "      <td>1</td>\n",
              "      <td>Veggie Soft Tacos</td>\n",
              "      <td>[Roasted Chili Corn Salsa, [Fajita Vegetables,...</td>\n",
              "      <td>8.75</td>\n",
              "      <td>8.75</td>\n",
              "    </tr>\n",
              "    <tr>\n",
              "      <th>3889</th>\n",
              "      <td>1559</td>\n",
              "      <td>2</td>\n",
              "      <td>Veggie Soft Tacos</td>\n",
              "      <td>[Fresh Tomato Salsa (Mild), [Black Beans, Rice...</td>\n",
              "      <td>16.98</td>\n",
              "      <td>8.49</td>\n",
              "    </tr>\n",
              "    <tr>\n",
              "      <th>1395</th>\n",
              "      <td>567</td>\n",
              "      <td>1</td>\n",
              "      <td>Veggie Soft Tacos</td>\n",
              "      <td>[Fresh Tomato Salsa (Mild), [Pinto Beans, Rice...</td>\n",
              "      <td>8.49</td>\n",
              "      <td>8.49</td>\n",
              "    </tr>\n",
              "    <tr>\n",
              "      <th>738</th>\n",
              "      <td>304</td>\n",
              "      <td>1</td>\n",
              "      <td>Veggie Soft Tacos</td>\n",
              "      <td>[Tomatillo Red Chili Salsa, [Fajita Vegetables...</td>\n",
              "      <td>11.25</td>\n",
              "      <td>11.25</td>\n",
              "    </tr>\n",
              "  </tbody>\n",
              "</table>\n",
              "<p>1874 rows × 6 columns</p>\n",
              "</div>"
            ],
            "text/plain": [
              "      order_id  quantity          item_name  \\\n",
              "341        148         1  6 Pack Soft Drink   \n",
              "357        154         1  6 Pack Soft Drink   \n",
              "298        129         1  6 Pack Soft Drink   \n",
              "3141      1253         1  6 Pack Soft Drink   \n",
              "721        298         1  6 Pack Soft Drink   \n",
              "...        ...       ...                ...   \n",
              "781        322         1  Veggie Soft Tacos   \n",
              "2384       948         1  Veggie Soft Tacos   \n",
              "3889      1559         2  Veggie Soft Tacos   \n",
              "1395       567         1  Veggie Soft Tacos   \n",
              "738        304         1  Veggie Soft Tacos   \n",
              "\n",
              "                                     choice_description  item_price  \\\n",
              "341                                         [Diet Coke]        6.49   \n",
              "357                                              [Coke]        6.49   \n",
              "298                                            [Sprite]        6.49   \n",
              "3141                                         [Lemonade]        6.49   \n",
              "721                                            [Nestea]        6.49   \n",
              "...                                                 ...         ...   \n",
              "781   [Fresh Tomato Salsa, [Black Beans, Cheese, Sou...        8.75   \n",
              "2384  [Roasted Chili Corn Salsa, [Fajita Vegetables,...        8.75   \n",
              "3889  [Fresh Tomato Salsa (Mild), [Black Beans, Rice...       16.98   \n",
              "1395  [Fresh Tomato Salsa (Mild), [Pinto Beans, Rice...        8.49   \n",
              "738   [Tomatillo Red Chili Salsa, [Fajita Vegetables...       11.25   \n",
              "\n",
              "      single_price  \n",
              "341           6.49  \n",
              "357           6.49  \n",
              "298           6.49  \n",
              "3141          6.49  \n",
              "721           6.49  \n",
              "...            ...  \n",
              "781           8.75  \n",
              "2384          8.75  \n",
              "3889          8.49  \n",
              "1395          8.49  \n",
              "738          11.25  \n",
              "\n",
              "[1874 rows x 6 columns]"
            ]
          },
          "execution_count": 58,
          "metadata": {},
          "output_type": "execute_result"
        }
      ],
      "source": [
        "filter_me2 = filter_me.drop_duplicates(['item_name','choice_description', 'single_price']).sort_values('item_name')\n",
        "filter_me2"
      ]
    },
    {
      "cell_type": "markdown",
      "metadata": {
        "id": "Mfr4JAjLf4yo"
      },
      "source": [
        "#### f) Most expensive stuff?\n",
        "Use single_price."
      ]
    },
    {
      "cell_type": "code",
      "execution_count": null,
      "metadata": {
        "id": "wQh1gyVaf4yo"
      },
      "outputs": [],
      "source": []
    },
    {
      "cell_type": "markdown",
      "metadata": {
        "id": "X5gWdNQMf4yo"
      },
      "source": [
        "Use item_price."
      ]
    },
    {
      "cell_type": "code",
      "execution_count": null,
      "metadata": {
        "id": "zkPZXbm9f4yo"
      },
      "outputs": [],
      "source": []
    },
    {
      "cell_type": "markdown",
      "metadata": {
        "id": "bss94fTJf4yo"
      },
      "source": [
        "#### g) How many people have consumed a burrito?"
      ]
    },
    {
      "cell_type": "code",
      "execution_count": null,
      "metadata": {
        "id": "Aabax3KOf4yp"
      },
      "outputs": [],
      "source": []
    },
    {
      "cell_type": "markdown",
      "metadata": {
        "id": "WODmHHKmf4yp"
      },
      "source": [
        "#### h) How many times was Coke ordered more than once in one order?"
      ]
    },
    {
      "cell_type": "code",
      "execution_count": null,
      "metadata": {
        "id": "JKlqw7jSf4yp"
      },
      "outputs": [],
      "source": []
    },
    {
      "cell_type": "markdown",
      "metadata": {
        "id": "IFFg-69gf4yp"
      },
      "source": [
        "Here we have an example of using the notna() function to get only the values in the DataFrame, which are numbers. Just look"
      ]
    },
    {
      "cell_type": "code",
      "execution_count": null,
      "metadata": {
        "id": "5VBtfR2af4yp",
        "outputId": "e0225a59-cfb8-4971-aed9-c0bf3b471a09"
      },
      "outputs": [
        {
          "data": {
            "text/html": [
              "<div>\n",
              "<style scoped>\n",
              "    .dataframe tbody tr th:only-of-type {\n",
              "        vertical-align: middle;\n",
              "    }\n",
              "\n",
              "    .dataframe tbody tr th {\n",
              "        vertical-align: top;\n",
              "    }\n",
              "\n",
              "    .dataframe thead th {\n",
              "        text-align: right;\n",
              "    }\n",
              "</style>\n",
              "<table border=\"1\" class=\"dataframe\">\n",
              "  <thead>\n",
              "    <tr style=\"text-align: right;\">\n",
              "      <th></th>\n",
              "      <th>order_id</th>\n",
              "      <th>quantity</th>\n",
              "      <th>item_name</th>\n",
              "      <th>choice_description</th>\n",
              "      <th>item_price</th>\n",
              "    </tr>\n",
              "  </thead>\n",
              "  <tbody>\n",
              "    <tr>\n",
              "      <th>0</th>\n",
              "      <td>True</td>\n",
              "      <td>True</td>\n",
              "      <td>True</td>\n",
              "      <td>False</td>\n",
              "      <td>True</td>\n",
              "    </tr>\n",
              "    <tr>\n",
              "      <th>1</th>\n",
              "      <td>True</td>\n",
              "      <td>True</td>\n",
              "      <td>True</td>\n",
              "      <td>True</td>\n",
              "      <td>True</td>\n",
              "    </tr>\n",
              "    <tr>\n",
              "      <th>2</th>\n",
              "      <td>True</td>\n",
              "      <td>True</td>\n",
              "      <td>True</td>\n",
              "      <td>True</td>\n",
              "      <td>True</td>\n",
              "    </tr>\n",
              "    <tr>\n",
              "      <th>3</th>\n",
              "      <td>True</td>\n",
              "      <td>True</td>\n",
              "      <td>True</td>\n",
              "      <td>False</td>\n",
              "      <td>True</td>\n",
              "    </tr>\n",
              "    <tr>\n",
              "      <th>4</th>\n",
              "      <td>True</td>\n",
              "      <td>True</td>\n",
              "      <td>True</td>\n",
              "      <td>True</td>\n",
              "      <td>True</td>\n",
              "    </tr>\n",
              "    <tr>\n",
              "      <th>...</th>\n",
              "      <td>...</td>\n",
              "      <td>...</td>\n",
              "      <td>...</td>\n",
              "      <td>...</td>\n",
              "      <td>...</td>\n",
              "    </tr>\n",
              "    <tr>\n",
              "      <th>4617</th>\n",
              "      <td>True</td>\n",
              "      <td>True</td>\n",
              "      <td>True</td>\n",
              "      <td>True</td>\n",
              "      <td>True</td>\n",
              "    </tr>\n",
              "    <tr>\n",
              "      <th>4618</th>\n",
              "      <td>True</td>\n",
              "      <td>True</td>\n",
              "      <td>True</td>\n",
              "      <td>True</td>\n",
              "      <td>True</td>\n",
              "    </tr>\n",
              "    <tr>\n",
              "      <th>4619</th>\n",
              "      <td>True</td>\n",
              "      <td>True</td>\n",
              "      <td>True</td>\n",
              "      <td>True</td>\n",
              "      <td>True</td>\n",
              "    </tr>\n",
              "    <tr>\n",
              "      <th>4620</th>\n",
              "      <td>True</td>\n",
              "      <td>True</td>\n",
              "      <td>True</td>\n",
              "      <td>True</td>\n",
              "      <td>True</td>\n",
              "    </tr>\n",
              "    <tr>\n",
              "      <th>4621</th>\n",
              "      <td>True</td>\n",
              "      <td>True</td>\n",
              "      <td>True</td>\n",
              "      <td>True</td>\n",
              "      <td>True</td>\n",
              "    </tr>\n",
              "  </tbody>\n",
              "</table>\n",
              "<p>4622 rows × 5 columns</p>\n",
              "</div>"
            ],
            "text/plain": [
              "      order_id  quantity  item_name  choice_description  item_price\n",
              "0         True      True       True               False        True\n",
              "1         True      True       True                True        True\n",
              "2         True      True       True                True        True\n",
              "3         True      True       True               False        True\n",
              "4         True      True       True                True        True\n",
              "...        ...       ...        ...                 ...         ...\n",
              "4617      True      True       True                True        True\n",
              "4618      True      True       True                True        True\n",
              "4619      True      True       True                True        True\n",
              "4620      True      True       True                True        True\n",
              "4621      True      True       True                True        True\n",
              "\n",
              "[4622 rows x 5 columns]"
            ]
          },
          "execution_count": 114,
          "metadata": {},
          "output_type": "execute_result"
        }
      ],
      "source": [
        "chipo.notna()"
      ]
    },
    {
      "cell_type": "code",
      "execution_count": null,
      "metadata": {
        "id": "GRtAw0QSf4yp",
        "outputId": "319de830-8450-4bdd-9f3d-c0a0d1bbee79"
      },
      "outputs": [
        {
          "data": {
            "text/plain": [
              "(44, 2)"
            ]
          },
          "execution_count": 115,
          "metadata": {},
          "output_type": "execute_result"
        }
      ],
      "source": [
        "tmp[tmp.quantity > 1].shape"
      ]
    },
    {
      "cell_type": "markdown",
      "metadata": {
        "id": "OVVBXapAf4yp"
      },
      "source": [
        "### Task 3"
      ]
    },
    {
      "cell_type": "markdown",
      "metadata": {
        "id": "SUp6Ilwkf4yp"
      },
      "source": [
        "#### Read the olimpics dataset from entry on [All-time Olympic Games medal table](https://en.wikipedia.org/wiki/All-time_Olympic_Games_medal_table) that is in this folder.\n",
        "Prepare it to work with."
      ]
    },
    {
      "cell_type": "code",
      "execution_count": null,
      "metadata": {
        "id": "SwG09Bkmf4yp",
        "outputId": "36b43c89-846f-4b76-bed1-9c6dba50ff08"
      },
      "outputs": [
        {
          "data": {
            "text/html": [
              "<div>\n",
              "<style scoped>\n",
              "    .dataframe tbody tr th:only-of-type {\n",
              "        vertical-align: middle;\n",
              "    }\n",
              "\n",
              "    .dataframe tbody tr th {\n",
              "        vertical-align: top;\n",
              "    }\n",
              "\n",
              "    .dataframe thead th {\n",
              "        text-align: right;\n",
              "    }\n",
              "</style>\n",
              "<table border=\"1\" class=\"dataframe\">\n",
              "  <thead>\n",
              "    <tr style=\"text-align: right;\">\n",
              "      <th></th>\n",
              "      <th># Summer</th>\n",
              "      <th>Gold</th>\n",
              "      <th>Silver</th>\n",
              "      <th>Bronze</th>\n",
              "      <th>Total</th>\n",
              "      <th># Winter</th>\n",
              "      <th>Gold.1</th>\n",
              "      <th>Silver.1</th>\n",
              "      <th>Bronze.1</th>\n",
              "      <th>Total.1</th>\n",
              "      <th># Games</th>\n",
              "      <th>Gold.2</th>\n",
              "      <th>Silver.2</th>\n",
              "      <th>Bronze.2</th>\n",
              "      <th>Combined total</th>\n",
              "      <th>ID</th>\n",
              "    </tr>\n",
              "  </thead>\n",
              "  <tbody>\n",
              "    <tr>\n",
              "      <th>Afghanistan</th>\n",
              "      <td>13</td>\n",
              "      <td>0</td>\n",
              "      <td>0</td>\n",
              "      <td>2</td>\n",
              "      <td>2</td>\n",
              "      <td>0</td>\n",
              "      <td>0</td>\n",
              "      <td>0</td>\n",
              "      <td>0</td>\n",
              "      <td>0</td>\n",
              "      <td>13</td>\n",
              "      <td>0</td>\n",
              "      <td>0</td>\n",
              "      <td>2</td>\n",
              "      <td>2</td>\n",
              "      <td>AFG</td>\n",
              "    </tr>\n",
              "    <tr>\n",
              "      <th>Algeria</th>\n",
              "      <td>12</td>\n",
              "      <td>5</td>\n",
              "      <td>2</td>\n",
              "      <td>8</td>\n",
              "      <td>15</td>\n",
              "      <td>3</td>\n",
              "      <td>0</td>\n",
              "      <td>0</td>\n",
              "      <td>0</td>\n",
              "      <td>0</td>\n",
              "      <td>15</td>\n",
              "      <td>5</td>\n",
              "      <td>2</td>\n",
              "      <td>8</td>\n",
              "      <td>15</td>\n",
              "      <td>ALG</td>\n",
              "    </tr>\n",
              "    <tr>\n",
              "      <th>Argentina</th>\n",
              "      <td>23</td>\n",
              "      <td>18</td>\n",
              "      <td>24</td>\n",
              "      <td>28</td>\n",
              "      <td>70</td>\n",
              "      <td>18</td>\n",
              "      <td>0</td>\n",
              "      <td>0</td>\n",
              "      <td>0</td>\n",
              "      <td>0</td>\n",
              "      <td>41</td>\n",
              "      <td>18</td>\n",
              "      <td>24</td>\n",
              "      <td>28</td>\n",
              "      <td>70</td>\n",
              "      <td>ARG</td>\n",
              "    </tr>\n",
              "    <tr>\n",
              "      <th>Armenia</th>\n",
              "      <td>5</td>\n",
              "      <td>1</td>\n",
              "      <td>2</td>\n",
              "      <td>9</td>\n",
              "      <td>12</td>\n",
              "      <td>6</td>\n",
              "      <td>0</td>\n",
              "      <td>0</td>\n",
              "      <td>0</td>\n",
              "      <td>0</td>\n",
              "      <td>11</td>\n",
              "      <td>1</td>\n",
              "      <td>2</td>\n",
              "      <td>9</td>\n",
              "      <td>12</td>\n",
              "      <td>ARM</td>\n",
              "    </tr>\n",
              "    <tr>\n",
              "      <th>Australasia</th>\n",
              "      <td>2</td>\n",
              "      <td>3</td>\n",
              "      <td>4</td>\n",
              "      <td>5</td>\n",
              "      <td>12</td>\n",
              "      <td>0</td>\n",
              "      <td>0</td>\n",
              "      <td>0</td>\n",
              "      <td>0</td>\n",
              "      <td>0</td>\n",
              "      <td>2</td>\n",
              "      <td>3</td>\n",
              "      <td>4</td>\n",
              "      <td>5</td>\n",
              "      <td>12</td>\n",
              "      <td>ANZ</td>\n",
              "    </tr>\n",
              "  </tbody>\n",
              "</table>\n",
              "</div>"
            ],
            "text/plain": [
              "             # Summer  Gold  Silver  Bronze  Total  # Winter  Gold.1  \\\n",
              "Afghanistan        13     0       0       2      2         0       0   \n",
              "Algeria            12     5       2       8     15         3       0   \n",
              "Argentina          23    18      24      28     70        18       0   \n",
              "Armenia             5     1       2       9     12         6       0   \n",
              "Australasia         2     3       4       5     12         0       0   \n",
              "\n",
              "             Silver.1  Bronze.1  Total.1  # Games  Gold.2  Silver.2  Bronze.2  \\\n",
              "Afghanistan         0         0        0       13       0         0         2   \n",
              "Algeria             0         0        0       15       5         2         8   \n",
              "Argentina           0         0        0       41      18        24        28   \n",
              "Armenia             0         0        0       11       1         2         9   \n",
              "Australasia         0         0        0        2       3         4         5   \n",
              "\n",
              "             Combined total   ID  \n",
              "Afghanistan               2  AFG  \n",
              "Algeria                  15  ALG  \n",
              "Argentina                70  ARG  \n",
              "Armenia                  12  ARM  \n",
              "Australasia              12  ANZ  "
            ]
          },
          "execution_count": 116,
          "metadata": {},
          "output_type": "execute_result"
        }
      ],
      "source": [
        "df = pd.read_csv('olympics.csv', index_col=0, skiprows=1)\n",
        "\n",
        "for col in df.columns:\n",
        "    if col[:2]=='01':\n",
        "        df.rename(columns={col:'Gold'+col[4:]}, inplace=True)\n",
        "    if col[:2]=='02':\n",
        "        df.rename(columns={col:'Silver'+col[4:]}, inplace=True)\n",
        "    if col[:2]=='03':\n",
        "        df.rename(columns={col:'Bronze'+col[4:]}, inplace=True)\n",
        "    if col[:1]=='№':\n",
        "        df.rename(columns={col:'#'+col[1:]}, inplace=True)\n",
        "\n",
        "names_ids   = df.index.str.split('\\s\\(')    # split the index by '('\n",
        "\n",
        "df.index    = names_ids.str[0]              # the [0] element is the country name (new index)\n",
        "df['ID']    = names_ids.str[1].str[:3]      # the [1] element is the abbreviation or ID (take first 3 characters from that)\n",
        "\n",
        "df          = df.drop('Totals')\n",
        "\n",
        "df.head()"
      ]
    },
    {
      "cell_type": "markdown",
      "metadata": {
        "id": "Iga_BkIAf4yp"
      },
      "source": [
        "#### a) What is the first country?"
      ]
    },
    {
      "cell_type": "code",
      "execution_count": null,
      "metadata": {
        "id": "8Jit8M6Qf4yq"
      },
      "outputs": [],
      "source": []
    },
    {
      "cell_type": "markdown",
      "metadata": {
        "id": "IdExFgmif4yq"
      },
      "source": [
        "#### b) Which country has won the most gold medals in summer games? It should return a single string value."
      ]
    },
    {
      "cell_type": "code",
      "execution_count": null,
      "metadata": {
        "id": "E67Xmw3Zf4yq"
      },
      "outputs": [],
      "source": []
    },
    {
      "cell_type": "markdown",
      "metadata": {
        "id": "-ABAQMCnf4yq"
      },
      "source": [
        "#### c) Which country had the biggest difference between their summer and winter gold medal counts?"
      ]
    },
    {
      "cell_type": "code",
      "execution_count": null,
      "metadata": {
        "id": "jpaCQFImf4yq"
      },
      "outputs": [],
      "source": []
    },
    {
      "cell_type": "markdown",
      "metadata": {
        "id": "Esd3kEWNf4yq"
      },
      "source": [
        "#### d) Which country has the biggest difference between their summer gold medal counts and winter gold medal counts relative to their total gold medal count?\n",
        "\n",
        "$$\\frac{\\# Summer~Gold - \\# Winter~Gold}{\\# Total~Gold}$$\n",
        "\n",
        "Only include countries that have won at least 1 gold in both summer and winter."
      ]
    },
    {
      "cell_type": "code",
      "execution_count": null,
      "metadata": {
        "id": "AGPYwRngf4yq"
      },
      "outputs": [],
      "source": []
    },
    {
      "cell_type": "markdown",
      "metadata": {
        "id": "g76TLHbff4yq"
      },
      "source": [
        "#### e) Write a function that creates a Series called \"Points\" which is a weighted value where each gold medal counts for 3 points, silver medals for 2 points, and bronze medals for 1 point. The function should return only the column (a Series object) which you created, with the country names as indices.\n",
        "\n",
        "This function should return a Series named Points of length 146"
      ]
    },
    {
      "cell_type": "code",
      "execution_count": null,
      "metadata": {
        "id": "p3I_K9hGf4yq"
      },
      "outputs": [],
      "source": []
    },
    {
      "cell_type": "markdown",
      "metadata": {
        "id": "ccURZETBf4yq"
      },
      "source": [
        "## <center>`Homework` - Grouping and others [6 points]</center>"
      ]
    },
    {
      "cell_type": "markdown",
      "metadata": {
        "id": "3mTMUeMef4yq"
      },
      "source": [
        "### Task 1 (2 points)"
      ]
    },
    {
      "cell_type": "markdown",
      "metadata": {
        "id": "vWOUPI8Xf4yr"
      },
      "source": [
        "For the next set of questions, we will be using census data from the [United States Census Bureau](http://www.census.gov). Counties are political and geographic subdivisions of states in the United States. This dataset contains population data for counties and states in the US from 2010 to 2015. [See this document](https://www2.census.gov/programs-surveys/popest/technical-documentation/file-layouts/2010-2015/co-est2015-alldata.pdf) for a description of the variable names.\n",
        "\n",
        "(credit : University of Michigan)\n",
        "\n",
        "The census dataset (census.csv) should be loaded as census_df."
      ]
    },
    {
      "cell_type": "code",
      "execution_count": 4,
      "metadata": {
        "colab": {
          "base_uri": "https://localhost:8080/",
          "height": 325
        },
        "id": "U8asD3w-f4yr",
        "outputId": "89e2bb50-f835-40ed-a624-9999799945b9"
      },
      "outputs": [
        {
          "output_type": "execute_result",
          "data": {
            "text/plain": [
              "   SUMLEV  REGION  DIVISION  STATE  COUNTY   STNAME         CTYNAME  \\\n",
              "0      40       3         6      1       0  Alabama         Alabama   \n",
              "1      50       3         6      1       1  Alabama  Autauga County   \n",
              "2      50       3         6      1       3  Alabama  Baldwin County   \n",
              "3      50       3         6      1       5  Alabama  Barbour County   \n",
              "4      50       3         6      1       7  Alabama     Bibb County   \n",
              "\n",
              "   CENSUS2010POP  ESTIMATESBASE2010  POPESTIMATE2010  ...  RDOMESTICMIG2011  \\\n",
              "0        4779736            4780127          4785161  ...          0.002295   \n",
              "1          54571              54571            54660  ...          7.242091   \n",
              "2         182265             182265           183193  ...         14.832960   \n",
              "3          27457              27457            27341  ...         -4.728132   \n",
              "4          22915              22919            22861  ...         -5.527043   \n",
              "\n",
              "   RDOMESTICMIG2012  RDOMESTICMIG2013  RDOMESTICMIG2014  RDOMESTICMIG2015  \\\n",
              "0         -0.193196          0.381066          0.582002         -0.467369   \n",
              "1         -2.915927         -3.012349          2.265971         -2.530799   \n",
              "2         17.647293         21.845705         19.243287         17.197872   \n",
              "3         -2.500690         -7.056824         -3.904217        -10.543299   \n",
              "4         -5.068871         -6.201001         -0.177537          0.177258   \n",
              "\n",
              "   RNETMIG2011  RNETMIG2012  RNETMIG2013  RNETMIG2014  RNETMIG2015  \n",
              "0     1.030015     0.826644     1.383282     1.724718     0.712594  \n",
              "1     7.606016    -2.626146    -2.722002     2.592270    -2.187333  \n",
              "2    15.844176    18.559627    22.727626    20.317142    18.293499  \n",
              "3    -4.874741    -2.758113    -7.167664    -3.978583   -10.543299  \n",
              "4    -5.088389    -4.363636    -5.403729     0.754533     1.107861  \n",
              "\n",
              "[5 rows x 100 columns]"
            ],
            "text/html": [
              "\n",
              "  <div id=\"df-169e0284-7bba-4fd1-91cb-b304a2134d94\" class=\"colab-df-container\">\n",
              "    <div>\n",
              "<style scoped>\n",
              "    .dataframe tbody tr th:only-of-type {\n",
              "        vertical-align: middle;\n",
              "    }\n",
              "\n",
              "    .dataframe tbody tr th {\n",
              "        vertical-align: top;\n",
              "    }\n",
              "\n",
              "    .dataframe thead th {\n",
              "        text-align: right;\n",
              "    }\n",
              "</style>\n",
              "<table border=\"1\" class=\"dataframe\">\n",
              "  <thead>\n",
              "    <tr style=\"text-align: right;\">\n",
              "      <th></th>\n",
              "      <th>SUMLEV</th>\n",
              "      <th>REGION</th>\n",
              "      <th>DIVISION</th>\n",
              "      <th>STATE</th>\n",
              "      <th>COUNTY</th>\n",
              "      <th>STNAME</th>\n",
              "      <th>CTYNAME</th>\n",
              "      <th>CENSUS2010POP</th>\n",
              "      <th>ESTIMATESBASE2010</th>\n",
              "      <th>POPESTIMATE2010</th>\n",
              "      <th>...</th>\n",
              "      <th>RDOMESTICMIG2011</th>\n",
              "      <th>RDOMESTICMIG2012</th>\n",
              "      <th>RDOMESTICMIG2013</th>\n",
              "      <th>RDOMESTICMIG2014</th>\n",
              "      <th>RDOMESTICMIG2015</th>\n",
              "      <th>RNETMIG2011</th>\n",
              "      <th>RNETMIG2012</th>\n",
              "      <th>RNETMIG2013</th>\n",
              "      <th>RNETMIG2014</th>\n",
              "      <th>RNETMIG2015</th>\n",
              "    </tr>\n",
              "  </thead>\n",
              "  <tbody>\n",
              "    <tr>\n",
              "      <th>0</th>\n",
              "      <td>40</td>\n",
              "      <td>3</td>\n",
              "      <td>6</td>\n",
              "      <td>1</td>\n",
              "      <td>0</td>\n",
              "      <td>Alabama</td>\n",
              "      <td>Alabama</td>\n",
              "      <td>4779736</td>\n",
              "      <td>4780127</td>\n",
              "      <td>4785161</td>\n",
              "      <td>...</td>\n",
              "      <td>0.002295</td>\n",
              "      <td>-0.193196</td>\n",
              "      <td>0.381066</td>\n",
              "      <td>0.582002</td>\n",
              "      <td>-0.467369</td>\n",
              "      <td>1.030015</td>\n",
              "      <td>0.826644</td>\n",
              "      <td>1.383282</td>\n",
              "      <td>1.724718</td>\n",
              "      <td>0.712594</td>\n",
              "    </tr>\n",
              "    <tr>\n",
              "      <th>1</th>\n",
              "      <td>50</td>\n",
              "      <td>3</td>\n",
              "      <td>6</td>\n",
              "      <td>1</td>\n",
              "      <td>1</td>\n",
              "      <td>Alabama</td>\n",
              "      <td>Autauga County</td>\n",
              "      <td>54571</td>\n",
              "      <td>54571</td>\n",
              "      <td>54660</td>\n",
              "      <td>...</td>\n",
              "      <td>7.242091</td>\n",
              "      <td>-2.915927</td>\n",
              "      <td>-3.012349</td>\n",
              "      <td>2.265971</td>\n",
              "      <td>-2.530799</td>\n",
              "      <td>7.606016</td>\n",
              "      <td>-2.626146</td>\n",
              "      <td>-2.722002</td>\n",
              "      <td>2.592270</td>\n",
              "      <td>-2.187333</td>\n",
              "    </tr>\n",
              "    <tr>\n",
              "      <th>2</th>\n",
              "      <td>50</td>\n",
              "      <td>3</td>\n",
              "      <td>6</td>\n",
              "      <td>1</td>\n",
              "      <td>3</td>\n",
              "      <td>Alabama</td>\n",
              "      <td>Baldwin County</td>\n",
              "      <td>182265</td>\n",
              "      <td>182265</td>\n",
              "      <td>183193</td>\n",
              "      <td>...</td>\n",
              "      <td>14.832960</td>\n",
              "      <td>17.647293</td>\n",
              "      <td>21.845705</td>\n",
              "      <td>19.243287</td>\n",
              "      <td>17.197872</td>\n",
              "      <td>15.844176</td>\n",
              "      <td>18.559627</td>\n",
              "      <td>22.727626</td>\n",
              "      <td>20.317142</td>\n",
              "      <td>18.293499</td>\n",
              "    </tr>\n",
              "    <tr>\n",
              "      <th>3</th>\n",
              "      <td>50</td>\n",
              "      <td>3</td>\n",
              "      <td>6</td>\n",
              "      <td>1</td>\n",
              "      <td>5</td>\n",
              "      <td>Alabama</td>\n",
              "      <td>Barbour County</td>\n",
              "      <td>27457</td>\n",
              "      <td>27457</td>\n",
              "      <td>27341</td>\n",
              "      <td>...</td>\n",
              "      <td>-4.728132</td>\n",
              "      <td>-2.500690</td>\n",
              "      <td>-7.056824</td>\n",
              "      <td>-3.904217</td>\n",
              "      <td>-10.543299</td>\n",
              "      <td>-4.874741</td>\n",
              "      <td>-2.758113</td>\n",
              "      <td>-7.167664</td>\n",
              "      <td>-3.978583</td>\n",
              "      <td>-10.543299</td>\n",
              "    </tr>\n",
              "    <tr>\n",
              "      <th>4</th>\n",
              "      <td>50</td>\n",
              "      <td>3</td>\n",
              "      <td>6</td>\n",
              "      <td>1</td>\n",
              "      <td>7</td>\n",
              "      <td>Alabama</td>\n",
              "      <td>Bibb County</td>\n",
              "      <td>22915</td>\n",
              "      <td>22919</td>\n",
              "      <td>22861</td>\n",
              "      <td>...</td>\n",
              "      <td>-5.527043</td>\n",
              "      <td>-5.068871</td>\n",
              "      <td>-6.201001</td>\n",
              "      <td>-0.177537</td>\n",
              "      <td>0.177258</td>\n",
              "      <td>-5.088389</td>\n",
              "      <td>-4.363636</td>\n",
              "      <td>-5.403729</td>\n",
              "      <td>0.754533</td>\n",
              "      <td>1.107861</td>\n",
              "    </tr>\n",
              "  </tbody>\n",
              "</table>\n",
              "<p>5 rows × 100 columns</p>\n",
              "</div>\n",
              "    <div class=\"colab-df-buttons\">\n",
              "\n",
              "  <div class=\"colab-df-container\">\n",
              "    <button class=\"colab-df-convert\" onclick=\"convertToInteractive('df-169e0284-7bba-4fd1-91cb-b304a2134d94')\"\n",
              "            title=\"Convert this dataframe to an interactive table.\"\n",
              "            style=\"display:none;\">\n",
              "\n",
              "  <svg xmlns=\"http://www.w3.org/2000/svg\" height=\"24px\" viewBox=\"0 -960 960 960\">\n",
              "    <path d=\"M120-120v-720h720v720H120Zm60-500h600v-160H180v160Zm220 220h160v-160H400v160Zm0 220h160v-160H400v160ZM180-400h160v-160H180v160Zm440 0h160v-160H620v160ZM180-180h160v-160H180v160Zm440 0h160v-160H620v160Z\"/>\n",
              "  </svg>\n",
              "    </button>\n",
              "\n",
              "  <style>\n",
              "    .colab-df-container {\n",
              "      display:flex;\n",
              "      gap: 12px;\n",
              "    }\n",
              "\n",
              "    .colab-df-convert {\n",
              "      background-color: #E8F0FE;\n",
              "      border: none;\n",
              "      border-radius: 50%;\n",
              "      cursor: pointer;\n",
              "      display: none;\n",
              "      fill: #1967D2;\n",
              "      height: 32px;\n",
              "      padding: 0 0 0 0;\n",
              "      width: 32px;\n",
              "    }\n",
              "\n",
              "    .colab-df-convert:hover {\n",
              "      background-color: #E2EBFA;\n",
              "      box-shadow: 0px 1px 2px rgba(60, 64, 67, 0.3), 0px 1px 3px 1px rgba(60, 64, 67, 0.15);\n",
              "      fill: #174EA6;\n",
              "    }\n",
              "\n",
              "    .colab-df-buttons div {\n",
              "      margin-bottom: 4px;\n",
              "    }\n",
              "\n",
              "    [theme=dark] .colab-df-convert {\n",
              "      background-color: #3B4455;\n",
              "      fill: #D2E3FC;\n",
              "    }\n",
              "\n",
              "    [theme=dark] .colab-df-convert:hover {\n",
              "      background-color: #434B5C;\n",
              "      box-shadow: 0px 1px 3px 1px rgba(0, 0, 0, 0.15);\n",
              "      filter: drop-shadow(0px 1px 2px rgba(0, 0, 0, 0.3));\n",
              "      fill: #FFFFFF;\n",
              "    }\n",
              "  </style>\n",
              "\n",
              "    <script>\n",
              "      const buttonEl =\n",
              "        document.querySelector('#df-169e0284-7bba-4fd1-91cb-b304a2134d94 button.colab-df-convert');\n",
              "      buttonEl.style.display =\n",
              "        google.colab.kernel.accessAllowed ? 'block' : 'none';\n",
              "\n",
              "      async function convertToInteractive(key) {\n",
              "        const element = document.querySelector('#df-169e0284-7bba-4fd1-91cb-b304a2134d94');\n",
              "        const dataTable =\n",
              "          await google.colab.kernel.invokeFunction('convertToInteractive',\n",
              "                                                    [key], {});\n",
              "        if (!dataTable) return;\n",
              "\n",
              "        const docLinkHtml = 'Like what you see? Visit the ' +\n",
              "          '<a target=\"_blank\" href=https://colab.research.google.com/notebooks/data_table.ipynb>data table notebook</a>'\n",
              "          + ' to learn more about interactive tables.';\n",
              "        element.innerHTML = '';\n",
              "        dataTable['output_type'] = 'display_data';\n",
              "        await google.colab.output.renderOutput(dataTable, element);\n",
              "        const docLink = document.createElement('div');\n",
              "        docLink.innerHTML = docLinkHtml;\n",
              "        element.appendChild(docLink);\n",
              "      }\n",
              "    </script>\n",
              "  </div>\n",
              "\n",
              "\n",
              "<div id=\"df-4b3b49c0-9141-4e20-b596-b15c38c8a660\">\n",
              "  <button class=\"colab-df-quickchart\" onclick=\"quickchart('df-4b3b49c0-9141-4e20-b596-b15c38c8a660')\"\n",
              "            title=\"Suggest charts.\"\n",
              "            style=\"display:none;\">\n",
              "\n",
              "<svg xmlns=\"http://www.w3.org/2000/svg\" height=\"24px\"viewBox=\"0 0 24 24\"\n",
              "     width=\"24px\">\n",
              "    <g>\n",
              "        <path d=\"M19 3H5c-1.1 0-2 .9-2 2v14c0 1.1.9 2 2 2h14c1.1 0 2-.9 2-2V5c0-1.1-.9-2-2-2zM9 17H7v-7h2v7zm4 0h-2V7h2v10zm4 0h-2v-4h2v4z\"/>\n",
              "    </g>\n",
              "</svg>\n",
              "  </button>\n",
              "\n",
              "<style>\n",
              "  .colab-df-quickchart {\n",
              "      --bg-color: #E8F0FE;\n",
              "      --fill-color: #1967D2;\n",
              "      --hover-bg-color: #E2EBFA;\n",
              "      --hover-fill-color: #174EA6;\n",
              "      --disabled-fill-color: #AAA;\n",
              "      --disabled-bg-color: #DDD;\n",
              "  }\n",
              "\n",
              "  [theme=dark] .colab-df-quickchart {\n",
              "      --bg-color: #3B4455;\n",
              "      --fill-color: #D2E3FC;\n",
              "      --hover-bg-color: #434B5C;\n",
              "      --hover-fill-color: #FFFFFF;\n",
              "      --disabled-bg-color: #3B4455;\n",
              "      --disabled-fill-color: #666;\n",
              "  }\n",
              "\n",
              "  .colab-df-quickchart {\n",
              "    background-color: var(--bg-color);\n",
              "    border: none;\n",
              "    border-radius: 50%;\n",
              "    cursor: pointer;\n",
              "    display: none;\n",
              "    fill: var(--fill-color);\n",
              "    height: 32px;\n",
              "    padding: 0;\n",
              "    width: 32px;\n",
              "  }\n",
              "\n",
              "  .colab-df-quickchart:hover {\n",
              "    background-color: var(--hover-bg-color);\n",
              "    box-shadow: 0 1px 2px rgba(60, 64, 67, 0.3), 0 1px 3px 1px rgba(60, 64, 67, 0.15);\n",
              "    fill: var(--button-hover-fill-color);\n",
              "  }\n",
              "\n",
              "  .colab-df-quickchart-complete:disabled,\n",
              "  .colab-df-quickchart-complete:disabled:hover {\n",
              "    background-color: var(--disabled-bg-color);\n",
              "    fill: var(--disabled-fill-color);\n",
              "    box-shadow: none;\n",
              "  }\n",
              "\n",
              "  .colab-df-spinner {\n",
              "    border: 2px solid var(--fill-color);\n",
              "    border-color: transparent;\n",
              "    border-bottom-color: var(--fill-color);\n",
              "    animation:\n",
              "      spin 1s steps(1) infinite;\n",
              "  }\n",
              "\n",
              "  @keyframes spin {\n",
              "    0% {\n",
              "      border-color: transparent;\n",
              "      border-bottom-color: var(--fill-color);\n",
              "      border-left-color: var(--fill-color);\n",
              "    }\n",
              "    20% {\n",
              "      border-color: transparent;\n",
              "      border-left-color: var(--fill-color);\n",
              "      border-top-color: var(--fill-color);\n",
              "    }\n",
              "    30% {\n",
              "      border-color: transparent;\n",
              "      border-left-color: var(--fill-color);\n",
              "      border-top-color: var(--fill-color);\n",
              "      border-right-color: var(--fill-color);\n",
              "    }\n",
              "    40% {\n",
              "      border-color: transparent;\n",
              "      border-right-color: var(--fill-color);\n",
              "      border-top-color: var(--fill-color);\n",
              "    }\n",
              "    60% {\n",
              "      border-color: transparent;\n",
              "      border-right-color: var(--fill-color);\n",
              "    }\n",
              "    80% {\n",
              "      border-color: transparent;\n",
              "      border-right-color: var(--fill-color);\n",
              "      border-bottom-color: var(--fill-color);\n",
              "    }\n",
              "    90% {\n",
              "      border-color: transparent;\n",
              "      border-bottom-color: var(--fill-color);\n",
              "    }\n",
              "  }\n",
              "</style>\n",
              "\n",
              "  <script>\n",
              "    async function quickchart(key) {\n",
              "      const quickchartButtonEl =\n",
              "        document.querySelector('#' + key + ' button');\n",
              "      quickchartButtonEl.disabled = true;  // To prevent multiple clicks.\n",
              "      quickchartButtonEl.classList.add('colab-df-spinner');\n",
              "      try {\n",
              "        const charts = await google.colab.kernel.invokeFunction(\n",
              "            'suggestCharts', [key], {});\n",
              "      } catch (error) {\n",
              "        console.error('Error during call to suggestCharts:', error);\n",
              "      }\n",
              "      quickchartButtonEl.classList.remove('colab-df-spinner');\n",
              "      quickchartButtonEl.classList.add('colab-df-quickchart-complete');\n",
              "    }\n",
              "    (() => {\n",
              "      let quickchartButtonEl =\n",
              "        document.querySelector('#df-4b3b49c0-9141-4e20-b596-b15c38c8a660 button');\n",
              "      quickchartButtonEl.style.display =\n",
              "        google.colab.kernel.accessAllowed ? 'block' : 'none';\n",
              "    })();\n",
              "  </script>\n",
              "</div>\n",
              "    </div>\n",
              "  </div>\n"
            ]
          },
          "metadata": {},
          "execution_count": 4
        }
      ],
      "source": [
        "census_df = pd.read_csv('/content/drive/MyDrive/Complex labs/Lab1 - Introduction/census.csv')\n",
        "census_df.head()"
      ]
    },
    {
      "cell_type": "markdown",
      "metadata": {
        "id": "XbCOavZOf4yr"
      },
      "source": [
        "#### a) Which state has the most counties in it?\n",
        "Answer with a pandas Series"
      ]
    },
    {
      "cell_type": "code",
      "execution_count": 7,
      "metadata": {
        "colab": {
          "base_uri": "https://localhost:8080/",
          "height": 35
        },
        "id": "afK3PYrVf4yr",
        "outputId": "06ed3dda-da84-4026-a03e-d5b70e5afa8c"
      },
      "outputs": [
        {
          "output_type": "execute_result",
          "data": {
            "text/plain": [
              "'Washington County'"
            ],
            "application/vnd.google.colaboratory.intrinsic+json": {
              "type": "string"
            }
          },
          "metadata": {},
          "execution_count": 7
        }
      ],
      "source": [
        "census_df.groupby(['CTYNAME'])['CTYNAME'].count().idxmax()\n",
        "#census_df.CTYNAME.value_counts().head(1)"
      ]
    },
    {
      "cell_type": "markdown",
      "metadata": {
        "id": "EW78chpCf4yr"
      },
      "source": [
        "#### b) **Only looking at the two most populous counties for each state**, what are the five most populous states (in order of highest population to lowest population)? Use `CENSUS2010POP`.\n",
        "\n",
        "*This function should return a list of string values. SUMLEV should be equal to 50*\n",
        "\n",
        "We will use the cumcount() function in order to aggregate the grouped values. This function numbers each element from 0 to the length of the group and is equivalent to:\n",
        "`self.apply(lambda x: pd.Series(np.arange(len(x)), x.index))`"
      ]
    },
    {
      "cell_type": "code",
      "execution_count": 25,
      "metadata": {
        "colab": {
          "base_uri": "https://localhost:8080/"
        },
        "id": "19lHdchcf4yr",
        "outputId": "fb81eec3-4cac-4012-eb23-48f22750bba9"
      },
      "outputs": [
        {
          "output_type": "stream",
          "name": "stderr",
          "text": [
            "<ipython-input-25-26e8ea9ddf58>:2: SettingWithCopyWarning: \n",
            "A value is trying to be set on a copy of a slice from a DataFrame.\n",
            "Try using .loc[row_indexer,col_indexer] = value instead\n",
            "\n",
            "See the caveats in the documentation: https://pandas.pydata.org/pandas-docs/stable/user_guide/indexing.html#returning-a-view-versus-a-copy\n",
            "  countys['rank'] = countys.sort_values(['STNAME','CENSUS2010POP'],ascending=False).groupby(['STNAME']).cumcount()\n"
          ]
        },
        {
          "output_type": "execute_result",
          "data": {
            "text/plain": [
              "STNAME\n",
              "California    12913918\n",
              "Texas          6460598\n",
              "Illinois       6111599\n",
              "Arizona        4797380\n",
              "New York       4735422\n",
              "Name: CENSUS2010POP, dtype: int64"
            ]
          },
          "metadata": {},
          "execution_count": 25
        }
      ],
      "source": [
        "countys = census_df.loc[census_df['SUMLEV'] == 50]\n",
        "countys['rank'] = countys.sort_values(['STNAME','CENSUS2010POP'],ascending=False).groupby(['STNAME']).cumcount()\n",
        "countys.loc[(countys['rank']==0) | (countys['rank']==1)].groupby(['STNAME'])['CENSUS2010POP'].sum().sort_values(ascending=False).head(5)"
      ]
    },
    {
      "cell_type": "code",
      "execution_count": null,
      "metadata": {
        "id": "YaTP9xDZf4yr"
      },
      "outputs": [],
      "source": [
        "#"
      ]
    },
    {
      "cell_type": "markdown",
      "metadata": {
        "id": "veyTxlxjf4yr"
      },
      "source": [
        "Here is something that is called a pivot_table. This is the method that creates the multiindex with some aggregation without actually creating a grouping explicitly. It can treat values in a given column as new columns and assign other values to it without changing the index itself. Example:\n",
        "\n",
        "```\n",
        "df = pd.DataFrame({\"A\": [\"foo\", \"foo\", \"foo\", \"foo\", \"foo\",\n",
        "\n",
        "                         \"bar\", \"bar\", \"bar\", \"bar\"],\n",
        "\n",
        "                   \"B\": [\"one\", \"one\", \"one\", \"two\", \"two\",\n",
        "\n",
        "                         \"one\", \"one\", \"two\", \"two\"],\n",
        "\n",
        "                   \"C\": [\"small\", \"large\", \"large\", \"small\",\n",
        "\n",
        "                         \"small\", \"large\", \"small\", \"small\",\n",
        "\n",
        "                         \"large\"],\n",
        "\n",
        "                   \"D\": [1, 2, 2, 3, 3, 4, 5, 6, 7],\n",
        "\n",
        "                   \"E\": [2, 4, 5, 5, 6, 6, 8, 9, 9]})\n",
        "\n",
        "df\n",
        "     A    B      C  D  E\n",
        "0  foo  one  small  1  2\n",
        "1  foo  one  large  2  4\n",
        "2  foo  one  large  2  5\n",
        "3  foo  two  small  3  5\n",
        "4  foo  two  small  3  6\n",
        "5  bar  one  large  4  6\n",
        "6  bar  one  small  5  8\n",
        "7  bar  two  small  6  9\n",
        "8  bar  two  large  7  9\n",
        "```\n",
        "\n",
        "***"
      ]
    },
    {
      "cell_type": "markdown",
      "metadata": {
        "id": "hhKMhCZdf4yr"
      },
      "source": [
        "```\n",
        "table = pd.pivot_table(df, values='D', index=['A', 'B'], columns=['C'], aggfunc=np.sum)\n",
        "# takes the values from column 'D' and uses columns 'A' and 'B' as idxs.\n",
        "\n",
        "table\n",
        "C        large  small\n",
        "A   B\n",
        "bar one    4.0    5.0\n",
        "    two    7.0    6.0\n",
        "foo one    4.0    1.0\n",
        "    two    NaN    6.0\n",
        "\n",
        "```"
      ]
    },
    {
      "cell_type": "markdown",
      "metadata": {
        "id": "vI4pU-T4f4yr"
      },
      "source": [
        "*More can be read [here](https://pandas.pydata.org/docs/reference/api/pandas.pivot_table.html)*"
      ]
    },
    {
      "cell_type": "code",
      "execution_count": null,
      "metadata": {
        "id": "rOwD6P1ef4ys"
      },
      "outputs": [],
      "source": []
    },
    {
      "cell_type": "markdown",
      "metadata": {
        "id": "xrvTjK7Nf4ys"
      },
      "source": [
        "#### Which county has had the largest absolute change in population within the period 2010-2014?\n",
        "e.g. If County Population in the 5 year period is 100, 120, 80, 105, 100, 130, then its largest change in the period would be |130-100| = 30."
      ]
    },
    {
      "cell_type": "code",
      "execution_count": 32,
      "metadata": {
        "colab": {
          "base_uri": "https://localhost:8080/"
        },
        "id": "NuOWvONwf4ys",
        "outputId": "417efece-3a1f-4201-8cf1-e55c48d7ea75"
      },
      "outputs": [
        {
          "output_type": "execute_result",
          "data": {
            "text/plain": [
              "2566    Texas\n",
              "Name: STNAME, dtype: object"
            ]
          },
          "metadata": {},
          "execution_count": 32
        }
      ],
      "source": [
        "census_df['diff1110'] = census_df['POPESTIMATE2011'] - census_df['POPESTIMATE2010']\n",
        "census_df['diff1211'] = census_df['POPESTIMATE2012'] - census_df['POPESTIMATE2011']\n",
        "census_df['diff1312'] = census_df['POPESTIMATE2013'] - census_df['POPESTIMATE2012']\n",
        "census_df['diff1413'] = census_df['POPESTIMATE2014'] - census_df['POPESTIMATE2013']\n",
        "census_df[['CTYNAME','diff1110', 'diff1211','diff1312','diff1413']].max(numeric_only=True).idxmax()\n",
        "census_df.loc[census_df[census_df[['CTYNAME','diff1110', 'diff1211','diff1312','diff1413']].max(numeric_only=True).idxmax()]== census_df[['CTYNAME','diff1110', 'diff1211','diff1312','diff1413']].max(numeric_only=True).max()]['STNAME']\n"
      ]
    },
    {
      "cell_type": "markdown",
      "metadata": {
        "id": "ahGRBSYdf4ys"
      },
      "source": [
        "### Task 2 (1 point)"
      ]
    },
    {
      "cell_type": "markdown",
      "metadata": {
        "id": "XWu6iUDZf4ys"
      },
      "source": [
        "In census datafile, we have many regions choosen with *REGION* column.\n",
        "\n",
        "Create a query that finds the counties that belong to regions 1 or 3, whose name starts with 'W', and whose Y = POPESTIMATE201(```your_idx[-1] % 5```) was greater than their POPESTIMATE2014.\n",
        "\n",
        "*This function should return a DataFrame with the columns = ['STNAME', 'CTYNAME', Y, 'POPESTIMATE2014'] and the same index ID as the census_df (sorted ascending by index).*"
      ]
    },
    {
      "cell_type": "code",
      "execution_count": null,
      "metadata": {
        "id": "ag7l05QFf4ys"
      },
      "outputs": [],
      "source": [
        "#my index 253880 -> POPESTIMATE2013"
      ]
    },
    {
      "cell_type": "code",
      "execution_count": 43,
      "metadata": {
        "colab": {
          "base_uri": "https://localhost:8080/"
        },
        "id": "6UeaT327f4ys",
        "outputId": "331ab031-72e0-4531-befb-6061f0379172"
      },
      "outputs": [
        {
          "output_type": "stream",
          "name": "stdout",
          "text": [
            "             STNAME            CTYNAME     Y  POPESTIMATE2014\n",
            "64          Alabama      Walker County  True            65567\n",
            "65          Alabama  Washington County  True            16863\n",
            "66          Alabama      Wilcox County  True            11052\n",
            "67          Alabama     Winston County  True            24101\n",
            "187        Arkansas       White County  True            78643\n",
            "...             ...                ...   ...              ...\n",
            "3091  West Virginia     Webster County  True             8830\n",
            "3092  West Virginia      Wetzel County  True            15974\n",
            "3093  West Virginia        Wirt County  True             5837\n",
            "3094  West Virginia        Wood County  True            86441\n",
            "3095  West Virginia     Wyoming County  True            22540\n",
            "\n",
            "[68 rows x 4 columns]\n"
          ]
        }
      ],
      "source": [
        "census_df['Y'] = census_df['POPESTIMATE2013'] > census_df['POPESTIMATE2014']\n",
        "data = census_df.loc[((census_df.REGION == 1) | (census_df.REGION == 3)) & (census_df.CTYNAME.astype(str).str[0] == 'W') & (census_df.Y == True) ]\n",
        "print(data[['STNAME', 'CTYNAME', 'Y', 'POPESTIMATE2014']].sort_index())"
      ]
    },
    {
      "cell_type": "code",
      "execution_count": null,
      "metadata": {
        "id": "pqGOm0VAf4ys"
      },
      "outputs": [],
      "source": []
    },
    {
      "cell_type": "markdown",
      "metadata": {
        "id": "F-o9kLP0f4ys"
      },
      "source": [
        "### Task 3 (2 points)"
      ]
    },
    {
      "cell_type": "code",
      "execution_count": 33,
      "metadata": {
        "colab": {
          "base_uri": "https://localhost:8080/",
          "height": 455
        },
        "id": "kimaIo31f4ys",
        "outputId": "dde168e0-015a-4a6d-888c-c964d7375c45"
      },
      "outputs": [
        {
          "output_type": "execute_result",
          "data": {
            "text/plain": [
              "         age gender     occupation zip_code\n",
              "user_id                                    \n",
              "1         24      M     technician    85711\n",
              "2         53      F          other    94043\n",
              "3         23      M         writer    32067\n",
              "4         24      M     technician    43537\n",
              "5         33      F          other    15213\n",
              "...      ...    ...            ...      ...\n",
              "939       26      F        student    33319\n",
              "940       32      M  administrator    02215\n",
              "941       20      M        student    97229\n",
              "942       48      F      librarian    78209\n",
              "943       22      M        student    77841\n",
              "\n",
              "[943 rows x 4 columns]"
            ],
            "text/html": [
              "\n",
              "  <div id=\"df-b4ff0eef-1949-49c6-be62-9ff92120af77\" class=\"colab-df-container\">\n",
              "    <div>\n",
              "<style scoped>\n",
              "    .dataframe tbody tr th:only-of-type {\n",
              "        vertical-align: middle;\n",
              "    }\n",
              "\n",
              "    .dataframe tbody tr th {\n",
              "        vertical-align: top;\n",
              "    }\n",
              "\n",
              "    .dataframe thead th {\n",
              "        text-align: right;\n",
              "    }\n",
              "</style>\n",
              "<table border=\"1\" class=\"dataframe\">\n",
              "  <thead>\n",
              "    <tr style=\"text-align: right;\">\n",
              "      <th></th>\n",
              "      <th>age</th>\n",
              "      <th>gender</th>\n",
              "      <th>occupation</th>\n",
              "      <th>zip_code</th>\n",
              "    </tr>\n",
              "    <tr>\n",
              "      <th>user_id</th>\n",
              "      <th></th>\n",
              "      <th></th>\n",
              "      <th></th>\n",
              "      <th></th>\n",
              "    </tr>\n",
              "  </thead>\n",
              "  <tbody>\n",
              "    <tr>\n",
              "      <th>1</th>\n",
              "      <td>24</td>\n",
              "      <td>M</td>\n",
              "      <td>technician</td>\n",
              "      <td>85711</td>\n",
              "    </tr>\n",
              "    <tr>\n",
              "      <th>2</th>\n",
              "      <td>53</td>\n",
              "      <td>F</td>\n",
              "      <td>other</td>\n",
              "      <td>94043</td>\n",
              "    </tr>\n",
              "    <tr>\n",
              "      <th>3</th>\n",
              "      <td>23</td>\n",
              "      <td>M</td>\n",
              "      <td>writer</td>\n",
              "      <td>32067</td>\n",
              "    </tr>\n",
              "    <tr>\n",
              "      <th>4</th>\n",
              "      <td>24</td>\n",
              "      <td>M</td>\n",
              "      <td>technician</td>\n",
              "      <td>43537</td>\n",
              "    </tr>\n",
              "    <tr>\n",
              "      <th>5</th>\n",
              "      <td>33</td>\n",
              "      <td>F</td>\n",
              "      <td>other</td>\n",
              "      <td>15213</td>\n",
              "    </tr>\n",
              "    <tr>\n",
              "      <th>...</th>\n",
              "      <td>...</td>\n",
              "      <td>...</td>\n",
              "      <td>...</td>\n",
              "      <td>...</td>\n",
              "    </tr>\n",
              "    <tr>\n",
              "      <th>939</th>\n",
              "      <td>26</td>\n",
              "      <td>F</td>\n",
              "      <td>student</td>\n",
              "      <td>33319</td>\n",
              "    </tr>\n",
              "    <tr>\n",
              "      <th>940</th>\n",
              "      <td>32</td>\n",
              "      <td>M</td>\n",
              "      <td>administrator</td>\n",
              "      <td>02215</td>\n",
              "    </tr>\n",
              "    <tr>\n",
              "      <th>941</th>\n",
              "      <td>20</td>\n",
              "      <td>M</td>\n",
              "      <td>student</td>\n",
              "      <td>97229</td>\n",
              "    </tr>\n",
              "    <tr>\n",
              "      <th>942</th>\n",
              "      <td>48</td>\n",
              "      <td>F</td>\n",
              "      <td>librarian</td>\n",
              "      <td>78209</td>\n",
              "    </tr>\n",
              "    <tr>\n",
              "      <th>943</th>\n",
              "      <td>22</td>\n",
              "      <td>M</td>\n",
              "      <td>student</td>\n",
              "      <td>77841</td>\n",
              "    </tr>\n",
              "  </tbody>\n",
              "</table>\n",
              "<p>943 rows × 4 columns</p>\n",
              "</div>\n",
              "    <div class=\"colab-df-buttons\">\n",
              "\n",
              "  <div class=\"colab-df-container\">\n",
              "    <button class=\"colab-df-convert\" onclick=\"convertToInteractive('df-b4ff0eef-1949-49c6-be62-9ff92120af77')\"\n",
              "            title=\"Convert this dataframe to an interactive table.\"\n",
              "            style=\"display:none;\">\n",
              "\n",
              "  <svg xmlns=\"http://www.w3.org/2000/svg\" height=\"24px\" viewBox=\"0 -960 960 960\">\n",
              "    <path d=\"M120-120v-720h720v720H120Zm60-500h600v-160H180v160Zm220 220h160v-160H400v160Zm0 220h160v-160H400v160ZM180-400h160v-160H180v160Zm440 0h160v-160H620v160ZM180-180h160v-160H180v160Zm440 0h160v-160H620v160Z\"/>\n",
              "  </svg>\n",
              "    </button>\n",
              "\n",
              "  <style>\n",
              "    .colab-df-container {\n",
              "      display:flex;\n",
              "      gap: 12px;\n",
              "    }\n",
              "\n",
              "    .colab-df-convert {\n",
              "      background-color: #E8F0FE;\n",
              "      border: none;\n",
              "      border-radius: 50%;\n",
              "      cursor: pointer;\n",
              "      display: none;\n",
              "      fill: #1967D2;\n",
              "      height: 32px;\n",
              "      padding: 0 0 0 0;\n",
              "      width: 32px;\n",
              "    }\n",
              "\n",
              "    .colab-df-convert:hover {\n",
              "      background-color: #E2EBFA;\n",
              "      box-shadow: 0px 1px 2px rgba(60, 64, 67, 0.3), 0px 1px 3px 1px rgba(60, 64, 67, 0.15);\n",
              "      fill: #174EA6;\n",
              "    }\n",
              "\n",
              "    .colab-df-buttons div {\n",
              "      margin-bottom: 4px;\n",
              "    }\n",
              "\n",
              "    [theme=dark] .colab-df-convert {\n",
              "      background-color: #3B4455;\n",
              "      fill: #D2E3FC;\n",
              "    }\n",
              "\n",
              "    [theme=dark] .colab-df-convert:hover {\n",
              "      background-color: #434B5C;\n",
              "      box-shadow: 0px 1px 3px 1px rgba(0, 0, 0, 0.15);\n",
              "      filter: drop-shadow(0px 1px 2px rgba(0, 0, 0, 0.3));\n",
              "      fill: #FFFFFF;\n",
              "    }\n",
              "  </style>\n",
              "\n",
              "    <script>\n",
              "      const buttonEl =\n",
              "        document.querySelector('#df-b4ff0eef-1949-49c6-be62-9ff92120af77 button.colab-df-convert');\n",
              "      buttonEl.style.display =\n",
              "        google.colab.kernel.accessAllowed ? 'block' : 'none';\n",
              "\n",
              "      async function convertToInteractive(key) {\n",
              "        const element = document.querySelector('#df-b4ff0eef-1949-49c6-be62-9ff92120af77');\n",
              "        const dataTable =\n",
              "          await google.colab.kernel.invokeFunction('convertToInteractive',\n",
              "                                                    [key], {});\n",
              "        if (!dataTable) return;\n",
              "\n",
              "        const docLinkHtml = 'Like what you see? Visit the ' +\n",
              "          '<a target=\"_blank\" href=https://colab.research.google.com/notebooks/data_table.ipynb>data table notebook</a>'\n",
              "          + ' to learn more about interactive tables.';\n",
              "        element.innerHTML = '';\n",
              "        dataTable['output_type'] = 'display_data';\n",
              "        await google.colab.output.renderOutput(dataTable, element);\n",
              "        const docLink = document.createElement('div');\n",
              "        docLink.innerHTML = docLinkHtml;\n",
              "        element.appendChild(docLink);\n",
              "      }\n",
              "    </script>\n",
              "  </div>\n",
              "\n",
              "\n",
              "<div id=\"df-7c9d18fa-7ee6-4f61-a3d0-9fedea00325c\">\n",
              "  <button class=\"colab-df-quickchart\" onclick=\"quickchart('df-7c9d18fa-7ee6-4f61-a3d0-9fedea00325c')\"\n",
              "            title=\"Suggest charts.\"\n",
              "            style=\"display:none;\">\n",
              "\n",
              "<svg xmlns=\"http://www.w3.org/2000/svg\" height=\"24px\"viewBox=\"0 0 24 24\"\n",
              "     width=\"24px\">\n",
              "    <g>\n",
              "        <path d=\"M19 3H5c-1.1 0-2 .9-2 2v14c0 1.1.9 2 2 2h14c1.1 0 2-.9 2-2V5c0-1.1-.9-2-2-2zM9 17H7v-7h2v7zm4 0h-2V7h2v10zm4 0h-2v-4h2v4z\"/>\n",
              "    </g>\n",
              "</svg>\n",
              "  </button>\n",
              "\n",
              "<style>\n",
              "  .colab-df-quickchart {\n",
              "      --bg-color: #E8F0FE;\n",
              "      --fill-color: #1967D2;\n",
              "      --hover-bg-color: #E2EBFA;\n",
              "      --hover-fill-color: #174EA6;\n",
              "      --disabled-fill-color: #AAA;\n",
              "      --disabled-bg-color: #DDD;\n",
              "  }\n",
              "\n",
              "  [theme=dark] .colab-df-quickchart {\n",
              "      --bg-color: #3B4455;\n",
              "      --fill-color: #D2E3FC;\n",
              "      --hover-bg-color: #434B5C;\n",
              "      --hover-fill-color: #FFFFFF;\n",
              "      --disabled-bg-color: #3B4455;\n",
              "      --disabled-fill-color: #666;\n",
              "  }\n",
              "\n",
              "  .colab-df-quickchart {\n",
              "    background-color: var(--bg-color);\n",
              "    border: none;\n",
              "    border-radius: 50%;\n",
              "    cursor: pointer;\n",
              "    display: none;\n",
              "    fill: var(--fill-color);\n",
              "    height: 32px;\n",
              "    padding: 0;\n",
              "    width: 32px;\n",
              "  }\n",
              "\n",
              "  .colab-df-quickchart:hover {\n",
              "    background-color: var(--hover-bg-color);\n",
              "    box-shadow: 0 1px 2px rgba(60, 64, 67, 0.3), 0 1px 3px 1px rgba(60, 64, 67, 0.15);\n",
              "    fill: var(--button-hover-fill-color);\n",
              "  }\n",
              "\n",
              "  .colab-df-quickchart-complete:disabled,\n",
              "  .colab-df-quickchart-complete:disabled:hover {\n",
              "    background-color: var(--disabled-bg-color);\n",
              "    fill: var(--disabled-fill-color);\n",
              "    box-shadow: none;\n",
              "  }\n",
              "\n",
              "  .colab-df-spinner {\n",
              "    border: 2px solid var(--fill-color);\n",
              "    border-color: transparent;\n",
              "    border-bottom-color: var(--fill-color);\n",
              "    animation:\n",
              "      spin 1s steps(1) infinite;\n",
              "  }\n",
              "\n",
              "  @keyframes spin {\n",
              "    0% {\n",
              "      border-color: transparent;\n",
              "      border-bottom-color: var(--fill-color);\n",
              "      border-left-color: var(--fill-color);\n",
              "    }\n",
              "    20% {\n",
              "      border-color: transparent;\n",
              "      border-left-color: var(--fill-color);\n",
              "      border-top-color: var(--fill-color);\n",
              "    }\n",
              "    30% {\n",
              "      border-color: transparent;\n",
              "      border-left-color: var(--fill-color);\n",
              "      border-top-color: var(--fill-color);\n",
              "      border-right-color: var(--fill-color);\n",
              "    }\n",
              "    40% {\n",
              "      border-color: transparent;\n",
              "      border-right-color: var(--fill-color);\n",
              "      border-top-color: var(--fill-color);\n",
              "    }\n",
              "    60% {\n",
              "      border-color: transparent;\n",
              "      border-right-color: var(--fill-color);\n",
              "    }\n",
              "    80% {\n",
              "      border-color: transparent;\n",
              "      border-right-color: var(--fill-color);\n",
              "      border-bottom-color: var(--fill-color);\n",
              "    }\n",
              "    90% {\n",
              "      border-color: transparent;\n",
              "      border-bottom-color: var(--fill-color);\n",
              "    }\n",
              "  }\n",
              "</style>\n",
              "\n",
              "  <script>\n",
              "    async function quickchart(key) {\n",
              "      const quickchartButtonEl =\n",
              "        document.querySelector('#' + key + ' button');\n",
              "      quickchartButtonEl.disabled = true;  // To prevent multiple clicks.\n",
              "      quickchartButtonEl.classList.add('colab-df-spinner');\n",
              "      try {\n",
              "        const charts = await google.colab.kernel.invokeFunction(\n",
              "            'suggestCharts', [key], {});\n",
              "      } catch (error) {\n",
              "        console.error('Error during call to suggestCharts:', error);\n",
              "      }\n",
              "      quickchartButtonEl.classList.remove('colab-df-spinner');\n",
              "      quickchartButtonEl.classList.add('colab-df-quickchart-complete');\n",
              "    }\n",
              "    (() => {\n",
              "      let quickchartButtonEl =\n",
              "        document.querySelector('#df-7c9d18fa-7ee6-4f61-a3d0-9fedea00325c button');\n",
              "      quickchartButtonEl.style.display =\n",
              "        google.colab.kernel.accessAllowed ? 'block' : 'none';\n",
              "    })();\n",
              "  </script>\n",
              "</div>\n",
              "    </div>\n",
              "  </div>\n"
            ]
          },
          "metadata": {},
          "execution_count": 33
        }
      ],
      "source": [
        "users = pd.read_table('https://raw.githubusercontent.com/justmarkham/DAT8/master/data/u.user',\n",
        "            sep         =   '|',\n",
        "            index_col   =   'user_id')\n",
        "users"
      ]
    },
    {
      "cell_type": "markdown",
      "metadata": {
        "id": "dhyodJZlf4ys"
      },
      "source": [
        "#### a) mean age per occupation"
      ]
    },
    {
      "cell_type": "code",
      "execution_count": 81,
      "metadata": {
        "colab": {
          "base_uri": "https://localhost:8080/"
        },
        "id": "cqLkTDCHf4ys",
        "outputId": "13f2a2a2-30b4-4a63-fc20-1c2e6f677f34"
      },
      "outputs": [
        {
          "output_type": "execute_result",
          "data": {
            "text/plain": [
              "occupation\n",
              "administrator    38.746835\n",
              "artist           31.392857\n",
              "doctor           43.571429\n",
              "educator         42.010526\n",
              "engineer         36.388060\n",
              "entertainment    29.222222\n",
              "executive        38.718750\n",
              "healthcare       41.562500\n",
              "homemaker        32.571429\n",
              "lawyer           36.750000\n",
              "librarian        40.000000\n",
              "marketing        37.615385\n",
              "none             26.555556\n",
              "other            34.523810\n",
              "programmer       33.121212\n",
              "retired          63.071429\n",
              "salesman         35.666667\n",
              "scientist        35.548387\n",
              "student          22.081633\n",
              "technician       33.148148\n",
              "writer           36.311111\n",
              "Name: age, dtype: float64"
            ]
          },
          "metadata": {},
          "execution_count": 81
        }
      ],
      "source": [
        "users.groupby(['occupation'])['age'].mean()"
      ]
    },
    {
      "cell_type": "markdown",
      "metadata": {
        "id": "Y-R2-bI0f4ys"
      },
      "source": [
        "#### b) winning gender per age interval of 5 years"
      ]
    },
    {
      "cell_type": "code",
      "execution_count": 29,
      "metadata": {
        "colab": {
          "base_uri": "https://localhost:8080/"
        },
        "id": "HnP0fsvYf4ys",
        "outputId": "e0baf894-b6a6-4ad5-ffa0-f560635c3d43"
      },
      "outputs": [
        {
          "output_type": "execute_result",
          "data": {
            "text/plain": [
              "my_col_bin\n",
              "(7, 12]      ((7, 12], M)\n",
              "(12, 17]    ((12, 17], M)\n",
              "(17, 22]    ((17, 22], M)\n",
              "(22, 27]    ((22, 27], M)\n",
              "(27, 32]    ((27, 32], M)\n",
              "(32, 37]    ((32, 37], M)\n",
              "(37, 42]    ((37, 42], M)\n",
              "(42, 47]    ((42, 47], M)\n",
              "(47, 52]    ((47, 52], M)\n",
              "(52, 57]    ((52, 57], M)\n",
              "(57, 62]    ((57, 62], M)\n",
              "(62, 67]    ((62, 67], M)\n",
              "(67, 72]    ((67, 72], M)\n",
              "Name: zip_code, dtype: object"
            ]
          },
          "metadata": {},
          "execution_count": 29
        }
      ],
      "source": [
        "users['my_col_bin'] = pd.cut(x=users['age'], bins=range(users.age.min(), users.age.max(), 5))\n",
        "data = users.groupby(['my_col_bin', 'gender'])['zip_code'].count()\n",
        "data.groupby(['my_col_bin']).idxmax()"
      ]
    },
    {
      "cell_type": "code",
      "execution_count": null,
      "metadata": {
        "id": "RyYhX40xf4ys"
      },
      "outputs": [],
      "source": []
    },
    {
      "cell_type": "markdown",
      "metadata": {
        "id": "6IPdBr_of4yt"
      },
      "source": [
        "*THE SLASH*\n",
        "\n",
        "It can be in principle used to treat methods in scala-like functional programming style :)\n"
      ]
    },
    {
      "cell_type": "markdown",
      "metadata": {
        "id": "bdRRg826f4yt"
      },
      "source": [
        "#### d) Discover the Female ratio per occupation and sort it from the most to the least\n"
      ]
    },
    {
      "cell_type": "code",
      "execution_count": 53,
      "metadata": {
        "colab": {
          "base_uri": "https://localhost:8080/"
        },
        "id": "xHDZ6G3-f4yt",
        "outputId": "56eda4aa-09fb-4f6f-f7cd-5cd14658c5a4"
      },
      "outputs": [
        {
          "output_type": "execute_result",
          "data": {
            "text/plain": [
              "occupation     gender\n",
              "homemaker      F         0.857143\n",
              "healthcare     F         0.687500\n",
              "librarian      F         0.568627\n",
              "artist         F         0.464286\n",
              "administrator  F         0.455696\n",
              "none           F         0.444444\n",
              "writer         F         0.422222\n",
              "marketing      F         0.384615\n",
              "other          F         0.342857\n",
              "student        F         0.306122\n",
              "educator       F         0.273684\n",
              "salesman       F         0.250000\n",
              "lawyer         F         0.166667\n",
              "entertainment  F         0.111111\n",
              "scientist      F         0.096774\n",
              "executive      F         0.093750\n",
              "programmer     F         0.090909\n",
              "retired        F         0.071429\n",
              "technician     F         0.037037\n",
              "engineer       F         0.029851\n",
              "Name: zip_code, dtype: float64"
            ]
          },
          "metadata": {},
          "execution_count": 53
        }
      ],
      "source": [
        "data = users.loc[users['gender'] == 'F']\n",
        "data = data.groupby(['occupation','gender'])['zip_code'].count()\n",
        "data_whole = users.groupby(['occupation'])['zip_code'].count()\n",
        "result = (data/data_whole)\n",
        "result.sort_values(ascending=False)"
      ]
    },
    {
      "cell_type": "markdown",
      "metadata": {
        "id": "OEnOrDJmf4yt"
      },
      "source": [
        "#### e) Calculate minimum and maximum ages for each occupation"
      ]
    },
    {
      "cell_type": "code",
      "execution_count": 55,
      "metadata": {
        "colab": {
          "base_uri": "https://localhost:8080/",
          "height": 771
        },
        "id": "HdX-LGykf4yt",
        "outputId": "05edc2de-28bb-4a55-9611-ef1bca77f9e8"
      },
      "outputs": [
        {
          "output_type": "execute_result",
          "data": {
            "text/plain": [
              "              age    \n",
              "              min max\n",
              "occupation           \n",
              "administrator  21  70\n",
              "artist         19  48\n",
              "doctor         28  64\n",
              "educator       23  63\n",
              "engineer       22  70\n",
              "entertainment  15  50\n",
              "executive      22  69\n",
              "healthcare     22  62\n",
              "homemaker      20  50\n",
              "lawyer         21  53\n",
              "librarian      23  69\n",
              "marketing      24  55\n",
              "none           11  55\n",
              "other          13  64\n",
              "programmer     20  63\n",
              "retired        51  73\n",
              "salesman       18  66\n",
              "scientist      23  55\n",
              "student         7  42\n",
              "technician     21  55\n",
              "writer         18  60"
            ],
            "text/html": [
              "\n",
              "  <div id=\"df-708b2c4a-5722-446b-ace6-9ff1f1a3ea15\" class=\"colab-df-container\">\n",
              "    <div>\n",
              "<style scoped>\n",
              "    .dataframe tbody tr th:only-of-type {\n",
              "        vertical-align: middle;\n",
              "    }\n",
              "\n",
              "    .dataframe tbody tr th {\n",
              "        vertical-align: top;\n",
              "    }\n",
              "\n",
              "    .dataframe thead tr th {\n",
              "        text-align: left;\n",
              "    }\n",
              "\n",
              "    .dataframe thead tr:last-of-type th {\n",
              "        text-align: right;\n",
              "    }\n",
              "</style>\n",
              "<table border=\"1\" class=\"dataframe\">\n",
              "  <thead>\n",
              "    <tr>\n",
              "      <th></th>\n",
              "      <th colspan=\"2\" halign=\"left\">age</th>\n",
              "    </tr>\n",
              "    <tr>\n",
              "      <th></th>\n",
              "      <th>min</th>\n",
              "      <th>max</th>\n",
              "    </tr>\n",
              "    <tr>\n",
              "      <th>occupation</th>\n",
              "      <th></th>\n",
              "      <th></th>\n",
              "    </tr>\n",
              "  </thead>\n",
              "  <tbody>\n",
              "    <tr>\n",
              "      <th>administrator</th>\n",
              "      <td>21</td>\n",
              "      <td>70</td>\n",
              "    </tr>\n",
              "    <tr>\n",
              "      <th>artist</th>\n",
              "      <td>19</td>\n",
              "      <td>48</td>\n",
              "    </tr>\n",
              "    <tr>\n",
              "      <th>doctor</th>\n",
              "      <td>28</td>\n",
              "      <td>64</td>\n",
              "    </tr>\n",
              "    <tr>\n",
              "      <th>educator</th>\n",
              "      <td>23</td>\n",
              "      <td>63</td>\n",
              "    </tr>\n",
              "    <tr>\n",
              "      <th>engineer</th>\n",
              "      <td>22</td>\n",
              "      <td>70</td>\n",
              "    </tr>\n",
              "    <tr>\n",
              "      <th>entertainment</th>\n",
              "      <td>15</td>\n",
              "      <td>50</td>\n",
              "    </tr>\n",
              "    <tr>\n",
              "      <th>executive</th>\n",
              "      <td>22</td>\n",
              "      <td>69</td>\n",
              "    </tr>\n",
              "    <tr>\n",
              "      <th>healthcare</th>\n",
              "      <td>22</td>\n",
              "      <td>62</td>\n",
              "    </tr>\n",
              "    <tr>\n",
              "      <th>homemaker</th>\n",
              "      <td>20</td>\n",
              "      <td>50</td>\n",
              "    </tr>\n",
              "    <tr>\n",
              "      <th>lawyer</th>\n",
              "      <td>21</td>\n",
              "      <td>53</td>\n",
              "    </tr>\n",
              "    <tr>\n",
              "      <th>librarian</th>\n",
              "      <td>23</td>\n",
              "      <td>69</td>\n",
              "    </tr>\n",
              "    <tr>\n",
              "      <th>marketing</th>\n",
              "      <td>24</td>\n",
              "      <td>55</td>\n",
              "    </tr>\n",
              "    <tr>\n",
              "      <th>none</th>\n",
              "      <td>11</td>\n",
              "      <td>55</td>\n",
              "    </tr>\n",
              "    <tr>\n",
              "      <th>other</th>\n",
              "      <td>13</td>\n",
              "      <td>64</td>\n",
              "    </tr>\n",
              "    <tr>\n",
              "      <th>programmer</th>\n",
              "      <td>20</td>\n",
              "      <td>63</td>\n",
              "    </tr>\n",
              "    <tr>\n",
              "      <th>retired</th>\n",
              "      <td>51</td>\n",
              "      <td>73</td>\n",
              "    </tr>\n",
              "    <tr>\n",
              "      <th>salesman</th>\n",
              "      <td>18</td>\n",
              "      <td>66</td>\n",
              "    </tr>\n",
              "    <tr>\n",
              "      <th>scientist</th>\n",
              "      <td>23</td>\n",
              "      <td>55</td>\n",
              "    </tr>\n",
              "    <tr>\n",
              "      <th>student</th>\n",
              "      <td>7</td>\n",
              "      <td>42</td>\n",
              "    </tr>\n",
              "    <tr>\n",
              "      <th>technician</th>\n",
              "      <td>21</td>\n",
              "      <td>55</td>\n",
              "    </tr>\n",
              "    <tr>\n",
              "      <th>writer</th>\n",
              "      <td>18</td>\n",
              "      <td>60</td>\n",
              "    </tr>\n",
              "  </tbody>\n",
              "</table>\n",
              "</div>\n",
              "    <div class=\"colab-df-buttons\">\n",
              "\n",
              "  <div class=\"colab-df-container\">\n",
              "    <button class=\"colab-df-convert\" onclick=\"convertToInteractive('df-708b2c4a-5722-446b-ace6-9ff1f1a3ea15')\"\n",
              "            title=\"Convert this dataframe to an interactive table.\"\n",
              "            style=\"display:none;\">\n",
              "\n",
              "  <svg xmlns=\"http://www.w3.org/2000/svg\" height=\"24px\" viewBox=\"0 -960 960 960\">\n",
              "    <path d=\"M120-120v-720h720v720H120Zm60-500h600v-160H180v160Zm220 220h160v-160H400v160Zm0 220h160v-160H400v160ZM180-400h160v-160H180v160Zm440 0h160v-160H620v160ZM180-180h160v-160H180v160Zm440 0h160v-160H620v160Z\"/>\n",
              "  </svg>\n",
              "    </button>\n",
              "\n",
              "  <style>\n",
              "    .colab-df-container {\n",
              "      display:flex;\n",
              "      gap: 12px;\n",
              "    }\n",
              "\n",
              "    .colab-df-convert {\n",
              "      background-color: #E8F0FE;\n",
              "      border: none;\n",
              "      border-radius: 50%;\n",
              "      cursor: pointer;\n",
              "      display: none;\n",
              "      fill: #1967D2;\n",
              "      height: 32px;\n",
              "      padding: 0 0 0 0;\n",
              "      width: 32px;\n",
              "    }\n",
              "\n",
              "    .colab-df-convert:hover {\n",
              "      background-color: #E2EBFA;\n",
              "      box-shadow: 0px 1px 2px rgba(60, 64, 67, 0.3), 0px 1px 3px 1px rgba(60, 64, 67, 0.15);\n",
              "      fill: #174EA6;\n",
              "    }\n",
              "\n",
              "    .colab-df-buttons div {\n",
              "      margin-bottom: 4px;\n",
              "    }\n",
              "\n",
              "    [theme=dark] .colab-df-convert {\n",
              "      background-color: #3B4455;\n",
              "      fill: #D2E3FC;\n",
              "    }\n",
              "\n",
              "    [theme=dark] .colab-df-convert:hover {\n",
              "      background-color: #434B5C;\n",
              "      box-shadow: 0px 1px 3px 1px rgba(0, 0, 0, 0.15);\n",
              "      filter: drop-shadow(0px 1px 2px rgba(0, 0, 0, 0.3));\n",
              "      fill: #FFFFFF;\n",
              "    }\n",
              "  </style>\n",
              "\n",
              "    <script>\n",
              "      const buttonEl =\n",
              "        document.querySelector('#df-708b2c4a-5722-446b-ace6-9ff1f1a3ea15 button.colab-df-convert');\n",
              "      buttonEl.style.display =\n",
              "        google.colab.kernel.accessAllowed ? 'block' : 'none';\n",
              "\n",
              "      async function convertToInteractive(key) {\n",
              "        const element = document.querySelector('#df-708b2c4a-5722-446b-ace6-9ff1f1a3ea15');\n",
              "        const dataTable =\n",
              "          await google.colab.kernel.invokeFunction('convertToInteractive',\n",
              "                                                    [key], {});\n",
              "        if (!dataTable) return;\n",
              "\n",
              "        const docLinkHtml = 'Like what you see? Visit the ' +\n",
              "          '<a target=\"_blank\" href=https://colab.research.google.com/notebooks/data_table.ipynb>data table notebook</a>'\n",
              "          + ' to learn more about interactive tables.';\n",
              "        element.innerHTML = '';\n",
              "        dataTable['output_type'] = 'display_data';\n",
              "        await google.colab.output.renderOutput(dataTable, element);\n",
              "        const docLink = document.createElement('div');\n",
              "        docLink.innerHTML = docLinkHtml;\n",
              "        element.appendChild(docLink);\n",
              "      }\n",
              "    </script>\n",
              "  </div>\n",
              "\n",
              "\n",
              "<div id=\"df-6353bd2a-9755-44aa-9371-027beaa31fab\">\n",
              "  <button class=\"colab-df-quickchart\" onclick=\"quickchart('df-6353bd2a-9755-44aa-9371-027beaa31fab')\"\n",
              "            title=\"Suggest charts.\"\n",
              "            style=\"display:none;\">\n",
              "\n",
              "<svg xmlns=\"http://www.w3.org/2000/svg\" height=\"24px\"viewBox=\"0 0 24 24\"\n",
              "     width=\"24px\">\n",
              "    <g>\n",
              "        <path d=\"M19 3H5c-1.1 0-2 .9-2 2v14c0 1.1.9 2 2 2h14c1.1 0 2-.9 2-2V5c0-1.1-.9-2-2-2zM9 17H7v-7h2v7zm4 0h-2V7h2v10zm4 0h-2v-4h2v4z\"/>\n",
              "    </g>\n",
              "</svg>\n",
              "  </button>\n",
              "\n",
              "<style>\n",
              "  .colab-df-quickchart {\n",
              "      --bg-color: #E8F0FE;\n",
              "      --fill-color: #1967D2;\n",
              "      --hover-bg-color: #E2EBFA;\n",
              "      --hover-fill-color: #174EA6;\n",
              "      --disabled-fill-color: #AAA;\n",
              "      --disabled-bg-color: #DDD;\n",
              "  }\n",
              "\n",
              "  [theme=dark] .colab-df-quickchart {\n",
              "      --bg-color: #3B4455;\n",
              "      --fill-color: #D2E3FC;\n",
              "      --hover-bg-color: #434B5C;\n",
              "      --hover-fill-color: #FFFFFF;\n",
              "      --disabled-bg-color: #3B4455;\n",
              "      --disabled-fill-color: #666;\n",
              "  }\n",
              "\n",
              "  .colab-df-quickchart {\n",
              "    background-color: var(--bg-color);\n",
              "    border: none;\n",
              "    border-radius: 50%;\n",
              "    cursor: pointer;\n",
              "    display: none;\n",
              "    fill: var(--fill-color);\n",
              "    height: 32px;\n",
              "    padding: 0;\n",
              "    width: 32px;\n",
              "  }\n",
              "\n",
              "  .colab-df-quickchart:hover {\n",
              "    background-color: var(--hover-bg-color);\n",
              "    box-shadow: 0 1px 2px rgba(60, 64, 67, 0.3), 0 1px 3px 1px rgba(60, 64, 67, 0.15);\n",
              "    fill: var(--button-hover-fill-color);\n",
              "  }\n",
              "\n",
              "  .colab-df-quickchart-complete:disabled,\n",
              "  .colab-df-quickchart-complete:disabled:hover {\n",
              "    background-color: var(--disabled-bg-color);\n",
              "    fill: var(--disabled-fill-color);\n",
              "    box-shadow: none;\n",
              "  }\n",
              "\n",
              "  .colab-df-spinner {\n",
              "    border: 2px solid var(--fill-color);\n",
              "    border-color: transparent;\n",
              "    border-bottom-color: var(--fill-color);\n",
              "    animation:\n",
              "      spin 1s steps(1) infinite;\n",
              "  }\n",
              "\n",
              "  @keyframes spin {\n",
              "    0% {\n",
              "      border-color: transparent;\n",
              "      border-bottom-color: var(--fill-color);\n",
              "      border-left-color: var(--fill-color);\n",
              "    }\n",
              "    20% {\n",
              "      border-color: transparent;\n",
              "      border-left-color: var(--fill-color);\n",
              "      border-top-color: var(--fill-color);\n",
              "    }\n",
              "    30% {\n",
              "      border-color: transparent;\n",
              "      border-left-color: var(--fill-color);\n",
              "      border-top-color: var(--fill-color);\n",
              "      border-right-color: var(--fill-color);\n",
              "    }\n",
              "    40% {\n",
              "      border-color: transparent;\n",
              "      border-right-color: var(--fill-color);\n",
              "      border-top-color: var(--fill-color);\n",
              "    }\n",
              "    60% {\n",
              "      border-color: transparent;\n",
              "      border-right-color: var(--fill-color);\n",
              "    }\n",
              "    80% {\n",
              "      border-color: transparent;\n",
              "      border-right-color: var(--fill-color);\n",
              "      border-bottom-color: var(--fill-color);\n",
              "    }\n",
              "    90% {\n",
              "      border-color: transparent;\n",
              "      border-bottom-color: var(--fill-color);\n",
              "    }\n",
              "  }\n",
              "</style>\n",
              "\n",
              "  <script>\n",
              "    async function quickchart(key) {\n",
              "      const quickchartButtonEl =\n",
              "        document.querySelector('#' + key + ' button');\n",
              "      quickchartButtonEl.disabled = true;  // To prevent multiple clicks.\n",
              "      quickchartButtonEl.classList.add('colab-df-spinner');\n",
              "      try {\n",
              "        const charts = await google.colab.kernel.invokeFunction(\n",
              "            'suggestCharts', [key], {});\n",
              "      } catch (error) {\n",
              "        console.error('Error during call to suggestCharts:', error);\n",
              "      }\n",
              "      quickchartButtonEl.classList.remove('colab-df-spinner');\n",
              "      quickchartButtonEl.classList.add('colab-df-quickchart-complete');\n",
              "    }\n",
              "    (() => {\n",
              "      let quickchartButtonEl =\n",
              "        document.querySelector('#df-6353bd2a-9755-44aa-9371-027beaa31fab button');\n",
              "      quickchartButtonEl.style.display =\n",
              "        google.colab.kernel.accessAllowed ? 'block' : 'none';\n",
              "    })();\n",
              "  </script>\n",
              "</div>\n",
              "    </div>\n",
              "  </div>\n"
            ]
          },
          "metadata": {},
          "execution_count": 55
        }
      ],
      "source": [
        "users[['occupation', 'age']].groupby(['occupation']).agg(['min', 'max'], axis=\"columns\")"
      ]
    },
    {
      "cell_type": "markdown",
      "metadata": {
        "id": "uLmiYCq5f4yt"
      },
      "source": [
        "### Task 4 (1 point)"
      ]
    },
    {
      "cell_type": "markdown",
      "metadata": {
        "id": "8YQ_TFfdf4yt"
      },
      "source": [
        "#### a) For each combination of occupation and gender, calculate the mean age"
      ]
    },
    {
      "cell_type": "code",
      "execution_count": 5,
      "metadata": {
        "colab": {
          "base_uri": "https://localhost:8080/"
        },
        "id": "TvXGVaBnf4yt",
        "outputId": "54623c37-2c1b-4f57-9093-1b30462c8132"
      },
      "outputs": [
        {
          "output_type": "execute_result",
          "data": {
            "text/plain": [
              "occupation     gender\n",
              "administrator  F         40.638889\n",
              "               M         37.162791\n",
              "artist         F         30.307692\n",
              "               M         32.333333\n",
              "doctor         M         43.571429\n",
              "educator       F         39.115385\n",
              "               M         43.101449\n",
              "engineer       F         29.500000\n",
              "               M         36.600000\n",
              "entertainment  F         31.000000\n",
              "               M         29.000000\n",
              "executive      F         44.000000\n",
              "               M         38.172414\n",
              "healthcare     F         39.818182\n",
              "               M         45.400000\n",
              "homemaker      F         34.166667\n",
              "               M         23.000000\n",
              "lawyer         F         39.500000\n",
              "               M         36.200000\n",
              "librarian      F         40.000000\n",
              "               M         40.000000\n",
              "marketing      F         37.200000\n",
              "               M         37.875000\n",
              "none           F         36.500000\n",
              "               M         18.600000\n",
              "other          F         35.472222\n",
              "               M         34.028986\n",
              "programmer     F         32.166667\n",
              "               M         33.216667\n",
              "retired        F         70.000000\n",
              "               M         62.538462\n",
              "salesman       F         27.000000\n",
              "               M         38.555556\n",
              "scientist      F         28.333333\n",
              "               M         36.321429\n",
              "student        F         20.750000\n",
              "               M         22.669118\n",
              "technician     F         38.000000\n",
              "               M         32.961538\n",
              "writer         F         37.631579\n",
              "               M         35.346154\n",
              "Name: age, dtype: float64"
            ]
          },
          "metadata": {},
          "execution_count": 5
        }
      ],
      "source": [
        "users.groupby(['occupation', 'gender'])['age'].mean()"
      ]
    },
    {
      "cell_type": "markdown",
      "metadata": {
        "id": "_mjmrrwjf4yt"
      },
      "source": [
        "#### b)  For each occupation present the percentage of women and men"
      ]
    },
    {
      "cell_type": "code",
      "execution_count": null,
      "metadata": {
        "id": "PvtMqlu6f4yt"
      },
      "outputs": [],
      "source": []
    },
    {
      "cell_type": "code",
      "execution_count": 10,
      "metadata": {
        "colab": {
          "base_uri": "https://localhost:8080/"
        },
        "outputId": "5c25aadf-b2c0-406e-b893-6443c757733e",
        "id": "RMnPx7kPYEl6"
      },
      "outputs": [
        {
          "output_type": "execute_result",
          "data": {
            "text/plain": [
              "occupation     gender\n",
              "administrator  F          45.569620\n",
              "               M          54.430380\n",
              "artist         F          46.428571\n",
              "               M          53.571429\n",
              "doctor         M         100.000000\n",
              "educator       F          27.368421\n",
              "               M          72.631579\n",
              "engineer       F           2.985075\n",
              "               M          97.014925\n",
              "entertainment  F          11.111111\n",
              "               M          88.888889\n",
              "executive      F           9.375000\n",
              "               M          90.625000\n",
              "healthcare     F          68.750000\n",
              "               M          31.250000\n",
              "homemaker      F          85.714286\n",
              "               M          14.285714\n",
              "lawyer         F          16.666667\n",
              "               M          83.333333\n",
              "librarian      F          56.862745\n",
              "               M          43.137255\n",
              "marketing      F          38.461538\n",
              "               M          61.538462\n",
              "none           F          44.444444\n",
              "               M          55.555556\n",
              "other          F          34.285714\n",
              "               M          65.714286\n",
              "programmer     F           9.090909\n",
              "               M          90.909091\n",
              "retired        F           7.142857\n",
              "               M          92.857143\n",
              "salesman       F          25.000000\n",
              "               M          75.000000\n",
              "scientist      F           9.677419\n",
              "               M          90.322581\n",
              "student        F          30.612245\n",
              "               M          69.387755\n",
              "technician     F           3.703704\n",
              "               M          96.296296\n",
              "writer         F          42.222222\n",
              "               M          57.777778\n",
              "Name: zip_code, dtype: float64"
            ]
          },
          "metadata": {},
          "execution_count": 10
        }
      ],
      "source": [
        "data = users.groupby(['occupation','gender'])['zip_code'].count()\n",
        "data_whole = users.groupby(['occupation'])['zip_code'].count()\n",
        "(data/data_whole)*100"
      ]
    },
    {
      "cell_type": "markdown",
      "metadata": {
        "id": "zZSqx6igf4yt"
      },
      "source": [
        "## <center>End of homework - Mergin'</center>"
      ]
    },
    {
      "cell_type": "code",
      "execution_count": null,
      "metadata": {
        "id": "_vo3KP1Vf4yt",
        "outputId": "53cbb38c-6a67-45a6-c0d3-a1e49a43a9f7"
      },
      "outputs": [
        {
          "data": {
            "text/plain": [
              "0      6\n",
              "1      1\n",
              "2      4\n",
              "3     11\n",
              "4      3\n",
              "      ..\n",
              "95     5\n",
              "96     5\n",
              "97     4\n",
              "98    10\n",
              "99     8\n",
              "Length: 100, dtype: int32"
            ]
          },
          "execution_count": 92,
          "metadata": {},
          "output_type": "execute_result"
        }
      ],
      "source": [
        "# fun\n",
        "s1 = pd.Series(np.random.randint(1, high=12, size=100, dtype='l'))\n",
        "s2 = pd.Series(np.random.binomial(123, 0.3, 1000))\n",
        "s3 = pd.Series(np.random.randint(10000, high=30001, size=100, dtype='l'))\n",
        "\n",
        "s1"
      ]
    },
    {
      "cell_type": "code",
      "execution_count": null,
      "metadata": {
        "id": "CPpZJMy3f4yt",
        "outputId": "8f5c63a3-2662-4994-e906-584284dfebdc"
      },
      "outputs": [
        {
          "data": {
            "text/plain": [
              "0      41\n",
              "1      39\n",
              "2      29\n",
              "3      38\n",
              "4      46\n",
              "       ..\n",
              "995    40\n",
              "996    40\n",
              "997    33\n",
              "998    32\n",
              "999    40\n",
              "Length: 1000, dtype: int32"
            ]
          },
          "execution_count": 93,
          "metadata": {},
          "output_type": "execute_result"
        }
      ],
      "source": [
        "s2"
      ]
    },
    {
      "cell_type": "code",
      "execution_count": null,
      "metadata": {
        "id": "3RY77e7tf4yt",
        "outputId": "2e76801d-ba9b-4913-97b6-833ff4f52dd1"
      },
      "outputs": [
        {
          "data": {
            "text/plain": [
              "0     26314\n",
              "1     29603\n",
              "2     13462\n",
              "3     27397\n",
              "4     20650\n",
              "      ...  \n",
              "95    17445\n",
              "96    25424\n",
              "97    21265\n",
              "98    26057\n",
              "99    29583\n",
              "Length: 100, dtype: int32"
            ]
          },
          "execution_count": 94,
          "metadata": {},
          "output_type": "execute_result"
        }
      ],
      "source": [
        "s3"
      ]
    },
    {
      "cell_type": "markdown",
      "metadata": {
        "id": "VhxMY3yKf4yu"
      },
      "source": [
        "### Task 1"
      ]
    },
    {
      "cell_type": "markdown",
      "metadata": {
        "id": "L0gz6_5If4yu"
      },
      "source": [
        "#### a) Join them guys into DataFrame by column"
      ]
    },
    {
      "cell_type": "code",
      "execution_count": null,
      "metadata": {
        "id": "yB3Yovwdf4yu",
        "outputId": "c50fad8e-f4a7-4fc9-b2d4-c44ee13d2f4d"
      },
      "outputs": [
        {
          "data": {
            "text/html": [
              "<div>\n",
              "<style scoped>\n",
              "    .dataframe tbody tr th:only-of-type {\n",
              "        vertical-align: middle;\n",
              "    }\n",
              "\n",
              "    .dataframe tbody tr th {\n",
              "        vertical-align: top;\n",
              "    }\n",
              "\n",
              "    .dataframe thead th {\n",
              "        text-align: right;\n",
              "    }\n",
              "</style>\n",
              "<table border=\"1\" class=\"dataframe\">\n",
              "  <thead>\n",
              "    <tr style=\"text-align: right;\">\n",
              "      <th></th>\n",
              "      <th>0</th>\n",
              "      <th>1</th>\n",
              "      <th>2</th>\n",
              "    </tr>\n",
              "  </thead>\n",
              "  <tbody>\n",
              "    <tr>\n",
              "      <th>0</th>\n",
              "      <td>8.0</td>\n",
              "      <td>37</td>\n",
              "      <td>28306.0</td>\n",
              "    </tr>\n",
              "    <tr>\n",
              "      <th>1</th>\n",
              "      <td>4.0</td>\n",
              "      <td>33</td>\n",
              "      <td>19181.0</td>\n",
              "    </tr>\n",
              "    <tr>\n",
              "      <th>2</th>\n",
              "      <td>10.0</td>\n",
              "      <td>42</td>\n",
              "      <td>20136.0</td>\n",
              "    </tr>\n",
              "    <tr>\n",
              "      <th>3</th>\n",
              "      <td>1.0</td>\n",
              "      <td>41</td>\n",
              "      <td>27484.0</td>\n",
              "    </tr>\n",
              "    <tr>\n",
              "      <th>4</th>\n",
              "      <td>2.0</td>\n",
              "      <td>40</td>\n",
              "      <td>23250.0</td>\n",
              "    </tr>\n",
              "    <tr>\n",
              "      <th>...</th>\n",
              "      <td>...</td>\n",
              "      <td>...</td>\n",
              "      <td>...</td>\n",
              "    </tr>\n",
              "    <tr>\n",
              "      <th>995</th>\n",
              "      <td>NaN</td>\n",
              "      <td>28</td>\n",
              "      <td>NaN</td>\n",
              "    </tr>\n",
              "    <tr>\n",
              "      <th>996</th>\n",
              "      <td>NaN</td>\n",
              "      <td>42</td>\n",
              "      <td>NaN</td>\n",
              "    </tr>\n",
              "    <tr>\n",
              "      <th>997</th>\n",
              "      <td>NaN</td>\n",
              "      <td>42</td>\n",
              "      <td>NaN</td>\n",
              "    </tr>\n",
              "    <tr>\n",
              "      <th>998</th>\n",
              "      <td>NaN</td>\n",
              "      <td>26</td>\n",
              "      <td>NaN</td>\n",
              "    </tr>\n",
              "    <tr>\n",
              "      <th>999</th>\n",
              "      <td>NaN</td>\n",
              "      <td>49</td>\n",
              "      <td>NaN</td>\n",
              "    </tr>\n",
              "  </tbody>\n",
              "</table>\n",
              "<p>1000 rows × 3 columns</p>\n",
              "</div>"
            ],
            "text/plain": [
              "        0   1        2\n",
              "0     8.0  37  28306.0\n",
              "1     4.0  33  19181.0\n",
              "2    10.0  42  20136.0\n",
              "3     1.0  41  27484.0\n",
              "4     2.0  40  23250.0\n",
              "..    ...  ..      ...\n",
              "995   NaN  28      NaN\n",
              "996   NaN  42      NaN\n",
              "997   NaN  42      NaN\n",
              "998   NaN  26      NaN\n",
              "999   NaN  49      NaN\n",
              "\n",
              "[1000 rows x 3 columns]"
            ]
          },
          "execution_count": 372,
          "metadata": {},
          "output_type": "execute_result"
        }
      ],
      "source": [
        "df = pd.concat([s1, s2, s3], axis=1)\n",
        "df"
      ]
    },
    {
      "cell_type": "markdown",
      "metadata": {
        "id": "Lm_oLG7If4yu"
      },
      "source": [
        "#### b) Fill NaNs value from 1 to 9 for first column and a big integer for the last one"
      ]
    },
    {
      "cell_type": "code",
      "execution_count": null,
      "metadata": {
        "id": "VElPTOmvf4yu",
        "outputId": "04e6dc3a-68ad-4356-8f0b-221e244f3cba"
      },
      "outputs": [
        {
          "data": {
            "text/html": [
              "<div>\n",
              "<style scoped>\n",
              "    .dataframe tbody tr th:only-of-type {\n",
              "        vertical-align: middle;\n",
              "    }\n",
              "\n",
              "    .dataframe tbody tr th {\n",
              "        vertical-align: top;\n",
              "    }\n",
              "\n",
              "    .dataframe thead th {\n",
              "        text-align: right;\n",
              "    }\n",
              "</style>\n",
              "<table border=\"1\" class=\"dataframe\">\n",
              "  <thead>\n",
              "    <tr style=\"text-align: right;\">\n",
              "      <th></th>\n",
              "      <th>0</th>\n",
              "      <th>1</th>\n",
              "      <th>2</th>\n",
              "    </tr>\n",
              "  </thead>\n",
              "  <tbody>\n",
              "    <tr>\n",
              "      <th>0</th>\n",
              "      <td>8.0</td>\n",
              "      <td>37</td>\n",
              "      <td>28306.0</td>\n",
              "    </tr>\n",
              "    <tr>\n",
              "      <th>1</th>\n",
              "      <td>4.0</td>\n",
              "      <td>33</td>\n",
              "      <td>19181.0</td>\n",
              "    </tr>\n",
              "    <tr>\n",
              "      <th>2</th>\n",
              "      <td>10.0</td>\n",
              "      <td>42</td>\n",
              "      <td>20136.0</td>\n",
              "    </tr>\n",
              "    <tr>\n",
              "      <th>3</th>\n",
              "      <td>1.0</td>\n",
              "      <td>41</td>\n",
              "      <td>27484.0</td>\n",
              "    </tr>\n",
              "    <tr>\n",
              "      <th>4</th>\n",
              "      <td>2.0</td>\n",
              "      <td>40</td>\n",
              "      <td>23250.0</td>\n",
              "    </tr>\n",
              "    <tr>\n",
              "      <th>...</th>\n",
              "      <td>...</td>\n",
              "      <td>...</td>\n",
              "      <td>...</td>\n",
              "    </tr>\n",
              "    <tr>\n",
              "      <th>995</th>\n",
              "      <td>8.0</td>\n",
              "      <td>28</td>\n",
              "      <td>123373.0</td>\n",
              "    </tr>\n",
              "    <tr>\n",
              "      <th>996</th>\n",
              "      <td>8.0</td>\n",
              "      <td>42</td>\n",
              "      <td>123373.0</td>\n",
              "    </tr>\n",
              "    <tr>\n",
              "      <th>997</th>\n",
              "      <td>8.0</td>\n",
              "      <td>42</td>\n",
              "      <td>123373.0</td>\n",
              "    </tr>\n",
              "    <tr>\n",
              "      <th>998</th>\n",
              "      <td>8.0</td>\n",
              "      <td>26</td>\n",
              "      <td>123373.0</td>\n",
              "    </tr>\n",
              "    <tr>\n",
              "      <th>999</th>\n",
              "      <td>8.0</td>\n",
              "      <td>49</td>\n",
              "      <td>123373.0</td>\n",
              "    </tr>\n",
              "  </tbody>\n",
              "</table>\n",
              "<p>1000 rows × 3 columns</p>\n",
              "</div>"
            ],
            "text/plain": [
              "        0   1         2\n",
              "0     8.0  37   28306.0\n",
              "1     4.0  33   19181.0\n",
              "2    10.0  42   20136.0\n",
              "3     1.0  41   27484.0\n",
              "4     2.0  40   23250.0\n",
              "..    ...  ..       ...\n",
              "995   8.0  28  123373.0\n",
              "996   8.0  42  123373.0\n",
              "997   8.0  42  123373.0\n",
              "998   8.0  26  123373.0\n",
              "999   8.0  49  123373.0\n",
              "\n",
              "[1000 rows x 3 columns]"
            ]
          },
          "execution_count": 373,
          "metadata": {},
          "output_type": "execute_result"
        }
      ],
      "source": [
        "df[0] = df[0].fillna(np.random.randint(1, 9))\n",
        "df[2] = df[2].fillna(np.random.binomial(1231512, 0.1))\n",
        "df"
      ]
    },
    {
      "cell_type": "markdown",
      "metadata": {
        "id": "x68Q_hRdf4yu"
      },
      "source": [
        "#### c) Change the name of the columns to `floors`, `security workers` and `electricity bill`"
      ]
    },
    {
      "cell_type": "code",
      "execution_count": null,
      "metadata": {
        "id": "1ctGCLcwf4yu",
        "outputId": "66b86388-7562-401d-c326-2d8ba7911f6f"
      },
      "outputs": [
        {
          "data": {
            "text/html": [
              "<div>\n",
              "<style scoped>\n",
              "    .dataframe tbody tr th:only-of-type {\n",
              "        vertical-align: middle;\n",
              "    }\n",
              "\n",
              "    .dataframe tbody tr th {\n",
              "        vertical-align: top;\n",
              "    }\n",
              "\n",
              "    .dataframe thead th {\n",
              "        text-align: right;\n",
              "    }\n",
              "</style>\n",
              "<table border=\"1\" class=\"dataframe\">\n",
              "  <thead>\n",
              "    <tr style=\"text-align: right;\">\n",
              "      <th></th>\n",
              "      <th>floors</th>\n",
              "      <th>security workers</th>\n",
              "      <th>electricity bill</th>\n",
              "    </tr>\n",
              "  </thead>\n",
              "  <tbody>\n",
              "    <tr>\n",
              "      <th>0</th>\n",
              "      <td>8.0</td>\n",
              "      <td>37</td>\n",
              "      <td>28306.0</td>\n",
              "    </tr>\n",
              "    <tr>\n",
              "      <th>1</th>\n",
              "      <td>4.0</td>\n",
              "      <td>33</td>\n",
              "      <td>19181.0</td>\n",
              "    </tr>\n",
              "    <tr>\n",
              "      <th>2</th>\n",
              "      <td>10.0</td>\n",
              "      <td>42</td>\n",
              "      <td>20136.0</td>\n",
              "    </tr>\n",
              "    <tr>\n",
              "      <th>3</th>\n",
              "      <td>1.0</td>\n",
              "      <td>41</td>\n",
              "      <td>27484.0</td>\n",
              "    </tr>\n",
              "    <tr>\n",
              "      <th>4</th>\n",
              "      <td>2.0</td>\n",
              "      <td>40</td>\n",
              "      <td>23250.0</td>\n",
              "    </tr>\n",
              "    <tr>\n",
              "      <th>...</th>\n",
              "      <td>...</td>\n",
              "      <td>...</td>\n",
              "      <td>...</td>\n",
              "    </tr>\n",
              "    <tr>\n",
              "      <th>995</th>\n",
              "      <td>8.0</td>\n",
              "      <td>28</td>\n",
              "      <td>123373.0</td>\n",
              "    </tr>\n",
              "    <tr>\n",
              "      <th>996</th>\n",
              "      <td>8.0</td>\n",
              "      <td>42</td>\n",
              "      <td>123373.0</td>\n",
              "    </tr>\n",
              "    <tr>\n",
              "      <th>997</th>\n",
              "      <td>8.0</td>\n",
              "      <td>42</td>\n",
              "      <td>123373.0</td>\n",
              "    </tr>\n",
              "    <tr>\n",
              "      <th>998</th>\n",
              "      <td>8.0</td>\n",
              "      <td>26</td>\n",
              "      <td>123373.0</td>\n",
              "    </tr>\n",
              "    <tr>\n",
              "      <th>999</th>\n",
              "      <td>8.0</td>\n",
              "      <td>49</td>\n",
              "      <td>123373.0</td>\n",
              "    </tr>\n",
              "  </tbody>\n",
              "</table>\n",
              "<p>1000 rows × 3 columns</p>\n",
              "</div>"
            ],
            "text/plain": [
              "     floors  security workers  electricity bill\n",
              "0       8.0                37           28306.0\n",
              "1       4.0                33           19181.0\n",
              "2      10.0                42           20136.0\n",
              "3       1.0                41           27484.0\n",
              "4       2.0                40           23250.0\n",
              "..      ...               ...               ...\n",
              "995     8.0                28          123373.0\n",
              "996     8.0                42          123373.0\n",
              "997     8.0                42          123373.0\n",
              "998     8.0                26          123373.0\n",
              "999     8.0                49          123373.0\n",
              "\n",
              "[1000 rows x 3 columns]"
            ]
          },
          "execution_count": 375,
          "metadata": {},
          "output_type": "execute_result"
        }
      ],
      "source": [
        "df.rename(columns = {0: 'floors', 1: 'security workers', 2: 'electricity bill'}, inplace=True)\n",
        "df"
      ]
    },
    {
      "cell_type": "markdown",
      "metadata": {
        "id": "bBU2W9uIf4yu"
      },
      "source": [
        "### Task 2"
      ]
    },
    {
      "cell_type": "markdown",
      "metadata": {
        "id": "btQ-a0Hzf4yu"
      },
      "source": [
        " #### a) Create a one column DataFrame with the values of the 3 Series and assign it to 'bigcolumn'"
      ]
    },
    {
      "cell_type": "code",
      "execution_count": null,
      "metadata": {
        "id": "maFoOEbAf4yu",
        "outputId": "7448e40e-5d5a-4bd8-d66c-17bbab7b1c86"
      },
      "outputs": [
        {
          "name": "stdout",
          "output_type": "stream",
          "text": [
            "<class 'pandas.core.frame.DataFrame'>\n"
          ]
        },
        {
          "data": {
            "text/html": [
              "<div>\n",
              "<style scoped>\n",
              "    .dataframe tbody tr th:only-of-type {\n",
              "        vertical-align: middle;\n",
              "    }\n",
              "\n",
              "    .dataframe tbody tr th {\n",
              "        vertical-align: top;\n",
              "    }\n",
              "\n",
              "    .dataframe thead th {\n",
              "        text-align: right;\n",
              "    }\n",
              "</style>\n",
              "<table border=\"1\" class=\"dataframe\">\n",
              "  <thead>\n",
              "    <tr style=\"text-align: right;\">\n",
              "      <th></th>\n",
              "      <th>0</th>\n",
              "    </tr>\n",
              "  </thead>\n",
              "  <tbody>\n",
              "    <tr>\n",
              "      <th>0</th>\n",
              "      <td>6</td>\n",
              "    </tr>\n",
              "    <tr>\n",
              "      <th>1</th>\n",
              "      <td>1</td>\n",
              "    </tr>\n",
              "    <tr>\n",
              "      <th>2</th>\n",
              "      <td>4</td>\n",
              "    </tr>\n",
              "    <tr>\n",
              "      <th>3</th>\n",
              "      <td>11</td>\n",
              "    </tr>\n",
              "    <tr>\n",
              "      <th>4</th>\n",
              "      <td>3</td>\n",
              "    </tr>\n",
              "    <tr>\n",
              "      <th>...</th>\n",
              "      <td>...</td>\n",
              "    </tr>\n",
              "    <tr>\n",
              "      <th>95</th>\n",
              "      <td>17445</td>\n",
              "    </tr>\n",
              "    <tr>\n",
              "      <th>96</th>\n",
              "      <td>25424</td>\n",
              "    </tr>\n",
              "    <tr>\n",
              "      <th>97</th>\n",
              "      <td>21265</td>\n",
              "    </tr>\n",
              "    <tr>\n",
              "      <th>98</th>\n",
              "      <td>26057</td>\n",
              "    </tr>\n",
              "    <tr>\n",
              "      <th>99</th>\n",
              "      <td>29583</td>\n",
              "    </tr>\n",
              "  </tbody>\n",
              "</table>\n",
              "<p>1200 rows × 1 columns</p>\n",
              "</div>"
            ],
            "text/plain": [
              "        0\n",
              "0       6\n",
              "1       1\n",
              "2       4\n",
              "3      11\n",
              "4       3\n",
              "..    ...\n",
              "95  17445\n",
              "96  25424\n",
              "97  21265\n",
              "98  26057\n",
              "99  29583\n",
              "\n",
              "[1200 rows x 1 columns]"
            ]
          },
          "execution_count": 121,
          "metadata": {},
          "output_type": "execute_result"
        }
      ],
      "source": [
        "# join concat the values\n",
        "bigcolumn = pd.concat([s1, s2, s3], axis=0)\n",
        "\n",
        "# it is still a Series, so we need to transform it to a DataFrame\n",
        "bigcolumn = bigcolumn.to_frame()\n",
        "print(type(bigcolumn))\n",
        "\n",
        "bigcolumn"
      ]
    },
    {
      "cell_type": "markdown",
      "metadata": {
        "id": "Uf9z-ul4f4yv"
      },
      "source": [
        "#### b) Something's off with index, isn't it? Repair it"
      ]
    },
    {
      "cell_type": "code",
      "execution_count": null,
      "metadata": {
        "id": "rFfuM0i4f4yv",
        "outputId": "bf1d5b20-7098-4a05-bf95-fb56f4c5099a"
      },
      "outputs": [
        {
          "data": {
            "text/plain": [
              "(1200, 1)"
            ]
          },
          "execution_count": 377,
          "metadata": {},
          "output_type": "execute_result"
        }
      ],
      "source": [
        "bigcolumn.shape"
      ]
    },
    {
      "cell_type": "code",
      "execution_count": null,
      "metadata": {
        "id": "UzIWrmcif4yv",
        "outputId": "10af6e54-e8e5-432c-d1e5-903f648f1e71"
      },
      "outputs": [
        {
          "data": {
            "text/html": [
              "<div>\n",
              "<style scoped>\n",
              "    .dataframe tbody tr th:only-of-type {\n",
              "        vertical-align: middle;\n",
              "    }\n",
              "\n",
              "    .dataframe tbody tr th {\n",
              "        vertical-align: top;\n",
              "    }\n",
              "\n",
              "    .dataframe thead th {\n",
              "        text-align: right;\n",
              "    }\n",
              "</style>\n",
              "<table border=\"1\" class=\"dataframe\">\n",
              "  <thead>\n",
              "    <tr style=\"text-align: right;\">\n",
              "      <th></th>\n",
              "      <th>0</th>\n",
              "    </tr>\n",
              "  </thead>\n",
              "  <tbody>\n",
              "    <tr>\n",
              "      <th>0</th>\n",
              "      <td>8</td>\n",
              "    </tr>\n",
              "    <tr>\n",
              "      <th>1</th>\n",
              "      <td>4</td>\n",
              "    </tr>\n",
              "    <tr>\n",
              "      <th>2</th>\n",
              "      <td>10</td>\n",
              "    </tr>\n",
              "    <tr>\n",
              "      <th>3</th>\n",
              "      <td>1</td>\n",
              "    </tr>\n",
              "    <tr>\n",
              "      <th>4</th>\n",
              "      <td>2</td>\n",
              "    </tr>\n",
              "    <tr>\n",
              "      <th>...</th>\n",
              "      <td>...</td>\n",
              "    </tr>\n",
              "    <tr>\n",
              "      <th>1195</th>\n",
              "      <td>17331</td>\n",
              "    </tr>\n",
              "    <tr>\n",
              "      <th>1196</th>\n",
              "      <td>10151</td>\n",
              "    </tr>\n",
              "    <tr>\n",
              "      <th>1197</th>\n",
              "      <td>18313</td>\n",
              "    </tr>\n",
              "    <tr>\n",
              "      <th>1198</th>\n",
              "      <td>17868</td>\n",
              "    </tr>\n",
              "    <tr>\n",
              "      <th>1199</th>\n",
              "      <td>25341</td>\n",
              "    </tr>\n",
              "  </tbody>\n",
              "</table>\n",
              "<p>1200 rows × 1 columns</p>\n",
              "</div>"
            ],
            "text/plain": [
              "          0\n",
              "0         8\n",
              "1         4\n",
              "2        10\n",
              "3         1\n",
              "4         2\n",
              "...     ...\n",
              "1195  17331\n",
              "1196  10151\n",
              "1197  18313\n",
              "1198  17868\n",
              "1199  25341\n",
              "\n",
              "[1200 rows x 1 columns]"
            ]
          },
          "execution_count": 378,
          "metadata": {},
          "output_type": "execute_result"
        }
      ],
      "source": [
        "bigcolumn.reset_index(drop=True, inplace=True)\n",
        "bigcolumn"
      ]
    },
    {
      "cell_type": "markdown",
      "metadata": {
        "id": "_TYqKq8ff4yv"
      },
      "source": [
        "## <center>Apply</center>"
      ]
    },
    {
      "cell_type": "markdown",
      "metadata": {
        "id": "D7cU_tccf4yv"
      },
      "source": [
        "Read the data from [GitHub](https://github.com/guipsamora)."
      ]
    },
    {
      "cell_type": "code",
      "execution_count": null,
      "metadata": {
        "id": "_IetIjS7f4yv",
        "outputId": "efff2b74-cb9c-4252-bd4c-8f559d844d0b"
      },
      "outputs": [
        {
          "data": {
            "text/html": [
              "<div>\n",
              "<style scoped>\n",
              "    .dataframe tbody tr th:only-of-type {\n",
              "        vertical-align: middle;\n",
              "    }\n",
              "\n",
              "    .dataframe tbody tr th {\n",
              "        vertical-align: top;\n",
              "    }\n",
              "\n",
              "    .dataframe thead th {\n",
              "        text-align: right;\n",
              "    }\n",
              "</style>\n",
              "<table border=\"1\" class=\"dataframe\">\n",
              "  <thead>\n",
              "    <tr style=\"text-align: right;\">\n",
              "      <th></th>\n",
              "      <th>school</th>\n",
              "      <th>sex</th>\n",
              "      <th>age</th>\n",
              "      <th>address</th>\n",
              "      <th>famsize</th>\n",
              "      <th>Pstatus</th>\n",
              "      <th>Medu</th>\n",
              "      <th>Fedu</th>\n",
              "      <th>Mjob</th>\n",
              "      <th>Fjob</th>\n",
              "      <th>...</th>\n",
              "      <th>famrel</th>\n",
              "      <th>freetime</th>\n",
              "      <th>goout</th>\n",
              "      <th>Dalc</th>\n",
              "      <th>Walc</th>\n",
              "      <th>health</th>\n",
              "      <th>absences</th>\n",
              "      <th>G1</th>\n",
              "      <th>G2</th>\n",
              "      <th>G3</th>\n",
              "    </tr>\n",
              "  </thead>\n",
              "  <tbody>\n",
              "    <tr>\n",
              "      <th>0</th>\n",
              "      <td>GP</td>\n",
              "      <td>F</td>\n",
              "      <td>18</td>\n",
              "      <td>U</td>\n",
              "      <td>GT3</td>\n",
              "      <td>A</td>\n",
              "      <td>4</td>\n",
              "      <td>4</td>\n",
              "      <td>at_home</td>\n",
              "      <td>teacher</td>\n",
              "      <td>...</td>\n",
              "      <td>4</td>\n",
              "      <td>3</td>\n",
              "      <td>4</td>\n",
              "      <td>1</td>\n",
              "      <td>1</td>\n",
              "      <td>3</td>\n",
              "      <td>6</td>\n",
              "      <td>5</td>\n",
              "      <td>6</td>\n",
              "      <td>6</td>\n",
              "    </tr>\n",
              "    <tr>\n",
              "      <th>1</th>\n",
              "      <td>GP</td>\n",
              "      <td>F</td>\n",
              "      <td>17</td>\n",
              "      <td>U</td>\n",
              "      <td>GT3</td>\n",
              "      <td>T</td>\n",
              "      <td>1</td>\n",
              "      <td>1</td>\n",
              "      <td>at_home</td>\n",
              "      <td>other</td>\n",
              "      <td>...</td>\n",
              "      <td>5</td>\n",
              "      <td>3</td>\n",
              "      <td>3</td>\n",
              "      <td>1</td>\n",
              "      <td>1</td>\n",
              "      <td>3</td>\n",
              "      <td>4</td>\n",
              "      <td>5</td>\n",
              "      <td>5</td>\n",
              "      <td>6</td>\n",
              "    </tr>\n",
              "    <tr>\n",
              "      <th>2</th>\n",
              "      <td>GP</td>\n",
              "      <td>F</td>\n",
              "      <td>15</td>\n",
              "      <td>U</td>\n",
              "      <td>LE3</td>\n",
              "      <td>T</td>\n",
              "      <td>1</td>\n",
              "      <td>1</td>\n",
              "      <td>at_home</td>\n",
              "      <td>other</td>\n",
              "      <td>...</td>\n",
              "      <td>4</td>\n",
              "      <td>3</td>\n",
              "      <td>2</td>\n",
              "      <td>2</td>\n",
              "      <td>3</td>\n",
              "      <td>3</td>\n",
              "      <td>10</td>\n",
              "      <td>7</td>\n",
              "      <td>8</td>\n",
              "      <td>10</td>\n",
              "    </tr>\n",
              "    <tr>\n",
              "      <th>3</th>\n",
              "      <td>GP</td>\n",
              "      <td>F</td>\n",
              "      <td>15</td>\n",
              "      <td>U</td>\n",
              "      <td>GT3</td>\n",
              "      <td>T</td>\n",
              "      <td>4</td>\n",
              "      <td>2</td>\n",
              "      <td>health</td>\n",
              "      <td>services</td>\n",
              "      <td>...</td>\n",
              "      <td>3</td>\n",
              "      <td>2</td>\n",
              "      <td>2</td>\n",
              "      <td>1</td>\n",
              "      <td>1</td>\n",
              "      <td>5</td>\n",
              "      <td>2</td>\n",
              "      <td>15</td>\n",
              "      <td>14</td>\n",
              "      <td>15</td>\n",
              "    </tr>\n",
              "    <tr>\n",
              "      <th>4</th>\n",
              "      <td>GP</td>\n",
              "      <td>F</td>\n",
              "      <td>16</td>\n",
              "      <td>U</td>\n",
              "      <td>GT3</td>\n",
              "      <td>T</td>\n",
              "      <td>3</td>\n",
              "      <td>3</td>\n",
              "      <td>other</td>\n",
              "      <td>other</td>\n",
              "      <td>...</td>\n",
              "      <td>4</td>\n",
              "      <td>3</td>\n",
              "      <td>2</td>\n",
              "      <td>1</td>\n",
              "      <td>2</td>\n",
              "      <td>5</td>\n",
              "      <td>4</td>\n",
              "      <td>6</td>\n",
              "      <td>10</td>\n",
              "      <td>10</td>\n",
              "    </tr>\n",
              "  </tbody>\n",
              "</table>\n",
              "<p>5 rows × 33 columns</p>\n",
              "</div>"
            ],
            "text/plain": [
              "  school sex  age address famsize Pstatus  Medu  Fedu     Mjob      Fjob  ...  \\\n",
              "0     GP   F   18       U     GT3       A     4     4  at_home   teacher  ...   \n",
              "1     GP   F   17       U     GT3       T     1     1  at_home     other  ...   \n",
              "2     GP   F   15       U     LE3       T     1     1  at_home     other  ...   \n",
              "3     GP   F   15       U     GT3       T     4     2   health  services  ...   \n",
              "4     GP   F   16       U     GT3       T     3     3    other     other  ...   \n",
              "\n",
              "  famrel freetime  goout  Dalc  Walc health absences  G1  G2  G3  \n",
              "0      4        3      4     1     1      3        6   5   6   6  \n",
              "1      5        3      3     1     1      3        4   5   5   6  \n",
              "2      4        3      2     2     3      3       10   7   8  10  \n",
              "3      3        2      2     1     1      5        2  15  14  15  \n",
              "4      4        3      2     1     2      5        4   6  10  10  \n",
              "\n",
              "[5 rows x 33 columns]"
            ]
          },
          "execution_count": 95,
          "metadata": {},
          "output_type": "execute_result"
        }
      ],
      "source": [
        "csv_url     = 'https://raw.githubusercontent.com/guipsamora/pandas_exercises/master/04_Apply/Students_Alcohol_Consumption/student-mat.csv'\n",
        "df          = pd.read_csv(csv_url)\n",
        "df.head()"
      ]
    },
    {
      "cell_type": "code",
      "execution_count": null,
      "metadata": {
        "id": "sQjRGvZ5f4yw",
        "outputId": "58450cd6-d5b8-4e56-9fc9-c336198077a0"
      },
      "outputs": [
        {
          "data": {
            "text/html": [
              "<div>\n",
              "<style scoped>\n",
              "    .dataframe tbody tr th:only-of-type {\n",
              "        vertical-align: middle;\n",
              "    }\n",
              "\n",
              "    .dataframe tbody tr th {\n",
              "        vertical-align: top;\n",
              "    }\n",
              "\n",
              "    .dataframe thead th {\n",
              "        text-align: right;\n",
              "    }\n",
              "</style>\n",
              "<table border=\"1\" class=\"dataframe\">\n",
              "  <thead>\n",
              "    <tr style=\"text-align: right;\">\n",
              "      <th></th>\n",
              "      <th>age</th>\n",
              "      <th>Medu</th>\n",
              "      <th>Fedu</th>\n",
              "      <th>traveltime</th>\n",
              "      <th>studytime</th>\n",
              "      <th>failures</th>\n",
              "      <th>famrel</th>\n",
              "      <th>freetime</th>\n",
              "      <th>goout</th>\n",
              "      <th>Dalc</th>\n",
              "      <th>Walc</th>\n",
              "      <th>health</th>\n",
              "      <th>absences</th>\n",
              "      <th>G1</th>\n",
              "      <th>G2</th>\n",
              "      <th>G3</th>\n",
              "    </tr>\n",
              "  </thead>\n",
              "  <tbody>\n",
              "    <tr>\n",
              "      <th>count</th>\n",
              "      <td>395.000000</td>\n",
              "      <td>395.000000</td>\n",
              "      <td>395.000000</td>\n",
              "      <td>395.000000</td>\n",
              "      <td>395.000000</td>\n",
              "      <td>395.000000</td>\n",
              "      <td>395.000000</td>\n",
              "      <td>395.000000</td>\n",
              "      <td>395.000000</td>\n",
              "      <td>395.000000</td>\n",
              "      <td>395.000000</td>\n",
              "      <td>395.000000</td>\n",
              "      <td>395.000000</td>\n",
              "      <td>395.000000</td>\n",
              "      <td>395.000000</td>\n",
              "      <td>395.000000</td>\n",
              "    </tr>\n",
              "    <tr>\n",
              "      <th>mean</th>\n",
              "      <td>16.696203</td>\n",
              "      <td>2.749367</td>\n",
              "      <td>2.521519</td>\n",
              "      <td>1.448101</td>\n",
              "      <td>2.035443</td>\n",
              "      <td>0.334177</td>\n",
              "      <td>3.944304</td>\n",
              "      <td>3.235443</td>\n",
              "      <td>3.108861</td>\n",
              "      <td>1.481013</td>\n",
              "      <td>2.291139</td>\n",
              "      <td>3.554430</td>\n",
              "      <td>5.708861</td>\n",
              "      <td>10.908861</td>\n",
              "      <td>10.713924</td>\n",
              "      <td>10.415190</td>\n",
              "    </tr>\n",
              "    <tr>\n",
              "      <th>std</th>\n",
              "      <td>1.276043</td>\n",
              "      <td>1.094735</td>\n",
              "      <td>1.088201</td>\n",
              "      <td>0.697505</td>\n",
              "      <td>0.839240</td>\n",
              "      <td>0.743651</td>\n",
              "      <td>0.896659</td>\n",
              "      <td>0.998862</td>\n",
              "      <td>1.113278</td>\n",
              "      <td>0.890741</td>\n",
              "      <td>1.287897</td>\n",
              "      <td>1.390303</td>\n",
              "      <td>8.003096</td>\n",
              "      <td>3.319195</td>\n",
              "      <td>3.761505</td>\n",
              "      <td>4.581443</td>\n",
              "    </tr>\n",
              "    <tr>\n",
              "      <th>min</th>\n",
              "      <td>15.000000</td>\n",
              "      <td>0.000000</td>\n",
              "      <td>0.000000</td>\n",
              "      <td>1.000000</td>\n",
              "      <td>1.000000</td>\n",
              "      <td>0.000000</td>\n",
              "      <td>1.000000</td>\n",
              "      <td>1.000000</td>\n",
              "      <td>1.000000</td>\n",
              "      <td>1.000000</td>\n",
              "      <td>1.000000</td>\n",
              "      <td>1.000000</td>\n",
              "      <td>0.000000</td>\n",
              "      <td>3.000000</td>\n",
              "      <td>0.000000</td>\n",
              "      <td>0.000000</td>\n",
              "    </tr>\n",
              "    <tr>\n",
              "      <th>25%</th>\n",
              "      <td>16.000000</td>\n",
              "      <td>2.000000</td>\n",
              "      <td>2.000000</td>\n",
              "      <td>1.000000</td>\n",
              "      <td>1.000000</td>\n",
              "      <td>0.000000</td>\n",
              "      <td>4.000000</td>\n",
              "      <td>3.000000</td>\n",
              "      <td>2.000000</td>\n",
              "      <td>1.000000</td>\n",
              "      <td>1.000000</td>\n",
              "      <td>3.000000</td>\n",
              "      <td>0.000000</td>\n",
              "      <td>8.000000</td>\n",
              "      <td>9.000000</td>\n",
              "      <td>8.000000</td>\n",
              "    </tr>\n",
              "    <tr>\n",
              "      <th>50%</th>\n",
              "      <td>17.000000</td>\n",
              "      <td>3.000000</td>\n",
              "      <td>2.000000</td>\n",
              "      <td>1.000000</td>\n",
              "      <td>2.000000</td>\n",
              "      <td>0.000000</td>\n",
              "      <td>4.000000</td>\n",
              "      <td>3.000000</td>\n",
              "      <td>3.000000</td>\n",
              "      <td>1.000000</td>\n",
              "      <td>2.000000</td>\n",
              "      <td>4.000000</td>\n",
              "      <td>4.000000</td>\n",
              "      <td>11.000000</td>\n",
              "      <td>11.000000</td>\n",
              "      <td>11.000000</td>\n",
              "    </tr>\n",
              "    <tr>\n",
              "      <th>75%</th>\n",
              "      <td>18.000000</td>\n",
              "      <td>4.000000</td>\n",
              "      <td>3.000000</td>\n",
              "      <td>2.000000</td>\n",
              "      <td>2.000000</td>\n",
              "      <td>0.000000</td>\n",
              "      <td>5.000000</td>\n",
              "      <td>4.000000</td>\n",
              "      <td>4.000000</td>\n",
              "      <td>2.000000</td>\n",
              "      <td>3.000000</td>\n",
              "      <td>5.000000</td>\n",
              "      <td>8.000000</td>\n",
              "      <td>13.000000</td>\n",
              "      <td>13.000000</td>\n",
              "      <td>14.000000</td>\n",
              "    </tr>\n",
              "    <tr>\n",
              "      <th>max</th>\n",
              "      <td>22.000000</td>\n",
              "      <td>4.000000</td>\n",
              "      <td>4.000000</td>\n",
              "      <td>4.000000</td>\n",
              "      <td>4.000000</td>\n",
              "      <td>3.000000</td>\n",
              "      <td>5.000000</td>\n",
              "      <td>5.000000</td>\n",
              "      <td>5.000000</td>\n",
              "      <td>5.000000</td>\n",
              "      <td>5.000000</td>\n",
              "      <td>5.000000</td>\n",
              "      <td>75.000000</td>\n",
              "      <td>19.000000</td>\n",
              "      <td>19.000000</td>\n",
              "      <td>20.000000</td>\n",
              "    </tr>\n",
              "  </tbody>\n",
              "</table>\n",
              "</div>"
            ],
            "text/plain": [
              "              age        Medu        Fedu  traveltime   studytime    failures  \\\n",
              "count  395.000000  395.000000  395.000000  395.000000  395.000000  395.000000   \n",
              "mean    16.696203    2.749367    2.521519    1.448101    2.035443    0.334177   \n",
              "std      1.276043    1.094735    1.088201    0.697505    0.839240    0.743651   \n",
              "min     15.000000    0.000000    0.000000    1.000000    1.000000    0.000000   \n",
              "25%     16.000000    2.000000    2.000000    1.000000    1.000000    0.000000   \n",
              "50%     17.000000    3.000000    2.000000    1.000000    2.000000    0.000000   \n",
              "75%     18.000000    4.000000    3.000000    2.000000    2.000000    0.000000   \n",
              "max     22.000000    4.000000    4.000000    4.000000    4.000000    3.000000   \n",
              "\n",
              "           famrel    freetime       goout        Dalc        Walc      health  \\\n",
              "count  395.000000  395.000000  395.000000  395.000000  395.000000  395.000000   \n",
              "mean     3.944304    3.235443    3.108861    1.481013    2.291139    3.554430   \n",
              "std      0.896659    0.998862    1.113278    0.890741    1.287897    1.390303   \n",
              "min      1.000000    1.000000    1.000000    1.000000    1.000000    1.000000   \n",
              "25%      4.000000    3.000000    2.000000    1.000000    1.000000    3.000000   \n",
              "50%      4.000000    3.000000    3.000000    1.000000    2.000000    4.000000   \n",
              "75%      5.000000    4.000000    4.000000    2.000000    3.000000    5.000000   \n",
              "max      5.000000    5.000000    5.000000    5.000000    5.000000    5.000000   \n",
              "\n",
              "         absences          G1          G2          G3  \n",
              "count  395.000000  395.000000  395.000000  395.000000  \n",
              "mean     5.708861   10.908861   10.713924   10.415190  \n",
              "std      8.003096    3.319195    3.761505    4.581443  \n",
              "min      0.000000    3.000000    0.000000    0.000000  \n",
              "25%      0.000000    8.000000    9.000000    8.000000  \n",
              "50%      4.000000   11.000000   11.000000   11.000000  \n",
              "75%      8.000000   13.000000   13.000000   14.000000  \n",
              "max     75.000000   19.000000   19.000000   20.000000  "
            ]
          },
          "execution_count": 96,
          "metadata": {},
          "output_type": "execute_result"
        }
      ],
      "source": [
        "df.describe()"
      ]
    },
    {
      "cell_type": "code",
      "execution_count": null,
      "metadata": {
        "id": "8IkMtQZgf4yw",
        "outputId": "c1f6073e-6a75-4cf5-bd94-90647852c929"
      },
      "outputs": [
        {
          "name": "stdout",
          "output_type": "stream",
          "text": [
            "<class 'pandas.core.frame.DataFrame'>\n",
            "RangeIndex: 395 entries, 0 to 394\n",
            "Data columns (total 33 columns):\n",
            " #   Column      Non-Null Count  Dtype \n",
            "---  ------      --------------  ----- \n",
            " 0   school      395 non-null    object\n",
            " 1   sex         395 non-null    object\n",
            " 2   age         395 non-null    int64 \n",
            " 3   address     395 non-null    object\n",
            " 4   famsize     395 non-null    object\n",
            " 5   Pstatus     395 non-null    object\n",
            " 6   Medu        395 non-null    int64 \n",
            " 7   Fedu        395 non-null    int64 \n",
            " 8   Mjob        395 non-null    object\n",
            " 9   Fjob        395 non-null    object\n",
            " 10  reason      395 non-null    object\n",
            " 11  guardian    395 non-null    object\n",
            " 12  traveltime  395 non-null    int64 \n",
            " 13  studytime   395 non-null    int64 \n",
            " 14  failures    395 non-null    int64 \n",
            " 15  schoolsup   395 non-null    object\n",
            " 16  famsup      395 non-null    object\n",
            " 17  paid        395 non-null    object\n",
            " 18  activities  395 non-null    object\n",
            " 19  nursery     395 non-null    object\n",
            " 20  higher      395 non-null    object\n",
            " 21  internet    395 non-null    object\n",
            " 22  romantic    395 non-null    object\n",
            " 23  famrel      395 non-null    int64 \n",
            " 24  freetime    395 non-null    int64 \n",
            " 25  goout       395 non-null    int64 \n",
            " 26  Dalc        395 non-null    int64 \n",
            " 27  Walc        395 non-null    int64 \n",
            " 28  health      395 non-null    int64 \n",
            " 29  absences    395 non-null    int64 \n",
            " 30  G1          395 non-null    int64 \n",
            " 31  G2          395 non-null    int64 \n",
            " 32  G3          395 non-null    int64 \n",
            "dtypes: int64(16), object(17)\n",
            "memory usage: 102.0+ KB\n"
          ]
        }
      ],
      "source": [
        "df.info()"
      ]
    },
    {
      "cell_type": "code",
      "execution_count": null,
      "metadata": {
        "id": "zb0LFf2sf4yw",
        "outputId": "ec29cc9e-6205-4b8e-bd42-85a870dab87f"
      },
      "outputs": [
        {
          "data": {
            "text/html": [
              "<div>\n",
              "<style scoped>\n",
              "    .dataframe tbody tr th:only-of-type {\n",
              "        vertical-align: middle;\n",
              "    }\n",
              "\n",
              "    .dataframe tbody tr th {\n",
              "        vertical-align: top;\n",
              "    }\n",
              "\n",
              "    .dataframe thead th {\n",
              "        text-align: right;\n",
              "    }\n",
              "</style>\n",
              "<table border=\"1\" class=\"dataframe\">\n",
              "  <thead>\n",
              "    <tr style=\"text-align: right;\">\n",
              "      <th></th>\n",
              "      <th>school</th>\n",
              "      <th>sex</th>\n",
              "      <th>age</th>\n",
              "      <th>address</th>\n",
              "      <th>famsize</th>\n",
              "      <th>Pstatus</th>\n",
              "      <th>Medu</th>\n",
              "      <th>Fedu</th>\n",
              "      <th>Mjob</th>\n",
              "      <th>Fjob</th>\n",
              "      <th>reason</th>\n",
              "      <th>guardian</th>\n",
              "    </tr>\n",
              "  </thead>\n",
              "  <tbody>\n",
              "    <tr>\n",
              "      <th>0</th>\n",
              "      <td>GP</td>\n",
              "      <td>F</td>\n",
              "      <td>18</td>\n",
              "      <td>U</td>\n",
              "      <td>GT3</td>\n",
              "      <td>A</td>\n",
              "      <td>4</td>\n",
              "      <td>4</td>\n",
              "      <td>at_home</td>\n",
              "      <td>teacher</td>\n",
              "      <td>course</td>\n",
              "      <td>mother</td>\n",
              "    </tr>\n",
              "    <tr>\n",
              "      <th>1</th>\n",
              "      <td>GP</td>\n",
              "      <td>F</td>\n",
              "      <td>17</td>\n",
              "      <td>U</td>\n",
              "      <td>GT3</td>\n",
              "      <td>T</td>\n",
              "      <td>1</td>\n",
              "      <td>1</td>\n",
              "      <td>at_home</td>\n",
              "      <td>other</td>\n",
              "      <td>course</td>\n",
              "      <td>father</td>\n",
              "    </tr>\n",
              "    <tr>\n",
              "      <th>2</th>\n",
              "      <td>GP</td>\n",
              "      <td>F</td>\n",
              "      <td>15</td>\n",
              "      <td>U</td>\n",
              "      <td>LE3</td>\n",
              "      <td>T</td>\n",
              "      <td>1</td>\n",
              "      <td>1</td>\n",
              "      <td>at_home</td>\n",
              "      <td>other</td>\n",
              "      <td>other</td>\n",
              "      <td>mother</td>\n",
              "    </tr>\n",
              "    <tr>\n",
              "      <th>3</th>\n",
              "      <td>GP</td>\n",
              "      <td>F</td>\n",
              "      <td>15</td>\n",
              "      <td>U</td>\n",
              "      <td>GT3</td>\n",
              "      <td>T</td>\n",
              "      <td>4</td>\n",
              "      <td>2</td>\n",
              "      <td>health</td>\n",
              "      <td>services</td>\n",
              "      <td>home</td>\n",
              "      <td>mother</td>\n",
              "    </tr>\n",
              "    <tr>\n",
              "      <th>4</th>\n",
              "      <td>GP</td>\n",
              "      <td>F</td>\n",
              "      <td>16</td>\n",
              "      <td>U</td>\n",
              "      <td>GT3</td>\n",
              "      <td>T</td>\n",
              "      <td>3</td>\n",
              "      <td>3</td>\n",
              "      <td>other</td>\n",
              "      <td>other</td>\n",
              "      <td>home</td>\n",
              "      <td>father</td>\n",
              "    </tr>\n",
              "  </tbody>\n",
              "</table>\n",
              "</div>"
            ],
            "text/plain": [
              "  school sex  age address famsize Pstatus  Medu  Fedu     Mjob      Fjob  \\\n",
              "0     GP   F   18       U     GT3       A     4     4  at_home   teacher   \n",
              "1     GP   F   17       U     GT3       T     1     1  at_home     other   \n",
              "2     GP   F   15       U     LE3       T     1     1  at_home     other   \n",
              "3     GP   F   15       U     GT3       T     4     2   health  services   \n",
              "4     GP   F   16       U     GT3       T     3     3    other     other   \n",
              "\n",
              "   reason guardian  \n",
              "0  course   mother  \n",
              "1  course   father  \n",
              "2   other   mother  \n",
              "3    home   mother  \n",
              "4    home   father  "
            ]
          },
          "execution_count": 98,
          "metadata": {},
          "output_type": "execute_result"
        }
      ],
      "source": [
        "stud_alcoh = df.loc[: , \"school\":\"guardian\"]\n",
        "stud_alcoh.head()"
      ]
    },
    {
      "cell_type": "markdown",
      "metadata": {
        "id": "PjDUh8mJf4yw"
      },
      "source": [
        "### Task 1"
      ]
    },
    {
      "cell_type": "markdown",
      "metadata": {
        "id": "cCI4t-l0f4yw"
      },
      "source": [
        "#### a) Create lambda function to capitalize strings."
      ]
    },
    {
      "cell_type": "code",
      "execution_count": null,
      "metadata": {
        "id": "Tkg395Stf4yw"
      },
      "outputs": [],
      "source": [
        "capitalizer = lambda x: x.capitalize()"
      ]
    },
    {
      "cell_type": "markdown",
      "metadata": {
        "id": "143m2HUdf4yw"
      },
      "source": [
        "#### b) apply!"
      ]
    },
    {
      "cell_type": "code",
      "execution_count": null,
      "metadata": {
        "id": "8jK66IKVf4yw"
      },
      "outputs": [],
      "source": [
        "stud_alcoh['Mjob'] = stud_alcoh['Mjob'].apply(capitalizer)\n",
        "stud_alcoh['Fjob'] = stud_alcoh['Fjob'].apply(capitalizer)"
      ]
    },
    {
      "cell_type": "code",
      "execution_count": null,
      "metadata": {
        "id": "Ao9nnvmOf4yw",
        "outputId": "4a1f361b-81a9-461a-ff19-29bd5f843973"
      },
      "outputs": [
        {
          "data": {
            "text/html": [
              "<div>\n",
              "<style scoped>\n",
              "    .dataframe tbody tr th:only-of-type {\n",
              "        vertical-align: middle;\n",
              "    }\n",
              "\n",
              "    .dataframe tbody tr th {\n",
              "        vertical-align: top;\n",
              "    }\n",
              "\n",
              "    .dataframe thead th {\n",
              "        text-align: right;\n",
              "    }\n",
              "</style>\n",
              "<table border=\"1\" class=\"dataframe\">\n",
              "  <thead>\n",
              "    <tr style=\"text-align: right;\">\n",
              "      <th></th>\n",
              "      <th>school</th>\n",
              "      <th>sex</th>\n",
              "      <th>age</th>\n",
              "      <th>address</th>\n",
              "      <th>famsize</th>\n",
              "      <th>Pstatus</th>\n",
              "      <th>Medu</th>\n",
              "      <th>Fedu</th>\n",
              "      <th>Mjob</th>\n",
              "      <th>Fjob</th>\n",
              "      <th>reason</th>\n",
              "      <th>guardian</th>\n",
              "    </tr>\n",
              "  </thead>\n",
              "  <tbody>\n",
              "    <tr>\n",
              "      <th>390</th>\n",
              "      <td>MS</td>\n",
              "      <td>M</td>\n",
              "      <td>20</td>\n",
              "      <td>U</td>\n",
              "      <td>LE3</td>\n",
              "      <td>A</td>\n",
              "      <td>2</td>\n",
              "      <td>2</td>\n",
              "      <td>Services</td>\n",
              "      <td>Services</td>\n",
              "      <td>course</td>\n",
              "      <td>other</td>\n",
              "    </tr>\n",
              "    <tr>\n",
              "      <th>391</th>\n",
              "      <td>MS</td>\n",
              "      <td>M</td>\n",
              "      <td>17</td>\n",
              "      <td>U</td>\n",
              "      <td>LE3</td>\n",
              "      <td>T</td>\n",
              "      <td>3</td>\n",
              "      <td>1</td>\n",
              "      <td>Services</td>\n",
              "      <td>Services</td>\n",
              "      <td>course</td>\n",
              "      <td>mother</td>\n",
              "    </tr>\n",
              "    <tr>\n",
              "      <th>392</th>\n",
              "      <td>MS</td>\n",
              "      <td>M</td>\n",
              "      <td>21</td>\n",
              "      <td>R</td>\n",
              "      <td>GT3</td>\n",
              "      <td>T</td>\n",
              "      <td>1</td>\n",
              "      <td>1</td>\n",
              "      <td>Other</td>\n",
              "      <td>Other</td>\n",
              "      <td>course</td>\n",
              "      <td>other</td>\n",
              "    </tr>\n",
              "    <tr>\n",
              "      <th>393</th>\n",
              "      <td>MS</td>\n",
              "      <td>M</td>\n",
              "      <td>18</td>\n",
              "      <td>R</td>\n",
              "      <td>LE3</td>\n",
              "      <td>T</td>\n",
              "      <td>3</td>\n",
              "      <td>2</td>\n",
              "      <td>Services</td>\n",
              "      <td>Other</td>\n",
              "      <td>course</td>\n",
              "      <td>mother</td>\n",
              "    </tr>\n",
              "    <tr>\n",
              "      <th>394</th>\n",
              "      <td>MS</td>\n",
              "      <td>M</td>\n",
              "      <td>19</td>\n",
              "      <td>U</td>\n",
              "      <td>LE3</td>\n",
              "      <td>T</td>\n",
              "      <td>1</td>\n",
              "      <td>1</td>\n",
              "      <td>Other</td>\n",
              "      <td>At_home</td>\n",
              "      <td>course</td>\n",
              "      <td>father</td>\n",
              "    </tr>\n",
              "  </tbody>\n",
              "</table>\n",
              "</div>"
            ],
            "text/plain": [
              "    school sex  age address famsize Pstatus  Medu  Fedu      Mjob      Fjob  \\\n",
              "390     MS   M   20       U     LE3       A     2     2  Services  Services   \n",
              "391     MS   M   17       U     LE3       T     3     1  Services  Services   \n",
              "392     MS   M   21       R     GT3       T     1     1     Other     Other   \n",
              "393     MS   M   18       R     LE3       T     3     2  Services     Other   \n",
              "394     MS   M   19       U     LE3       T     1     1     Other   At_home   \n",
              "\n",
              "     reason guardian  \n",
              "390  course    other  \n",
              "391  course   mother  \n",
              "392  course    other  \n",
              "393  course   mother  \n",
              "394  course   father  "
            ]
          },
          "execution_count": 101,
          "metadata": {},
          "output_type": "execute_result"
        }
      ],
      "source": [
        "stud_alcoh.tail()"
      ]
    },
    {
      "cell_type": "markdown",
      "metadata": {
        "id": "Pk4WNmFUf4yw"
      },
      "source": [
        "### Task 2"
      ]
    },
    {
      "cell_type": "markdown",
      "metadata": {
        "id": "quM9dbW1f4yx"
      },
      "source": [
        "#### a)  Create a function called majority that returns a boolean value to a new column called legal_drinker (Consider majority as older than 15 years old)"
      ]
    },
    {
      "cell_type": "code",
      "execution_count": null,
      "metadata": {
        "id": "DJvjTeqsf4yx"
      },
      "outputs": [],
      "source": [
        "major = 18\n",
        "\n",
        "def majority(x):\n",
        "    if x > major:\n",
        "        return True\n",
        "    else:\n",
        "        return False"
      ]
    },
    {
      "cell_type": "code",
      "execution_count": null,
      "metadata": {
        "id": "pWZZGo15f4yx",
        "outputId": "6ef8131f-96fd-4e64-c8c1-94604282ef9a"
      },
      "outputs": [
        {
          "data": {
            "text/html": [
              "<div>\n",
              "<style scoped>\n",
              "    .dataframe tbody tr th:only-of-type {\n",
              "        vertical-align: middle;\n",
              "    }\n",
              "\n",
              "    .dataframe tbody tr th {\n",
              "        vertical-align: top;\n",
              "    }\n",
              "\n",
              "    .dataframe thead th {\n",
              "        text-align: right;\n",
              "    }\n",
              "</style>\n",
              "<table border=\"1\" class=\"dataframe\">\n",
              "  <thead>\n",
              "    <tr style=\"text-align: right;\">\n",
              "      <th></th>\n",
              "      <th>school</th>\n",
              "      <th>sex</th>\n",
              "      <th>age</th>\n",
              "      <th>address</th>\n",
              "      <th>famsize</th>\n",
              "      <th>Pstatus</th>\n",
              "      <th>Medu</th>\n",
              "      <th>Fedu</th>\n",
              "      <th>Mjob</th>\n",
              "      <th>Fjob</th>\n",
              "      <th>reason</th>\n",
              "      <th>guardian</th>\n",
              "      <th>legal_drinker</th>\n",
              "    </tr>\n",
              "  </thead>\n",
              "  <tbody>\n",
              "    <tr>\n",
              "      <th>0</th>\n",
              "      <td>GP</td>\n",
              "      <td>F</td>\n",
              "      <td>18</td>\n",
              "      <td>U</td>\n",
              "      <td>GT3</td>\n",
              "      <td>A</td>\n",
              "      <td>4</td>\n",
              "      <td>4</td>\n",
              "      <td>At_home</td>\n",
              "      <td>Teacher</td>\n",
              "      <td>course</td>\n",
              "      <td>mother</td>\n",
              "      <td>False</td>\n",
              "    </tr>\n",
              "    <tr>\n",
              "      <th>1</th>\n",
              "      <td>GP</td>\n",
              "      <td>F</td>\n",
              "      <td>17</td>\n",
              "      <td>U</td>\n",
              "      <td>GT3</td>\n",
              "      <td>T</td>\n",
              "      <td>1</td>\n",
              "      <td>1</td>\n",
              "      <td>At_home</td>\n",
              "      <td>Other</td>\n",
              "      <td>course</td>\n",
              "      <td>father</td>\n",
              "      <td>False</td>\n",
              "    </tr>\n",
              "    <tr>\n",
              "      <th>2</th>\n",
              "      <td>GP</td>\n",
              "      <td>F</td>\n",
              "      <td>15</td>\n",
              "      <td>U</td>\n",
              "      <td>LE3</td>\n",
              "      <td>T</td>\n",
              "      <td>1</td>\n",
              "      <td>1</td>\n",
              "      <td>At_home</td>\n",
              "      <td>Other</td>\n",
              "      <td>other</td>\n",
              "      <td>mother</td>\n",
              "      <td>False</td>\n",
              "    </tr>\n",
              "    <tr>\n",
              "      <th>3</th>\n",
              "      <td>GP</td>\n",
              "      <td>F</td>\n",
              "      <td>15</td>\n",
              "      <td>U</td>\n",
              "      <td>GT3</td>\n",
              "      <td>T</td>\n",
              "      <td>4</td>\n",
              "      <td>2</td>\n",
              "      <td>Health</td>\n",
              "      <td>Services</td>\n",
              "      <td>home</td>\n",
              "      <td>mother</td>\n",
              "      <td>False</td>\n",
              "    </tr>\n",
              "    <tr>\n",
              "      <th>4</th>\n",
              "      <td>GP</td>\n",
              "      <td>F</td>\n",
              "      <td>16</td>\n",
              "      <td>U</td>\n",
              "      <td>GT3</td>\n",
              "      <td>T</td>\n",
              "      <td>3</td>\n",
              "      <td>3</td>\n",
              "      <td>Other</td>\n",
              "      <td>Other</td>\n",
              "      <td>home</td>\n",
              "      <td>father</td>\n",
              "      <td>False</td>\n",
              "    </tr>\n",
              "  </tbody>\n",
              "</table>\n",
              "</div>"
            ],
            "text/plain": [
              "  school sex  age address famsize Pstatus  Medu  Fedu     Mjob      Fjob  \\\n",
              "0     GP   F   18       U     GT3       A     4     4  At_home   Teacher   \n",
              "1     GP   F   17       U     GT3       T     1     1  At_home     Other   \n",
              "2     GP   F   15       U     LE3       T     1     1  At_home     Other   \n",
              "3     GP   F   15       U     GT3       T     4     2   Health  Services   \n",
              "4     GP   F   16       U     GT3       T     3     3    Other     Other   \n",
              "\n",
              "   reason guardian  legal_drinker  \n",
              "0  course   mother          False  \n",
              "1  course   father          False  \n",
              "2   other   mother          False  \n",
              "3    home   mother          False  \n",
              "4    home   father          False  "
            ]
          },
          "execution_count": 104,
          "metadata": {},
          "output_type": "execute_result"
        }
      ],
      "source": [
        "stud_alcoh['legal_drinker'] = stud_alcoh['age'].apply(majority)\n",
        "stud_alcoh.head()"
      ]
    },
    {
      "cell_type": "markdown",
      "metadata": {
        "id": "uwmJ0Gwif4yx"
      },
      "source": [
        "#### Multiply every number of the dataset by 5"
      ]
    },
    {
      "cell_type": "code",
      "execution_count": null,
      "metadata": {
        "id": "pXEAFcEEf4yx",
        "outputId": "07fcdd48-b09b-468e-b7dd-feb5ed288d33"
      },
      "outputs": [
        {
          "data": {
            "text/html": [
              "<div>\n",
              "<style scoped>\n",
              "    .dataframe tbody tr th:only-of-type {\n",
              "        vertical-align: middle;\n",
              "    }\n",
              "\n",
              "    .dataframe tbody tr th {\n",
              "        vertical-align: top;\n",
              "    }\n",
              "\n",
              "    .dataframe thead th {\n",
              "        text-align: right;\n",
              "    }\n",
              "</style>\n",
              "<table border=\"1\" class=\"dataframe\">\n",
              "  <thead>\n",
              "    <tr style=\"text-align: right;\">\n",
              "      <th></th>\n",
              "      <th>school</th>\n",
              "      <th>sex</th>\n",
              "      <th>age</th>\n",
              "      <th>address</th>\n",
              "      <th>famsize</th>\n",
              "      <th>Pstatus</th>\n",
              "      <th>Medu</th>\n",
              "      <th>Fedu</th>\n",
              "      <th>Mjob</th>\n",
              "      <th>Fjob</th>\n",
              "      <th>reason</th>\n",
              "      <th>guardian</th>\n",
              "      <th>legal_drinker</th>\n",
              "    </tr>\n",
              "  </thead>\n",
              "  <tbody>\n",
              "    <tr>\n",
              "      <th>0</th>\n",
              "      <td>GP</td>\n",
              "      <td>F</td>\n",
              "      <td>90</td>\n",
              "      <td>U</td>\n",
              "      <td>GT3</td>\n",
              "      <td>A</td>\n",
              "      <td>20</td>\n",
              "      <td>20</td>\n",
              "      <td>At_home</td>\n",
              "      <td>Teacher</td>\n",
              "      <td>course</td>\n",
              "      <td>mother</td>\n",
              "      <td>False</td>\n",
              "    </tr>\n",
              "    <tr>\n",
              "      <th>1</th>\n",
              "      <td>GP</td>\n",
              "      <td>F</td>\n",
              "      <td>85</td>\n",
              "      <td>U</td>\n",
              "      <td>GT3</td>\n",
              "      <td>T</td>\n",
              "      <td>5</td>\n",
              "      <td>5</td>\n",
              "      <td>At_home</td>\n",
              "      <td>Other</td>\n",
              "      <td>course</td>\n",
              "      <td>father</td>\n",
              "      <td>False</td>\n",
              "    </tr>\n",
              "    <tr>\n",
              "      <th>2</th>\n",
              "      <td>GP</td>\n",
              "      <td>F</td>\n",
              "      <td>75</td>\n",
              "      <td>U</td>\n",
              "      <td>LE3</td>\n",
              "      <td>T</td>\n",
              "      <td>5</td>\n",
              "      <td>5</td>\n",
              "      <td>At_home</td>\n",
              "      <td>Other</td>\n",
              "      <td>other</td>\n",
              "      <td>mother</td>\n",
              "      <td>False</td>\n",
              "    </tr>\n",
              "    <tr>\n",
              "      <th>3</th>\n",
              "      <td>GP</td>\n",
              "      <td>F</td>\n",
              "      <td>75</td>\n",
              "      <td>U</td>\n",
              "      <td>GT3</td>\n",
              "      <td>T</td>\n",
              "      <td>20</td>\n",
              "      <td>10</td>\n",
              "      <td>Health</td>\n",
              "      <td>Services</td>\n",
              "      <td>home</td>\n",
              "      <td>mother</td>\n",
              "      <td>False</td>\n",
              "    </tr>\n",
              "    <tr>\n",
              "      <th>4</th>\n",
              "      <td>GP</td>\n",
              "      <td>F</td>\n",
              "      <td>80</td>\n",
              "      <td>U</td>\n",
              "      <td>GT3</td>\n",
              "      <td>T</td>\n",
              "      <td>15</td>\n",
              "      <td>15</td>\n",
              "      <td>Other</td>\n",
              "      <td>Other</td>\n",
              "      <td>home</td>\n",
              "      <td>father</td>\n",
              "      <td>False</td>\n",
              "    </tr>\n",
              "    <tr>\n",
              "      <th>5</th>\n",
              "      <td>GP</td>\n",
              "      <td>M</td>\n",
              "      <td>80</td>\n",
              "      <td>U</td>\n",
              "      <td>LE3</td>\n",
              "      <td>T</td>\n",
              "      <td>20</td>\n",
              "      <td>15</td>\n",
              "      <td>Services</td>\n",
              "      <td>Other</td>\n",
              "      <td>reputation</td>\n",
              "      <td>mother</td>\n",
              "      <td>False</td>\n",
              "    </tr>\n",
              "    <tr>\n",
              "      <th>6</th>\n",
              "      <td>GP</td>\n",
              "      <td>M</td>\n",
              "      <td>80</td>\n",
              "      <td>U</td>\n",
              "      <td>LE3</td>\n",
              "      <td>T</td>\n",
              "      <td>10</td>\n",
              "      <td>10</td>\n",
              "      <td>Other</td>\n",
              "      <td>Other</td>\n",
              "      <td>home</td>\n",
              "      <td>mother</td>\n",
              "      <td>False</td>\n",
              "    </tr>\n",
              "    <tr>\n",
              "      <th>7</th>\n",
              "      <td>GP</td>\n",
              "      <td>F</td>\n",
              "      <td>85</td>\n",
              "      <td>U</td>\n",
              "      <td>GT3</td>\n",
              "      <td>A</td>\n",
              "      <td>20</td>\n",
              "      <td>20</td>\n",
              "      <td>Other</td>\n",
              "      <td>Teacher</td>\n",
              "      <td>home</td>\n",
              "      <td>mother</td>\n",
              "      <td>False</td>\n",
              "    </tr>\n",
              "    <tr>\n",
              "      <th>8</th>\n",
              "      <td>GP</td>\n",
              "      <td>M</td>\n",
              "      <td>75</td>\n",
              "      <td>U</td>\n",
              "      <td>LE3</td>\n",
              "      <td>A</td>\n",
              "      <td>15</td>\n",
              "      <td>10</td>\n",
              "      <td>Services</td>\n",
              "      <td>Other</td>\n",
              "      <td>home</td>\n",
              "      <td>mother</td>\n",
              "      <td>False</td>\n",
              "    </tr>\n",
              "    <tr>\n",
              "      <th>9</th>\n",
              "      <td>GP</td>\n",
              "      <td>M</td>\n",
              "      <td>75</td>\n",
              "      <td>U</td>\n",
              "      <td>GT3</td>\n",
              "      <td>T</td>\n",
              "      <td>15</td>\n",
              "      <td>20</td>\n",
              "      <td>Other</td>\n",
              "      <td>Other</td>\n",
              "      <td>home</td>\n",
              "      <td>mother</td>\n",
              "      <td>False</td>\n",
              "    </tr>\n",
              "  </tbody>\n",
              "</table>\n",
              "</div>"
            ],
            "text/plain": [
              "  school sex  age address famsize Pstatus  Medu  Fedu      Mjob      Fjob  \\\n",
              "0     GP   F   90       U     GT3       A    20    20   At_home   Teacher   \n",
              "1     GP   F   85       U     GT3       T     5     5   At_home     Other   \n",
              "2     GP   F   75       U     LE3       T     5     5   At_home     Other   \n",
              "3     GP   F   75       U     GT3       T    20    10    Health  Services   \n",
              "4     GP   F   80       U     GT3       T    15    15     Other     Other   \n",
              "5     GP   M   80       U     LE3       T    20    15  Services     Other   \n",
              "6     GP   M   80       U     LE3       T    10    10     Other     Other   \n",
              "7     GP   F   85       U     GT3       A    20    20     Other   Teacher   \n",
              "8     GP   M   75       U     LE3       A    15    10  Services     Other   \n",
              "9     GP   M   75       U     GT3       T    15    20     Other     Other   \n",
              "\n",
              "       reason guardian  legal_drinker  \n",
              "0      course   mother          False  \n",
              "1      course   father          False  \n",
              "2       other   mother          False  \n",
              "3        home   mother          False  \n",
              "4        home   father          False  \n",
              "5  reputation   mother          False  \n",
              "6        home   mother          False  \n",
              "7        home   mother          False  \n",
              "8        home   mother          False  \n",
              "9        home   mother          False  "
            ]
          },
          "execution_count": 105,
          "metadata": {},
          "output_type": "execute_result"
        }
      ],
      "source": [
        "stud_alcoh.applymap(lambda x: x*5 if type(x) is int else x).head(10)"
      ]
    },
    {
      "cell_type": "markdown",
      "metadata": {
        "id": "-fM_xzMff4yx"
      },
      "source": [
        "# <center>That's all folks</center>\n",
        "<center><img src = https://acegif.com/wp-content/uploads/gif/panda-8.gif></center>"
      ]
    }
  ],
  "metadata": {
    "kernelspec": {
      "display_name": "Python 3 (ipykernel)",
      "language": "python",
      "name": "python3"
    },
    "language_info": {
      "codemirror_mode": {
        "name": "ipython",
        "version": 3
      },
      "file_extension": ".py",
      "mimetype": "text/x-python",
      "name": "python",
      "nbconvert_exporter": "python",
      "pygments_lexer": "ipython3",
      "version": "3.9.7"
    },
    "vscode": {
      "interpreter": {
        "hash": "4fc8eee665007a42edd269303f37995bd64ca5eac7b16be98d3be7ead3c26aac"
      }
    },
    "colab": {
      "provenance": [],
      "collapsed_sections": [
        "x6OVJ3rff4yf",
        "03XDqwMbf4yk",
        "7w3TUrVuf4ym",
        "OVVBXapAf4yp"
      ],
      "toc_visible": true
    }
  },
  "nbformat": 4,
  "nbformat_minor": 0
}