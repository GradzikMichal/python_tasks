{
 "cells": [
  {
   "metadata": {},
   "cell_type": "markdown",
   "source": "# Important version",
   "id": "95a67bcabd9b0268"
  },
  {
   "cell_type": "code",
   "execution_count": null,
   "id": "initial_id",
   "metadata": {
    "collapsed": true
   },
   "outputs": [],
   "source": "!pip install scikit-learn==1.4.1.post1"
  },
  {
   "metadata": {},
   "cell_type": "markdown",
   "source": "# Imports",
   "id": "f60f69e0c4743fdc"
  },
  {
   "metadata": {},
   "cell_type": "code",
   "outputs": [],
   "execution_count": null,
   "source": [
    "import yfinance as yf\n",
    "import pandas as pd\n",
    "from statsmodels.tsa.holtwinters import ExponentialSmoothing as HWES\n",
    "from statsmodels.tsa.seasonal import seasonal_decompose\n",
    "import statsmodels.api as sm\n",
    "import matplotlib.pyplot as plt\n",
    "import numpy as np\n",
    "import sklearn.metrics as sk\n",
    "from scipy import stats\n",
    "from datetime import datetime\n",
    "from statsmodels.stats.diagnostic import acorr_ljungbox\n",
    "from statsmodels.tsa.stattools import adfuller, kpss"
   ],
   "id": "4b45aa19d0b3f2ab"
  },
  {
   "metadata": {},
   "cell_type": "markdown",
   "source": "# Download data",
   "id": "c88d7273004e2f05"
  },
  {
   "metadata": {},
   "cell_type": "code",
   "outputs": [],
   "execution_count": null,
   "source": [
    "df = yf.download(\"IBM\", start= datetime(2022,10,1), end = datetime(2022,12,16),interval='1d')\n",
    "df"
   ],
   "id": "b6a6859c9206b298"
  },
  {
   "metadata": {},
   "cell_type": "markdown",
   "source": "# Data plot",
   "id": "d94f79027a0601ed"
  },
  {
   "metadata": {},
   "cell_type": "code",
   "outputs": [],
   "execution_count": null,
   "source": "df[['Open','Low','High','Close']].plot()",
   "id": "4d8951e9d567cd50"
  },
  {
   "metadata": {},
   "cell_type": "markdown",
   "source": "# Data analysis for Exponential Smoothing",
   "id": "12577b0fbf32593a"
  },
  {
   "metadata": {},
   "cell_type": "markdown",
   "source": "## Additive decompositions",
   "id": "f78c654bdea25194"
  },
  {
   "metadata": {},
   "cell_type": "code",
   "outputs": [],
   "execution_count": null,
   "source": [
    "add_decomposition_open = seasonal_decompose(df[[\"Open\"]], model='additive', period=1, extrapolate_trend='freq')\n",
    "add_decomposition_open.plot()\n",
    "plt.title(\"Additive seasonal decomposition of Open dataset\")\n",
    "plt.show()"
   ],
   "id": "4ef05862a890b1c6"
  },
  {
   "metadata": {},
   "cell_type": "code",
   "outputs": [],
   "execution_count": null,
   "source": [
    "add_decomposition_close = seasonal_decompose(df[[\"Close\"]], model='additive', period=1, extrapolate_trend='freq')\n",
    "add_decomposition_close.plot()\n",
    "plt.title(\"Additive seasonal decomposition of Close dataset\")\n",
    "plt.show()"
   ],
   "id": "9d881c268eb13989"
  },
  {
   "metadata": {},
   "cell_type": "markdown",
   "source": "There is only trend, there is no information about seasonality",
   "id": "f6e07cf1f3028c5"
  },
  {
   "metadata": {},
   "cell_type": "markdown",
   "source": "## Multiplicative decompositions",
   "id": "9b55390278a9af20"
  },
  {
   "metadata": {},
   "cell_type": "code",
   "outputs": [],
   "execution_count": null,
   "source": [
    "mul_decomposition_open = seasonal_decompose(df[[\"Open\"]], model='multiplicative', period=1, extrapolate_trend='freq')\n",
    "mul_decomposition_open.plot()\n",
    "plt.title(\"Multiplicative seasonal decomposition of Open dataset\")\n",
    "plt.show()"
   ],
   "id": "56a973a08e147deb"
  },
  {
   "metadata": {},
   "cell_type": "code",
   "outputs": [],
   "execution_count": null,
   "source": [
    "mul_decomposition_close = seasonal_decompose(df[[\"Close\"]], model='multiplicative', period=1, extrapolate_trend='freq')\n",
    "mul_decomposition_close.plot()\n",
    "plt.title(\"Multiplicative seasonal decomposition of Close dataset\")\n",
    "plt.show()"
   ],
   "id": "eb29a837feb8e5c7"
  },
  {
   "metadata": {},
   "cell_type": "markdown",
   "source": "There is only trend, there is no information about seasonality",
   "id": "46c75f2cf468e26"
  },
  {
   "metadata": {},
   "cell_type": "markdown",
   "source": "# Plots of autocorrelation",
   "id": "feda43ffbcedb8b8"
  },
  {
   "metadata": {},
   "cell_type": "markdown",
   "source": "## Autocorrelation of Open dataset",
   "id": "ea965f45a946c36d"
  },
  {
   "metadata": {},
   "cell_type": "code",
   "outputs": [],
   "execution_count": null,
   "source": [
    "sm.graphics.tsa.plot_acf(df[[\"Open\"]],title=\"Autocorrection\")\n",
    "plt.show()"
   ],
   "id": "da5626354dd4e218"
  },
  {
   "metadata": {},
   "cell_type": "markdown",
   "source": "## Autocorrelation of Close dataset",
   "id": "3a6f7694bf78cbf7"
  },
  {
   "metadata": {},
   "cell_type": "code",
   "outputs": [],
   "execution_count": null,
   "source": [
    "sm.graphics.tsa.plot_acf(df[[\"Close\"]],title=\"Autocorrection\")\n",
    "plt.show()"
   ],
   "id": "3c7b457be4090058"
  },
  {
   "metadata": {},
   "cell_type": "markdown",
   "source": [
    "# Ljung-Box test of autocorrelation in residuals \n",
    "This will help with determining if residuals are autocorrelated. Data is not autocorrelated if p-value is greater than 0,05 this mean that residuals are independent."
   ],
   "id": "f782498146fcdf5b"
  },
  {
   "metadata": {},
   "cell_type": "markdown",
   "source": "## Ljung-Box for Open residuals",
   "id": "9c51dfb5a09fad27"
  },
  {
   "metadata": {},
   "cell_type": "code",
   "outputs": [],
   "execution_count": null,
   "source": [
    "#Examplary lags value\n",
    "acorr_ljungbox(df[['Open']],lags=20,return_df=True)"
   ],
   "id": "bd0a9d7ade188d61"
  },
  {
   "metadata": {},
   "cell_type": "markdown",
   "source": "## Ljung-Box for Close residuals",
   "id": "69116511169a6460"
  },
  {
   "metadata": {},
   "cell_type": "code",
   "outputs": [],
   "execution_count": null,
   "source": [
    "#Examplary lags value\n",
    "acorr_ljungbox(df[['Close']],lags=20,return_df=True)"
   ],
   "id": "6b4f48b5a1fd5ccb"
  },
  {
   "metadata": {},
   "cell_type": "markdown",
   "source": [
    "# Augmented Dickey-Fuller (ADF) [More info](https://www.geeksforgeeks.org/machine-learning/augmented-dickey-fuller-adf)\n",
    "Test used to determined whether time series is stationary. Stationarity ensures that forecast model does not produce misleading forecasts and inferences.\n",
    "\n",
    "Interpreting results:\n",
    "- ADF Statistic: If it's significantly lower than the critical values, reject the null.\n",
    "- p-value: If p < 0.05, the series is likely stationary.\n",
    "- Critical Values: Used for comparing with the ADF statistic"
   ],
   "id": "3af28cb60c0570f0"
  },
  {
   "metadata": {},
   "cell_type": "markdown",
   "source": "## ADF for Open dataset",
   "id": "ab0de45b4c307482"
  },
  {
   "metadata": {},
   "cell_type": "code",
   "outputs": [],
   "execution_count": null,
   "source": [
    "adf_results = adfuller(df[['Open']])\n",
    "print(\"ADF Statistic:\", adf_results[0])\n",
    "print(\"p-value:\", adf_results[1])\n",
    "print(\"Critical Values:\")\n",
    "for key, value in adf_results[4].items():\n",
    "    print(f\"   {key}: {value}\")"
   ],
   "id": "3bdf079b70cf0b7e"
  },
  {
   "metadata": {},
   "cell_type": "markdown",
   "source": "## ADF for Close dataset",
   "id": "4c892b041634477a"
  },
  {
   "metadata": {},
   "cell_type": "code",
   "outputs": [],
   "execution_count": null,
   "source": [
    "adf_results = adfuller(df[['Close']])\n",
    "print(\"ADF Statistic:\", adf_results[0])\n",
    "print(\"p-value:\", adf_results[1])\n",
    "print(\"Critical Values:\")\n",
    "for key, value in adf_results[4].items():\n",
    "    print(f\"   {key}: {value}\")"
   ],
   "id": "cc350e1450fffdd1"
  },
  {
   "metadata": {},
   "cell_type": "markdown",
   "source": [
    "# Kwiatkowski-Phillips-Schmidt-Shin (KPSS) [More info](https://www.geeksforgeeks.org/python/kwiatkowski-phillips-schmidt-shin-kpss)\n",
    "\n",
    "If p-value is smaller than 0,05 series is likely non-stationary"
   ],
   "id": "d763af6ec4997d92"
  },
  {
   "metadata": {},
   "cell_type": "markdown",
   "source": "## KPSS test for Open data",
   "id": "95903ee1a1eb7f91"
  },
  {
   "metadata": {},
   "cell_type": "code",
   "outputs": [],
   "execution_count": null,
   "source": [
    "stat, p_value, lags, crit = kpss(df[['Open']])\n",
    "print(\"KPSS Statistic:\", stat)\n",
    "print(\"p-value:\", p_value)\n",
    "print(\"Critical Values:\", crit)\n",
    "print(\"Lags used:\", lags)"
   ],
   "id": "28aac5ff2e929d5f"
  },
  {
   "metadata": {},
   "cell_type": "markdown",
   "source": "## KPSS test for Close data",
   "id": "d80e41e996c559f6"
  },
  {
   "metadata": {},
   "cell_type": "code",
   "outputs": [],
   "execution_count": null,
   "source": [
    "stat, p_value, lags, crit = kpss(df[['Close']])\n",
    "print(\"KPSS Statistic:\", stat)\n",
    "print(\"p-value:\", p_value)\n",
    "print(\"Critical Values:\", crit)\n",
    "print(\"Lags used:\", lags)"
   ],
   "id": "f6d558fbaa81a6e4"
  },
  {
   "metadata": {},
   "cell_type": "markdown",
   "source": "# Differentiating to make Open data stationary",
   "id": "bc4a246e2bb1d951"
  },
  {
   "metadata": {},
   "cell_type": "code",
   "outputs": [],
   "execution_count": null,
   "source": [
    "open_diff = df[['Open']].diff()\n",
    "open_diff = open_diff.dropna()"
   ],
   "id": "eb44c4475e1ee2a6"
  },
  {
   "metadata": {},
   "cell_type": "markdown",
   "source": "## Additive decomposition of differentiated data",
   "id": "5594c5d1f66a20f1"
  },
  {
   "metadata": {},
   "cell_type": "code",
   "outputs": [],
   "execution_count": null,
   "source": [
    "add_decomposition_open = seasonal_decompose(open_diff, model='additive', period=1, extrapolate_trend='freq')\n",
    "add_decomposition_open.plot()\n",
    "plt.title(\"Additive seasonal decomposition\")\n",
    "plt.show()"
   ],
   "id": "c8ec82b5b40abd36"
  },
  {
   "metadata": {},
   "cell_type": "markdown",
   "source": "## Autocorrelation of differentiated data",
   "id": "85f30ef041906a"
  },
  {
   "metadata": {},
   "cell_type": "code",
   "outputs": [],
   "execution_count": null,
   "source": [
    "sm.graphics.tsa.plot_acf(open_diff,title=\"Autocorrection\")\n",
    "plt.show()"
   ],
   "id": "3190f2a42220f30a"
  },
  {
   "metadata": {},
   "cell_type": "markdown",
   "source": "## Ljung-box test",
   "id": "d62989f9bb1fa565"
  },
  {
   "metadata": {},
   "cell_type": "code",
   "outputs": [],
   "execution_count": null,
   "source": "acorr_ljungbox(open_diff,lags=20,return_df=True)",
   "id": "702a50799558802e"
  },
  {
   "metadata": {},
   "cell_type": "markdown",
   "source": "# KPSS test",
   "id": "abb2f9109419ee6d"
  },
  {
   "metadata": {},
   "cell_type": "code",
   "outputs": [],
   "execution_count": null,
   "source": [
    "stat, p_value, lags, crit = kpss(open_diff)\n",
    "print(\"KPSS Statistic:\", stat)\n",
    "print(\"p-value:\", p_value)\n",
    "print(\"Critical Values:\", crit)\n",
    "print(\"Lags used:\", lags)"
   ],
   "id": "e87441183e78e843"
  },
  {
   "metadata": {},
   "cell_type": "markdown",
   "source": "# Differentiating to make Close data stationary",
   "id": "b93c60e8b57eb061"
  },
  {
   "metadata": {},
   "cell_type": "code",
   "outputs": [],
   "execution_count": null,
   "source": [
    "close_diff = df[['Close']].diff()\n",
    "close_diff = close_diff.dropna()"
   ],
   "id": "ad0ba9eeeb0e3ba9"
  },
  {
   "metadata": {},
   "cell_type": "markdown",
   "source": "## Additive decomposition of differentiated data",
   "id": "b8aa85afad2c295f"
  },
  {
   "metadata": {},
   "cell_type": "code",
   "outputs": [],
   "execution_count": null,
   "source": [
    "add_decomposition_open = seasonal_decompose(close_diff, model='additive', period=1, extrapolate_trend='freq')\n",
    "add_decomposition_open.plot()\n",
    "plt.title(\"Additive seasonal decomposition\")\n",
    "plt.show()"
   ],
   "id": "3747f5c221efe42e"
  },
  {
   "metadata": {},
   "cell_type": "markdown",
   "source": "## Autocorrelation of differentiated data",
   "id": "2e106fc107bed70d"
  },
  {
   "metadata": {},
   "cell_type": "code",
   "outputs": [],
   "execution_count": null,
   "source": [
    "sm.graphics.tsa.plot_acf(close_diff,title=\"Autocorrection\")\n",
    "plt.show()"
   ],
   "id": "6155257c90d2ad37"
  },
  {
   "metadata": {},
   "cell_type": "markdown",
   "source": "## Ljung-box test",
   "id": "ee1731fd55a90727"
  },
  {
   "metadata": {},
   "cell_type": "code",
   "outputs": [],
   "execution_count": null,
   "source": "acorr_ljungbox(close_diff,lags=20,return_df=True)",
   "id": "593fc2dd12008ae5"
  },
  {
   "metadata": {},
   "cell_type": "markdown",
   "source": "## KPSS test ",
   "id": "114b3eb6ef2a5fd4"
  },
  {
   "metadata": {},
   "cell_type": "code",
   "outputs": [],
   "execution_count": null,
   "source": [
    "stat, p_value, lags, crit = kpss(open_diff)\n",
    "print(\"KPSS Statistic:\", stat)\n",
    "print(\"p-value:\", p_value)\n",
    "print(\"Critical Values:\", crit)\n",
    "print(\"Lags used:\", lags)"
   ],
   "id": "60cd708a4015abf4"
  }
 ],
 "metadata": {
  "kernelspec": {
   "display_name": "Python 3",
   "language": "python",
   "name": "python3"
  },
  "language_info": {
   "codemirror_mode": {
    "name": "ipython",
    "version": 2
   },
   "file_extension": ".py",
   "mimetype": "text/x-python",
   "name": "python",
   "nbconvert_exporter": "python",
   "pygments_lexer": "ipython2",
   "version": "2.7.6"
  }
 },
 "nbformat": 4,
 "nbformat_minor": 5
}
