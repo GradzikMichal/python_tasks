{
 "cells": [
  {
   "metadata": {},
   "cell_type": "markdown",
   "source": [
    "First part of laboratories were conducted by <a href=\"https://github.com/makskliczkowski\">Maksymilian Kliczkowski</a>. He created notebooks we used in laboratories and he help me and my friends with understanding basic and advanced topics in machine learning. I am really glad that I had him as a tutor.\n",
    "\n",
    "In first course of ML/AI we were build ML models from the ground using math. \n",
    "\n",
    "In this notebook I will present only some task we had as a homework from notebooks about numpy and pandas.  "
   ],
   "id": "46ff6ce094614861"
  },
  {
   "metadata": {},
   "cell_type": "markdown",
   "source": [
    "---\n",
    "## Some numpy and pandas tasks"
   ],
   "id": "26c12dcfc734e56f"
  },
  {
   "metadata": {},
   "cell_type": "code",
   "outputs": [],
   "execution_count": null,
   "source": [
    "import numpy as np\n",
    "import pandas as pd"
   ],
   "id": "735183ef13b85443"
  },
  {
   "metadata": {},
   "cell_type": "markdown",
   "source": [
    "### Task 0\n",
    "Define the `maxx` function that takes two numpy arrays and returns the one, which has the largest sum of elements. If the sums are equal, the function should return the first array.\n"
   ],
   "id": "9c2996e801af2915"
  },
  {
   "cell_type": "code",
   "execution_count": null,
   "id": "initial_id",
   "metadata": {
    "collapsed": true
   },
   "outputs": [],
   "source": [
    "def maxx(ar1: np.ndarray, ar2: np.ndarray):\n",
    "    if ar1.sum() > ar2.sum() or ar1.sum() == ar2.sum():\n",
    "      return ar1\n",
    "    else:\n",
    "      return ar2"
   ]
  },
  {
   "metadata": {},
   "cell_type": "code",
   "outputs": [],
   "execution_count": null,
   "source": [
    "arr1 = np.array([6, 7, 8, 9, 10, 11])\n",
    "arr2 = np.array([22, 23])\n",
    "maxx(arr1, arr2)"
   ],
   "id": "5bc5ad6ebd3f22c2"
  },
  {
   "metadata": {},
   "cell_type": "markdown",
   "source": [
    "### Task 1\n",
    "Define the `meanest_of_them_all` function that takes a list of numpy arrays and returns the one, which has the largest mean of elements. If the means are equal, the function should return the first array. The function should work for arbitrary shapes of the arrays."
   ],
   "id": "4209bb6ac2981c3d"
  },
  {
   "metadata": {},
   "cell_type": "code",
   "outputs": [],
   "execution_count": null,
   "source": [
    "def meanest_of_them_all(list_of_arrays : list[np.ndarray]):\n",
    "    mean = 0\n",
    "    tab  = None\n",
    "    for arr in list_of_arrays:\n",
    "      c_mean=arr.mean()\n",
    "      if c_mean > mean:\n",
    "        mean = c_mean\n",
    "        tab = arr\n",
    "    return tab"
   ],
   "id": "1e0f5f038f94300c"
  },
  {
   "metadata": {},
   "cell_type": "code",
   "outputs": [],
   "execution_count": null,
   "source": [
    "arr1 = np.array([1, 2, 3, 4, 5])\n",
    "arr2 = np.array([6, 7, 8, 9, 10])\n",
    "arr3 = np.array([22, 23])\n",
    "meanest_of_them_all([arr1, arr2, arr3])"
   ],
   "id": "ced18aedc1462787"
  },
  {
   "metadata": {},
   "cell_type": "markdown",
   "source": [
    "### Task 2\n",
    "Create two 1D, random, uniformly distributed integer $r\\in [0, 100)$ numpy arrays of size 100. After that, create a new array by choosing elements that appear in both arrays. Replace all elements that are less than 50 with 0 and all elements that are greater than 50 with 1. Finally, calculate the mean of the resulting array. Use np.where function."
   ],
   "id": "9e195e45770fbb1b"
  },
  {
   "metadata": {},
   "cell_type": "code",
   "outputs": [],
   "execution_count": null,
   "source": [
    "def Task2(a : np.ndarray, b : np.ndarray):\n",
    "    common = np.intersect1d(a,b)\n",
    "    return np.where(common >= 50, 1,0).mean()\n",
    "\n",
    "\n",
    "a   = np.random.randint(0, 100, 100)\n",
    "b   = np.random.randint(0, 100, 100)\n",
    "\n",
    "Task2(a, b)"
   ],
   "id": "ce5e6537d7603fb9"
  },
  {
   "metadata": {},
   "cell_type": "markdown",
   "source": [
    "### Task 4\n",
    "\n",
    "Replace all nan values with the mean of the array. Then normalize the array by subtracting the mean and dividing by the standard deviation."
   ],
   "id": "89b302ea247af095"
  },
  {
   "metadata": {},
   "cell_type": "code",
   "outputs": [],
   "execution_count": null,
   "source": [
    "a = np.array([1,2,3,np.nan,5,6,7,np.nan,8,9,10,np.nan])\n",
    "a = np.nan_to_num(a, nan=np.nanmean(a))\n",
    "a_norm = (a - a.mean())/np.std(a)\n",
    "print(a_norm)"
   ],
   "id": "cc958671de2f89c9"
  },
  {
   "metadata": {},
   "cell_type": "markdown",
   "source": [
    "### Task 5\n",
    "Treating separate rows of a matrix as independent vectors, calculate the projection of vector $\\vec{v}$ onto vector $\\vec{w}$ for each row of matrix $V_s$ onto rows of matrix $W_s$."
   ],
   "id": "41aaebe77525fb93"
  },
  {
   "metadata": {},
   "cell_type": "code",
   "outputs": [],
   "execution_count": null,
   "source": [
    "Vs = np.random.uniform(size=(100, 20))\n",
    "Ws = np.random.uniform(size=(100, 20))\n",
    "\n",
    "'''\n",
    "Single projection for two vectors of the same dimension\n",
    "'''\n",
    "def projection(v, w):\n",
    "    v_norm = np.sqrt(sum(v**2))\n",
    "    return (np.dot(w,v)/v_norm**2)*v"
   ],
   "id": "f13949e3df5f9409"
  },
  {
   "metadata": {},
   "cell_type": "code",
   "outputs": [],
   "execution_count": null,
   "source": [
    "for (v,w) in zip(Vs, Ws):\n",
    "  print(projection(v,w))"
   ],
   "id": "b6e5a142571820d1"
  },
  {
   "metadata": {},
   "cell_type": "markdown",
   "source": [
    "### Homework homework\n",
    "\n",
    "Write function that calculate convolution of two matrices"
   ],
   "id": "30474b18e96f28d4"
  },
  {
   "metadata": {},
   "cell_type": "code",
   "outputs": [],
   "execution_count": null,
   "source": [
    "x   =   np.arange(0, 3.5, 1)\n",
    "h   =   np.array([2, 2, 3.0])\n",
    "print(\"len(x)=N=\", len(x))\n",
    "print(\"len(h)=M=\", len(h))\n",
    "print(x)"
   ],
   "id": "ac7d18cfab7c0718"
  },
  {
   "metadata": {},
   "cell_type": "code",
   "outputs": [],
   "execution_count": null,
   "source": [
    "def conv(x, h):\n",
    "  N = len(x)\n",
    "  M = len(h)\n",
    "  size = N + M -1\n",
    "  y = []\n",
    "  for n in range(size):\n",
    "    y_n = 0\n",
    "    for m in range(N):\n",
    "      if n-m in range(0,M):\n",
    "        y_n += x[m] * h[n-m]\n",
    "    y.append(y_n)\n",
    "  return y\n",
    "print(conv(x,h))"
   ],
   "id": "266dc7f8c6e6e3"
  },
  {
   "metadata": {},
   "cell_type": "markdown",
   "source": "## Pandas",
   "id": "c5364523f013acc0"
  },
  {
   "metadata": {},
   "cell_type": "code",
   "outputs": [],
   "execution_count": null,
   "source": "food = pd.read_csv('food/en.openfoodfacts.org.products.tsv', sep='\\t')",
   "id": "120f6e478431ea5"
  },
  {
   "metadata": {},
   "cell_type": "markdown",
   "source": [
    "#### a) Check the first and last ${last_idx_num + 1} elements\n",
    "As `last_idx_num` input your last index number."
   ],
   "id": "1b5da227f4c896b9"
  },
  {
   "metadata": {},
   "cell_type": "code",
   "outputs": [],
   "execution_count": null,
   "source": [
    "last_idx_num = 0\n",
    "food.head(last_idx_num + 1)"
   ],
   "id": "74fe40565e6115fa"
  },
  {
   "metadata": {},
   "cell_type": "code",
   "outputs": [],
   "execution_count": null,
   "source": "food.tail(last_idx_num + 1)",
   "id": "f9c72bf64f990902"
  },
  {
   "metadata": {},
   "cell_type": "markdown",
   "source": [
    "#### b) Figure out the number of rows and columns\n",
    "Find the shape of the DataFrame"
   ],
   "id": "b25b8ae97c5a683c"
  },
  {
   "metadata": {},
   "cell_type": "code",
   "outputs": [],
   "execution_count": null,
   "source": "food.shape",
   "id": "e3d63ca9e2cbb357"
  },
  {
   "metadata": {},
   "cell_type": "markdown",
   "source": [
    "#### c) Print information about it\n",
    "`.info` is our friend!"
   ],
   "id": "362d9fedc42a8b83"
  },
  {
   "metadata": {},
   "cell_type": "code",
   "outputs": [],
   "execution_count": null,
   "source": "food.info()",
   "id": "c4f27712be099172"
  },
  {
   "metadata": {},
   "cell_type": "markdown",
   "source": [
    "#### d) Find the type of middle column\n",
    "Use the method from b)."
   ],
   "id": "25d7879b1bc85073"
  },
  {
   "metadata": {},
   "cell_type": "code",
   "outputs": [],
   "execution_count": null,
   "source": "food.columns[food.shape[-1]//2], food.iloc[:, food.shape[-1]//2].dtypes",
   "id": "5a2306007fc61376"
  },
  {
   "metadata": {},
   "cell_type": "markdown",
   "source": [
    "#### e) How is the data indexed?\n",
    "Check the index of the DataFrame."
   ],
   "id": "37299bdb0fb5a6bc"
  },
  {
   "metadata": {},
   "cell_type": "code",
   "outputs": [],
   "execution_count": null,
   "source": "food.index",
   "id": "571188d020ff4a05"
  },
  {
   "metadata": {},
   "cell_type": "markdown",
   "source": "### Task 2",
   "id": "ad7529dd0853cbfe"
  },
  {
   "metadata": {},
   "cell_type": "markdown",
   "source": [
    "#### a) Load the dataframe about the users & b) Determine the separator and index\n",
    "(don't know if I can find this dataset)"
   ],
   "id": "60951e067a827a32"
  },
  {
   "metadata": {},
   "cell_type": "code",
   "outputs": [],
   "execution_count": null,
   "source": [
    "users = pd.read_csv('https://raw.githubusercontent.com/justmarkham/DAT8/master/data/u.user',\n",
    "                    sep         =   '|',\n",
    "                    index_col   =   'user_id')\n",
    "users"
   ],
   "id": "335c20124026ab87"
  },
  {
   "metadata": {},
   "cell_type": "markdown",
   "source": "#### c) Show the beginning of the file",
   "id": "726e2b58a4b0cdd9"
  },
  {
   "metadata": {
    "ExecuteTime": {
     "end_time": "2025-09-03T18:45:19.074508Z",
     "start_time": "2025-09-03T18:45:18.760886Z"
    }
   },
   "cell_type": "code",
   "source": "users.head()",
   "id": "117666571f99dc15",
   "outputs": [
    {
     "name": "stderr",
     "output_type": "stream",
     "text": [
      "\n",
      "KeyboardInterrupt\n",
      "\n"
     ]
    }
   ],
   "execution_count": 1
  },
  {
   "metadata": {},
   "cell_type": "markdown",
   "source": "#### d) What is the number of rows in the DataFrame",
   "id": "32d771de34ed4e69"
  },
  {
   "metadata": {},
   "cell_type": "code",
   "outputs": [],
   "execution_count": null,
   "source": "users.shape",
   "id": "896715b74b5258e3"
  },
  {
   "metadata": {},
   "cell_type": "markdown",
   "source": "#### e) Change the column names to consist of capital letters",
   "id": "f99a96e9f119c161"
  },
  {
   "metadata": {},
   "cell_type": "code",
   "outputs": [],
   "execution_count": null,
   "source": [
    "print(users.columns)\n",
    "users.columns = map(str.upper, users.columns)\n",
    "print(users.columns)"
   ],
   "id": "12ca7fa0230b41c7"
  },
  {
   "metadata": {},
   "cell_type": "markdown",
   "source": "#### f) Show the types of the data",
   "id": "5c350952e4165dd7"
  },
  {
   "metadata": {},
   "cell_type": "code",
   "outputs": [],
   "execution_count": null,
   "source": "users.dtypes",
   "id": "c9e83523780f5f43"
  },
  {
   "metadata": {},
   "cell_type": "markdown",
   "source": "#### g) Print the occupation and gender of the employees",
   "id": "83518006ed8abfe7"
  },
  {
   "metadata": {},
   "cell_type": "code",
   "outputs": [],
   "execution_count": null,
   "source": "users[['GENDER', 'OCCUPATION']]",
   "id": "47f05891d822453"
  },
  {
   "metadata": {},
   "cell_type": "markdown",
   "source": "#### h) How many unique occupations are there?",
   "id": "c5b940d13535c6de"
  },
  {
   "metadata": {},
   "cell_type": "code",
   "outputs": [],
   "execution_count": null,
   "source": "len(users.OCCUPATION.unique())",
   "id": "4203f532ffc903b1"
  },
  {
   "metadata": {},
   "cell_type": "markdown",
   "source": "#### i) Summerize the information about the users",
   "id": "b3d7b22db6b4f0e2"
  },
  {
   "metadata": {},
   "cell_type": "code",
   "outputs": [],
   "execution_count": null,
   "source": [
    "users.describe(include = 'all')\n",
    "# without include - only gives numeric values"
   ],
   "id": "8500fc5af557983"
  },
  {
   "metadata": {},
   "cell_type": "markdown",
   "source": "#### z) What is the mean age?",
   "id": "80a53cafe3f1c056"
  },
  {
   "metadata": {},
   "cell_type": "code",
   "outputs": [],
   "execution_count": null,
   "source": "users.AGE.mean()",
   "id": "8286572bd020a03a"
  },
  {
   "metadata": {},
   "cell_type": "markdown",
   "source": "#### $\\eta$)  What is the occupation with least occurences?",
   "id": "97c9938037303ae2"
  },
  {
   "metadata": {},
   "cell_type": "code",
   "outputs": [],
   "execution_count": null,
   "source": "users.OCCUPATION.value_counts().tail(10)",
   "id": "88d036b525e63883"
  },
  {
   "metadata": {},
   "cell_type": "markdown",
   "source": "## <center>Filtering and sorting data</center>",
   "id": "c25ced3b2099fe07"
  },
  {
   "metadata": {},
   "cell_type": "markdown",
   "source": [
    "### Task 1\n",
    "Read the same database as in the previous task."
   ],
   "id": "3f62872aedc75bc8"
  },
  {
   "metadata": {},
   "cell_type": "code",
   "outputs": [],
   "execution_count": null,
   "source": [
    "users = pd.read_csv('https://raw.githubusercontent.com/justmarkham/DAT8/master/data/u.user',\n",
    "                    sep         =   '|',\n",
    "                    index_col   =   'user_id')\n",
    "users"
   ],
   "id": "fe2fc609dfdb4d2d"
  },
  {
   "metadata": {},
   "cell_type": "markdown",
   "source": "#### a) Sort users by occupation",
   "id": "a5107397444f0a1c"
  },
  {
   "metadata": {},
   "cell_type": "code",
   "outputs": [],
   "execution_count": null,
   "source": "users.sort_values('occupation')",
   "id": "1aff9cb67916148f"
  },
  {
   "metadata": {},
   "cell_type": "markdown",
   "source": "#### b) What is the most common zip_code",
   "id": "8405dc76f3ef69df"
  },
  {
   "metadata": {},
   "cell_type": "code",
   "outputs": [],
   "execution_count": null,
   "source": "users.groupby('zip_code')[\"zip_code\"].count().sort_values(ascending=False)",
   "id": "4c780c77d1f228b5"
  },
  {
   "metadata": {},
   "cell_type": "markdown",
   "source": "#### c) What happens if we choose people only over 30?",
   "id": "c3e9273c2839036e"
  },
  {
   "metadata": {},
   "cell_type": "code",
   "outputs": [],
   "execution_count": null,
   "source": [
    "age = 30\n",
    "users[users.age > age].groupby('zip_code')['zip_code'].count().sort_values(ascending=False)"
   ],
   "id": "92c069b9ac978d54"
  },
  {
   "metadata": {},
   "cell_type": "markdown",
   "source": "#### d) And in case of Women?",
   "id": "ab153a3c333da928"
  },
  {
   "metadata": {},
   "cell_type": "code",
   "outputs": [],
   "execution_count": null,
   "source": [
    "age = 30\n",
    "users[users.gender == \"F\"].groupby('zip_code')['zip_code'].count().sort_values(ascending=False)"
   ],
   "id": "843dc669cf6cc608"
  },
  {
   "metadata": {},
   "cell_type": "markdown",
   "source": "## Grouping and others",
   "id": "ae08385a826a9ce8"
  },
  {
   "metadata": {},
   "cell_type": "markdown",
   "source": "The census dataset (census.csv) should be loaded as census_df.",
   "id": "4131a60f9682658"
  },
  {
   "metadata": {},
   "cell_type": "code",
   "outputs": [],
   "execution_count": null,
   "source": [
    "census_df = pd.read_csv('/content/drive/MyDrive/Complex labs/Lab1 - Introduction/census.csv')\n",
    "census_df.head()"
   ],
   "id": "1098c6ac942890be"
  },
  {
   "metadata": {},
   "cell_type": "markdown",
   "source": [
    "#### a) Which state has the most counties in it?\n",
    "Answer with a pandas Series"
   ],
   "id": "4afda9a4935edc86"
  },
  {
   "metadata": {},
   "cell_type": "code",
   "outputs": [],
   "execution_count": null,
   "source": "census_df.groupby(['CTYNAME'])['CTYNAME'].count().idxmax()",
   "id": "92a48d057114bcfc"
  },
  {
   "metadata": {},
   "cell_type": "markdown",
   "source": "#### b) **Only looking at the two most populous counties for each state**, what are the five most populous states (in order of highest population to lowest population)? Use `CENSUS2010POP`.",
   "id": "f7a640aa5038e04a"
  },
  {
   "metadata": {},
   "cell_type": "code",
   "outputs": [],
   "execution_count": null,
   "source": [
    "countys = census_df.loc[census_df['SUMLEV'] == 50]\n",
    "countys['rank'] = countys.sort_values(['STNAME','CENSUS2010POP'],ascending=False).groupby(['STNAME']).cumcount()\n",
    "countys.loc[(countys['rank']==0) | (countys['rank']==1)].groupby(['STNAME'])['CENSUS2010POP'].sum().sort_values(ascending=False).head(5)"
   ],
   "id": "332cb254c0be15ef"
  },
  {
   "metadata": {},
   "cell_type": "markdown",
   "source": [
    "#### Which county has had the largest absolute change in population within the period 2010-2014?\n",
    "e.g. If County Population in the 5 year period is 100, 120, 80, 105, 100, 130, then its largest change in the period would be |130-100| = 30."
   ],
   "id": "7b9430cfdc6cc335"
  },
  {
   "metadata": {},
   "cell_type": "code",
   "outputs": [],
   "execution_count": null,
   "source": [
    "census_df['diff1110'] = census_df['POPESTIMATE2011'] - census_df['POPESTIMATE2010']\n",
    "census_df['diff1211'] = census_df['POPESTIMATE2012'] - census_df['POPESTIMATE2011']\n",
    "census_df['diff1312'] = census_df['POPESTIMATE2013'] - census_df['POPESTIMATE2012']\n",
    "census_df['diff1413'] = census_df['POPESTIMATE2014'] - census_df['POPESTIMATE2013']\n",
    "census_df[['CTYNAME','diff1110', 'diff1211','diff1312','diff1413']].max(numeric_only=True).idxmax()\n",
    "census_df.loc[census_df[census_df[['CTYNAME','diff1110', 'diff1211','diff1312','diff1413']].max(numeric_only=True).idxmax()]== census_df[['CTYNAME','diff1110', 'diff1211','diff1312','diff1413']].max(numeric_only=True).max()]['STNAME']\n"
   ],
   "id": "96f399d3c88f536e"
  },
  {
   "metadata": {},
   "cell_type": "markdown",
   "source": [
    "## Task 2\n",
    "\n",
    "In census datafile, we have many regions choosen with *REGION* column.\n",
    "\n",
    "Create a query that finds the counties that belong to regions 1 or 3, whose name starts with 'W', and whose Y = POPESTIMATE201(```your_idx[-1] % 5```) was greater than their POPESTIMATE2014.\n",
    "\n",
    "*This function should return a DataFrame with the columns = ['STNAME', 'CTYNAME', Y, 'POPESTIMATE2014'] and the same index ID as the census_df (sorted ascending by index).*"
   ],
   "id": "8780c462cea31957"
  },
  {
   "metadata": {},
   "cell_type": "code",
   "outputs": [],
   "execution_count": null,
   "source": [
    "census_df['Y'] = census_df['POPESTIMATE2013'] > census_df['POPESTIMATE2014']\n",
    "data = census_df.loc[((census_df.REGION == 1) | (census_df.REGION == 3)) & (census_df.CTYNAME.astype(str).str[0] == 'W') & (census_df.Y == True) ]\n",
    "print(data[['STNAME', 'CTYNAME', 'Y', 'POPESTIMATE2014']].sort_index())"
   ],
   "id": "633b4ad8171a8eb8"
  },
  {
   "metadata": {},
   "cell_type": "markdown",
   "source": "## Taks 3",
   "id": "6252aa8c9af8c6d7"
  },
  {
   "metadata": {},
   "cell_type": "code",
   "outputs": [],
   "execution_count": null,
   "source": [
    "users = pd.read_table('https://raw.githubusercontent.com/justmarkham/DAT8/master/data/u.user',\n",
    "            sep         =   '|',\n",
    "            index_col   =   'user_id')\n",
    "users"
   ],
   "id": "4c4d2d016cd46f7a"
  },
  {
   "metadata": {},
   "cell_type": "markdown",
   "source": "#### a) mean age per occupation",
   "id": "3cdf8b110efc08d0"
  },
  {
   "metadata": {},
   "cell_type": "code",
   "outputs": [],
   "execution_count": null,
   "source": "users.groupby(['occupation'])['age'].mean()",
   "id": "7ca58ad6d3bb7478"
  },
  {
   "metadata": {},
   "cell_type": "markdown",
   "source": "#### b) winning gender per age interval of 5 years",
   "id": "2677981e3d075f02"
  },
  {
   "metadata": {},
   "cell_type": "code",
   "outputs": [],
   "execution_count": null,
   "source": [
    "users['my_col_bin'] = pd.cut(x=users['age'], bins=range(users.age.min(), users.age.max(), 5))\n",
    "data = users.groupby(['my_col_bin', 'gender'])['zip_code'].count()\n",
    "data.groupby(['my_col_bin']).idxmax()"
   ],
   "id": "ad77a30db24afa4d"
  },
  {
   "metadata": {},
   "cell_type": "markdown",
   "source": "#### d) Discover the Female ratio per occupation and sort it from the most to the least\n",
   "id": "a67fae0f4d9cf453"
  },
  {
   "metadata": {
    "jupyter": {
     "is_executing": true
    }
   },
   "cell_type": "code",
   "source": [
    "data = users.loc[users['gender'] == 'F']\n",
    "data = data.groupby(['occupation','gender'])['zip_code'].count()\n",
    "data_whole = users.groupby(['occupation'])['zip_code'].count()\n",
    "result = (data/data_whole)\n",
    "result.sort_values(ascending=False)"
   ],
   "id": "7b5928ce4dc45e4a",
   "outputs": [],
   "execution_count": null
  },
  {
   "metadata": {},
   "cell_type": "markdown",
   "source": "#### e) Calculate minimum and maximum ages for each occupation",
   "id": "ba6f1bb7d9c0bb6f"
  },
  {
   "metadata": {},
   "cell_type": "code",
   "outputs": [],
   "execution_count": null,
   "source": "users[['occupation', 'age']].groupby(['occupation']).agg(['min', 'max'], axis=\"columns\")",
   "id": "7a5e35ccb8208b5e"
  },
  {
   "metadata": {},
   "cell_type": "markdown",
   "source": [
    "## Task 4\n",
    "\n",
    "#### a) For each combination of occupation and gender, calculate the mean age"
   ],
   "id": "5140e26c356ac8f3"
  },
  {
   "metadata": {},
   "cell_type": "code",
   "outputs": [],
   "execution_count": null,
   "source": "users.groupby(['occupation', 'gender'])['age'].mean()",
   "id": "e1cb87c293da969a"
  },
  {
   "metadata": {},
   "cell_type": "markdown",
   "source": "#### b)  For each occupation present the percentage of women and men",
   "id": "2e37ea1e24d44ca1"
  },
  {
   "metadata": {},
   "cell_type": "code",
   "outputs": [],
   "execution_count": null,
   "source": [
    "data = users.groupby(['occupation','gender'])['zip_code'].count()\n",
    "data_whole = users.groupby(['occupation'])['zip_code'].count()\n",
    "(data/data_whole)*100"
   ],
   "id": "2470709461639e8c"
  },
  {
   "metadata": {},
   "cell_type": "markdown",
   "source": "## Mergin'",
   "id": "f6be107b3aa3822e"
  },
  {
   "metadata": {},
   "cell_type": "code",
   "outputs": [],
   "execution_count": null,
   "source": [
    "# fun\n",
    "s1 = pd.Series(np.random.randint(1, high=12, size=100, dtype='l'))\n",
    "s2 = pd.Series(np.random.binomial(123, 0.3, 1000))\n",
    "s3 = pd.Series(np.random.randint(10000, high=30001, size=100, dtype='l'))"
   ],
   "id": "324cb13f75e0f2f0"
  },
  {
   "metadata": {},
   "cell_type": "markdown",
   "source": [
    "### Task 1\n",
    "\n",
    "#### a) Join them guys into DataFrame by column"
   ],
   "id": "2ea2d28bf0a9edc4"
  },
  {
   "metadata": {},
   "cell_type": "code",
   "outputs": [],
   "execution_count": null,
   "source": [
    "df = pd.concat([s1, s2, s3], axis=1)\n",
    "df"
   ],
   "id": "b8978cb2166ec68"
  },
  {
   "metadata": {},
   "cell_type": "markdown",
   "source": "#### b) Fill NaNs value from 1 to 9 for first column and a big integer for the last one",
   "id": "5cc7fa20b0ef3e7e"
  },
  {
   "metadata": {},
   "cell_type": "code",
   "outputs": [],
   "execution_count": null,
   "source": [
    "df[0] = df[0].fillna(np.random.randint(1, 9))\n",
    "df[2] = df[2].fillna(np.random.binomial(1231512, 0.1))\n",
    "df"
   ],
   "id": "550abe1b7b1f57c0"
  },
  {
   "metadata": {},
   "cell_type": "markdown",
   "source": "#### c) Change the name of the columns to `floors`, `security workers` and `electricity bill`",
   "id": "92a9f5f507219a0e"
  },
  {
   "metadata": {},
   "cell_type": "code",
   "outputs": [],
   "execution_count": null,
   "source": [
    "df.rename(columns = {0: 'floors', 1: 'security workers', 2: 'electricity bill'}, inplace=True)\n",
    "df"
   ],
   "id": "e8f8fdc3b0d81896"
  },
  {
   "metadata": {},
   "cell_type": "markdown",
   "source": [
    "### Task 2\n",
    "\n",
    "#### a) Create a one column DataFrame with the values of the 3 Series and assign it to 'bigcolumn'"
   ],
   "id": "c663d1f9524df577"
  },
  {
   "metadata": {},
   "cell_type": "code",
   "outputs": [],
   "execution_count": null,
   "source": [
    "# join concat the values\n",
    "bigcolumn = pd.concat([s1, s2, s3], axis=0)\n",
    "\n",
    "# it is still a Series, so we need to transform it to a DataFrame\n",
    "bigcolumn = bigcolumn.to_frame()\n",
    "print(type(bigcolumn))\n",
    "\n",
    "bigcolumn"
   ],
   "id": "7bd4b2201c6a0285"
  },
  {
   "metadata": {},
   "cell_type": "markdown",
   "source": "#### b) Something's off with index, isn't it? Repair it",
   "id": "c33c3dac50d76aaa"
  },
  {
   "metadata": {},
   "cell_type": "code",
   "outputs": [],
   "execution_count": null,
   "source": "bigcolumn.shape",
   "id": "1bfedf900b435678"
  },
  {
   "metadata": {},
   "cell_type": "code",
   "outputs": [],
   "execution_count": null,
   "source": [
    "bigcolumn.reset_index(drop=True, inplace=True)\n",
    "bigcolumn"
   ],
   "id": "3450f0b818b931c9"
  },
  {
   "metadata": {},
   "cell_type": "markdown",
   "source": "## <center>Apply</center>",
   "id": "3d07389409b5170c"
  },
  {
   "metadata": {},
   "cell_type": "code",
   "outputs": [],
   "execution_count": null,
   "source": [
    "csv_url     = 'https://raw.githubusercontent.com/guipsamora/pandas_exercises/master/04_Apply/Students_Alcohol_Consumption/student-mat.csv'\n",
    "df          = pd.read_csv(csv_url)\n",
    "df.head()"
   ],
   "id": "12d7b1e40b07619a"
  },
  {
   "metadata": {},
   "cell_type": "code",
   "outputs": [],
   "execution_count": null,
   "source": "df.describe()",
   "id": "5a539d7d3f2f5340"
  },
  {
   "metadata": {},
   "cell_type": "code",
   "outputs": [],
   "execution_count": null,
   "source": "df.info()",
   "id": "61da51323cbd74be"
  },
  {
   "metadata": {},
   "cell_type": "code",
   "outputs": [],
   "execution_count": null,
   "source": [
    "stud_alcoh = df.loc[: , \"school\":\"guardian\"]\n",
    "stud_alcoh.head()"
   ],
   "id": "fcacd2a4c33941cb"
  },
  {
   "metadata": {},
   "cell_type": "markdown",
   "source": [
    "### Task 1\n",
    "\n",
    "#### a) Create lambda function to capitalize strings."
   ],
   "id": "3cd8a8c439e42fda"
  },
  {
   "metadata": {},
   "cell_type": "code",
   "outputs": [],
   "execution_count": null,
   "source": "capitalizer = lambda x: x.capitalize()",
   "id": "2aeff6a3166aef2d"
  },
  {
   "metadata": {},
   "cell_type": "markdown",
   "source": "#### b) apply!",
   "id": "14f85dec1b1ed33d"
  },
  {
   "metadata": {},
   "cell_type": "code",
   "outputs": [],
   "execution_count": null,
   "source": [
    "stud_alcoh['Mjob'] = stud_alcoh['Mjob'].apply(capitalizer)\n",
    "stud_alcoh['Fjob'] = stud_alcoh['Fjob'].apply(capitalizer)"
   ],
   "id": "b54581522677b29f"
  },
  {
   "metadata": {},
   "cell_type": "code",
   "outputs": [],
   "execution_count": null,
   "source": "stud_alcoh.tail()",
   "id": "b5f03a6af175db09"
  },
  {
   "metadata": {},
   "cell_type": "markdown",
   "source": [
    "### Task 2\n",
    "\n",
    "#### a)  Create a function called majority that returns a boolean value to a new column called legal_drinker (Consider majority as older than 15 years old)"
   ],
   "id": "686f987a5a920847"
  },
  {
   "metadata": {},
   "cell_type": "code",
   "outputs": [],
   "execution_count": null,
   "source": [
    "major = 18\n",
    "\n",
    "def majority(x):\n",
    "    if x > major:\n",
    "        return True\n",
    "    else:\n",
    "        return False"
   ],
   "id": "5aca31fd7c83c8c7"
  },
  {
   "metadata": {},
   "cell_type": "code",
   "outputs": [],
   "execution_count": null,
   "source": [
    "stud_alcoh['legal_drinker'] = stud_alcoh['age'].apply(majority)\n",
    "stud_alcoh.head()"
   ],
   "id": "a33b02ac8260a484"
  },
  {
   "metadata": {},
   "cell_type": "markdown",
   "source": "#### Multiply every number of the dataset by 5",
   "id": "1bb2360c187c9c13"
  },
  {
   "metadata": {
    "jupyter": {
     "is_executing": true
    }
   },
   "cell_type": "code",
   "source": "stud_alcoh.applymap(lambda x: x*5 if type(x) is int else x).head(10)",
   "id": "f9ab6febabb3b8ce",
   "outputs": [],
   "execution_count": null
  },
  {
   "metadata": {},
   "cell_type": "markdown",
   "source": "Max always loved adding gif in notebooks so I will add his last for pandas notebook.",
   "id": "f8e2417b3b34bb36"
  },
  {
   "metadata": {},
   "cell_type": "markdown",
   "source": [
    "# <center>That's all folks</center>\n",
    "<center><img src = https://acegif.com/wp-content/uploads/gif/panda-8.gif></center>"
   ],
   "id": "2392858d116e283e"
  },
  {
   "metadata": {},
   "cell_type": "code",
   "outputs": [],
   "execution_count": null,
   "source": "",
   "id": "3ef8779a0a2020d2"
  }
 ],
 "metadata": {
  "kernelspec": {
   "display_name": "Python 3",
   "language": "python",
   "name": "python3"
  },
  "language_info": {
   "codemirror_mode": {
    "name": "ipython",
    "version": 2
   },
   "file_extension": ".py",
   "mimetype": "text/x-python",
   "name": "python",
   "nbconvert_exporter": "python",
   "pygments_lexer": "ipython2",
   "version": "2.7.6"
  }
 },
 "nbformat": 4,
 "nbformat_minor": 5
}
